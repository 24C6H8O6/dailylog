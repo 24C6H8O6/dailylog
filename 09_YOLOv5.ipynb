{
  "nbformat": 4,
  "nbformat_minor": 0,
  "metadata": {
    "colab": {
      "provenance": [],
      "collapsed_sections": []
    },
    "kernelspec": {
      "name": "python3",
      "display_name": "Python 3"
    },
    "language_info": {
      "name": "python"
    },
    "accelerator": "GPU"
  },
  "cells": [
    {
      "cell_type": "code",
      "execution_count": null,
      "metadata": {
        "id": "2RyhlXCeTVc2"
      },
      "outputs": [],
      "source": [
        "# roboflow의 데이터 가져오기\n",
        "!curl -L \"https://app.roboflow.com/ds/2EDLDeaEZ5?key=QDkM0MqY7n\" > roboflow.zip; unzip roboflow.zip; rm roboflow.zip"
      ]
    },
    {
      "cell_type": "code",
      "source": [
        "%pwd # print woriking directory\n"
      ],
      "metadata": {
        "id": "h3O5Im-4VQ7d",
        "colab": {
          "base_uri": "https://localhost:8080/",
          "height": 35
        },
        "outputId": "d1ccbb5c-ee3c-4ae9-f9f2-ea4164d1f98b"
      },
      "execution_count": null,
      "outputs": [
        {
          "output_type": "execute_result",
          "data": {
            "text/plain": [
              "'/content'"
            ],
            "application/vnd.google.colaboratory.intrinsic+json": {
              "type": "string"
            }
          },
          "metadata": {},
          "execution_count": 3
        }
      ]
    },
    {
      "cell_type": "code",
      "source": [
        "# github에 있는 파일 다운로드\n",
        "!git clone https://github.com/ultralytics/yolov5"
      ],
      "metadata": {
        "id": "8d_-nvSZVRO9",
        "colab": {
          "base_uri": "https://localhost:8080/"
        },
        "outputId": "833cc430-e495-4328-fb1b-85c361a034f2"
      },
      "execution_count": null,
      "outputs": [
        {
          "output_type": "stream",
          "name": "stdout",
          "text": [
            "Cloning into 'yolov5'...\n",
            "remote: Enumerating objects: 14298, done.\u001b[K\n",
            "remote: Counting objects: 100% (104/104), done.\u001b[K\n",
            "remote: Compressing objects: 100% (69/69), done.\u001b[K\n",
            "remote: Total 14298 (delta 61), reused 70 (delta 35), pack-reused 14194\u001b[K\n",
            "Receiving objects: 100% (14298/14298), 13.39 MiB | 18.33 MiB/s, done.\n",
            "Resolving deltas: 100% (9876/9876), done.\n"
          ]
        }
      ]
    },
    {
      "cell_type": "code",
      "source": [
        "# yolo를 사용하는데 필요한 라이브러리 설치하기\n",
        "# requirements.txt 안에 적혀있음\n",
        "%cd /content/yolov5\n",
        "!pip install -r requirements.txt"
      ],
      "metadata": {
        "id": "_ocMsNUfVRR-"
      },
      "execution_count": null,
      "outputs": []
    },
    {
      "cell_type": "code",
      "source": [
        "%pwd"
      ],
      "metadata": {
        "id": "LJIOXbPMVRl8",
        "colab": {
          "base_uri": "https://localhost:8080/",
          "height": 35
        },
        "outputId": "308f3b08-fa7e-45f0-abf0-fcb7f81a9066"
      },
      "execution_count": null,
      "outputs": [
        {
          "output_type": "execute_result",
          "data": {
            "text/plain": [
              "'/content/yolov5'"
            ],
            "application/vnd.google.colaboratory.intrinsic+json": {
              "type": "string"
            }
          },
          "metadata": {},
          "execution_count": 6
        }
      ]
    },
    {
      "cell_type": "code",
      "source": [
        "%cd ../\n",
        "%pwd"
      ],
      "metadata": {
        "id": "xmjB4lRWVRT4",
        "colab": {
          "base_uri": "https://localhost:8080/",
          "height": 53
        },
        "outputId": "9acea565-9b9c-47f3-cf68-a7e9a6ce97cf"
      },
      "execution_count": null,
      "outputs": [
        {
          "output_type": "stream",
          "name": "stdout",
          "text": [
            "/content\n"
          ]
        },
        {
          "output_type": "execute_result",
          "data": {
            "text/plain": [
              "'/content'"
            ],
            "application/vnd.google.colaboratory.intrinsic+json": {
              "type": "string"
            }
          },
          "metadata": {},
          "execution_count": 7
        }
      ]
    },
    {
      "cell_type": "code",
      "source": [
        "# make directory\n",
        "%mkdir dataset"
      ],
      "metadata": {
        "id": "pD1GOyO2YZRV"
      },
      "execution_count": null,
      "outputs": []
    },
    {
      "cell_type": "code",
      "source": [
        "# move\n",
        "%mv ./README.dataset.txt ./README.roboflow.txt ./data.yaml train test valid /content/dataset"
      ],
      "metadata": {
        "id": "CDQRCMLIYZO0"
      },
      "execution_count": null,
      "outputs": []
    },
    {
      "cell_type": "code",
      "source": [
        "# 파일 내용 보기\n",
        "%cat /content/dataset/data.yaml"
      ],
      "metadata": {
        "colab": {
          "base_uri": "https://localhost:8080/"
        },
        "id": "8M83NyZbYZMm",
        "outputId": "7afa11ce-2856-4976-8ee2-4becd8303c37"
      },
      "execution_count": null,
      "outputs": [
        {
          "output_type": "stream",
          "name": "stdout",
          "text": [
            "train: ../train/images\n",
            "val: ../valid/images\n",
            "\n",
            "nc: 2\n",
            "names: ['cat', 'dog']"
          ]
        }
      ]
    },
    {
      "cell_type": "code",
      "source": [
        "# 파일의 모든 경로가 담긴 txt파일 만들기"
      ],
      "metadata": {
        "id": "ZR2gTt2YYZKa"
      },
      "execution_count": null,
      "outputs": []
    },
    {
      "cell_type": "code",
      "source": [
        "# 많은 파일들을 다룰때 사용\n",
        "from glob import glob\n",
        "\n",
        "train_img_list = glob('/content/dataset/train/images/*.jpg')\n",
        "test_img_list = glob('/content/dataset/test/images/*.jpg')\n",
        "valid_img_list = glob('/content/dataset/valid/images/*.jpg')\n",
        "len(valid_img_list)"
      ],
      "metadata": {
        "colab": {
          "base_uri": "https://localhost:8080/"
        },
        "id": "zMKG4_dlYZIM",
        "outputId": "a48e7278-8151-46d0-c263-5e588d1f2583"
      },
      "execution_count": null,
      "outputs": [
        {
          "output_type": "execute_result",
          "data": {
            "text/plain": [
              "39"
            ]
          },
          "metadata": {},
          "execution_count": 11
        }
      ]
    },
    {
      "cell_type": "code",
      "source": [
        "valid_img_list"
      ],
      "metadata": {
        "colab": {
          "base_uri": "https://localhost:8080/"
        },
        "id": "fcsPvziFgwPA",
        "outputId": "f33755f9-96ac-48de-c114-213fa6aa2b8e"
      },
      "execution_count": null,
      "outputs": [
        {
          "output_type": "execute_result",
          "data": {
            "text/plain": [
              "['/content/dataset/valid/images/cat-65_jpg.rf.6fee740fb854c9900ffa9ef0eb5d9d1b.jpg',\n",
              " '/content/dataset/valid/images/dog-45_jpg.rf.b92aa3f94eedf1e1e3a4f2f432c03b12.jpg',\n",
              " '/content/dataset/valid/images/cat-83_jpg.rf.265af9b85f5af55a55cef5f03806908f.jpg',\n",
              " '/content/dataset/valid/images/dog-93_jpg.rf.e0ff277479027d40774a4551ee9e4cbc.jpg',\n",
              " '/content/dataset/valid/images/cat-99_jpg.rf.3c1e54a72a09c8ce48b8f3f8fbe1f573.jpg',\n",
              " '/content/dataset/valid/images/dog-29_jpg.rf.71f2cc1a535390f8e6fe7731a6c4010e.jpg',\n",
              " '/content/dataset/valid/images/cat-50_jpg.rf.f99c6808388cb31eeebfdbc2bb8764f7.jpg',\n",
              " '/content/dataset/valid/images/dog-14_jpg.rf.7be5e8212946e0dd69652e107e38c503.jpg',\n",
              " '/content/dataset/valid/images/cat-44_jpg.rf.f7efa6e106c90fb4d9d9c5768dceeae1.jpg',\n",
              " '/content/dataset/valid/images/dog-38_jpg.rf.011be086228b7cd2540203100954fb9a.jpg',\n",
              " '/content/dataset/valid/images/dog-28_jpg.rf.21785fbed62472f95c5750bb2faa99d0.jpg',\n",
              " '/content/dataset/valid/images/cat-33_jpg.rf.9f4af4e87eb9f957e0b0a1a420a02b7e.jpg',\n",
              " '/content/dataset/valid/images/dog-20_jpg.rf.bd63106916ca542b8adfce000bdcf2e2.jpg',\n",
              " '/content/dataset/valid/images/dog-33_jpg.rf.7daecda42e97cabae45f1e1ef072c510.jpg',\n",
              " '/content/dataset/valid/images/dog-67_jpg.rf.6d1ff9cb227af965c587b3261f5a74a3.jpg',\n",
              " '/content/dataset/valid/images/dog-54_jpg.rf.292afabdbb9fa1d90656a353745ab7fe.jpg',\n",
              " '/content/dataset/valid/images/cat-68_jpg.rf.67093df72946fed9a2b7eef279a16fb0.jpg',\n",
              " '/content/dataset/valid/images/cat-90_jpg.rf.6828df4bdb6bc10658bc0d317a5e3982.jpg',\n",
              " '/content/dataset/valid/images/cat-67_jpg.rf.0d7da8b3281d53ddbb3411fb1b3181d6.jpg',\n",
              " '/content/dataset/valid/images/dog-73_jpg.rf.e831c89ca42bd21014fc1b05ad120760.jpg',\n",
              " '/content/dataset/valid/images/cat-0_jpg.rf.2bd02e804430bfb6c871aa8aeb300366.jpg',\n",
              " '/content/dataset/valid/images/cat-57_jpg.rf.c77f3697dbe0e0c0b80f6ed73aa19487.jpg',\n",
              " '/content/dataset/valid/images/dog-47_jpg.rf.b8f8239594b835b9b9835682ed6282c0.jpg',\n",
              " '/content/dataset/valid/images/cat-63_jpg.rf.8c757b7ce422e3dafa73dc491f86c75b.jpg',\n",
              " '/content/dataset/valid/images/dog-16_jpg.rf.3137a115d822c8cce879a4b382c649aa.jpg',\n",
              " '/content/dataset/valid/images/cat-12_jpg.rf.fb303239729cd0f65df11e6f1a3eb57d.jpg',\n",
              " '/content/dataset/valid/images/cat-80_jpg.rf.b962c7516daf9c6e865eee34a9bf57da.jpg',\n",
              " '/content/dataset/valid/images/cat-59_jpg.rf.c863be1de24bcd49601dd81ab7a3fe49.jpg',\n",
              " '/content/dataset/valid/images/cat-61_jpg.rf.6ab42e2632f32724a4d377565c4e6d90.jpg',\n",
              " '/content/dataset/valid/images/dog-60_jpg.rf.fa93c8717f11e143fae5bc565f6d1c87.jpg',\n",
              " '/content/dataset/valid/images/dog-39_jpg.rf.4aa8076b14b72b759744913426ae47de.jpg',\n",
              " '/content/dataset/valid/images/cat-28_jpg.rf.fff943eb14a5a50b203ed18c97d71ff5.jpg',\n",
              " '/content/dataset/valid/images/dog-66_jpg.rf.1a3337e13effdbd89559c24fa971a65d.jpg',\n",
              " '/content/dataset/valid/images/dog-87_jpg.rf.9657207dd5a4ef7e9a9239b0ad3038ea.jpg',\n",
              " '/content/dataset/valid/images/dog-36_jpg.rf.636fddc29c1776baa0a5de2404eb2100.jpg',\n",
              " '/content/dataset/valid/images/dog-76_jpg.rf.53771794f0dc06077547e5e648577a56.jpg',\n",
              " '/content/dataset/valid/images/dog-96_jpg.rf.e1a02cf530ac26ad322e0d00b15afe96.jpg',\n",
              " '/content/dataset/valid/images/cat-89_jpg.rf.d63511d8fee0429c092a2cd09c86cd68.jpg',\n",
              " '/content/dataset/valid/images/cat-29_jpg.rf.8cc7c9814607454d62a798570d05c4da.jpg']"
            ]
          },
          "metadata": {},
          "execution_count": 14
        }
      ]
    },
    {
      "cell_type": "code",
      "source": [
        "# 모든 이미지 경로를 하나의 파일에 담아줌\n",
        "# train.txt, val.txt 파일에 각각 담아줌\n",
        "with open('/content/dataset/train.txt', 'w') as f:\n",
        "  f.write('\\n'.join(train_img_list) + '\\n')\n",
        "\n",
        "with open('/content/dataset/val.txt', 'w') as f:\n",
        "  f.write('\\n'.join(valid_img_list) + '\\n')"
      ],
      "metadata": {
        "id": "tr3d1_CqYZFs"
      },
      "execution_count": null,
      "outputs": []
    },
    {
      "cell_type": "code",
      "source": [
        "# data.yaml 파일 불러와서 수정\n",
        "import yaml\n",
        "\n",
        "with open('/content/dataset/data.yaml','r') as f:\n",
        "  data = yaml.safe_load(f)\n",
        "\n",
        "print(data)"
      ],
      "metadata": {
        "colab": {
          "base_uri": "https://localhost:8080/"
        },
        "id": "egB4nS9bYZCc",
        "outputId": "ef15a49f-03a3-41e4-adcd-a948e74cbb78"
      },
      "execution_count": null,
      "outputs": [
        {
          "output_type": "stream",
          "name": "stdout",
          "text": [
            "{'train': '/content/dataset/train.txt', 'val': '../valid/images', 'nc': 2, 'names': ['cat', 'dog']}\n"
          ]
        }
      ]
    },
    {
      "cell_type": "code",
      "source": [
        "data['train'] = '/content/dataset/train.txt'\n",
        "data['val'] = '/content/dataset/val.txt'\n",
        "data"
      ],
      "metadata": {
        "colab": {
          "base_uri": "https://localhost:8080/"
        },
        "id": "pr4fUBVphPx9",
        "outputId": "3bc7c3bc-dccf-4372-8e80-ab6b6b6c7c97"
      },
      "execution_count": null,
      "outputs": [
        {
          "output_type": "execute_result",
          "data": {
            "text/plain": [
              "{'train': '/content/dataset/train.txt',\n",
              " 'val': '/content/dataset/val.txt',\n",
              " 'nc': 2,\n",
              " 'names': ['cat', 'dog']}"
            ]
          },
          "metadata": {},
          "execution_count": 17
        }
      ]
    },
    {
      "cell_type": "code",
      "source": [
        "# data를 yaml파일에 덮어쓰기\n",
        "with open('/content/dataset/data.yaml','w') as f:\n",
        "  yaml.dump(data,f)"
      ],
      "metadata": {
        "id": "-LopTWj4ihu8"
      },
      "execution_count": null,
      "outputs": []
    }
  ]
}