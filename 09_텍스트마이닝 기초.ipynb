{
 "cells": [
  {
   "cell_type": "markdown",
   "id": "ffab711c",
   "metadata": {},
   "source": [
    "### NLP vs Text Mining\n",
    "- NLP : 인간의 언어를 이해하는데 집중된 학문(음성인식, AI비서, 챗봇)\n",
    "- Text Mining : 비정형 텍스트데이터에서 의미 있는 정보를 추출하는 학문"
   ]
  },
  {
   "cell_type": "markdown",
   "id": "a1ce3d86",
   "metadata": {},
   "source": [
    "### Text Mining 종류\n",
    "- 텍스트 분류 : 텍스트가 속하는 카테고리를 분류하는 분석\n",
    "- 감성분석 : 텍스트에서 나타나는 감정/기분/의견 등을 분석\n",
    "- 텍스트 요약 : 텍스트에서 중요한 주제를 나타내는 키워드, 문장 등을 추출/생성\n",
    "- 텍스트 군집화와 유사도측정 : 텍스트의 비슷한 정도를 측정하고 그룹핑하는 분석"
   ]
  },
  {
   "cell_type": "markdown",
   "id": "87a63639",
   "metadata": {},
   "source": [
    "### 텍스트 분석 프로세스\n",
    "1. 텍스트 전처리\n",
    "    - 클렌징(대/소문자 변경, 특수문자 삭제)\n",
    "    - 토큰화 : 텍스트를 잘게 쪼개는 작업\n",
    "    - Stop word(불용어) 제거\n",
    "    - 어근추출(Stemming/Lemmatization)\n",
    "        - 영어 : nltk\n",
    "        - 한국어 : konlpy(형태소분석기)\n",
    "2. 피처 벡터화/추출 : 정형화 작업, 글자에서 정해진 알고리즘에 따라 숫자로 변경\n",
    "   - 단순 언어 빈도\n",
    "   - BOW(Bag of Word)\n",
    "   - tf-idf\n",
    "   - word embedding(워드임베딩)\n",
    "   - BPE(바이트페어인코딩)\n",
    "3. ML 학습/예측/평가"
   ]
  },
  {
   "cell_type": "markdown",
   "id": "f287b6fc",
   "metadata": {},
   "source": [
    "### 데이터 로딩"
   ]
  },
  {
   "cell_type": "code",
   "execution_count": null,
   "id": "3984ec84",
   "metadata": {},
   "outputs": [],
   "source": [
    "import pandas as pd\n",
    "pd.set_option(\"display.max_colwidth\", 100)   # 컬럼의 너비를 조정해서 긴 리뷰를 볼 수 있음"
   ]
  },
  {
   "cell_type": "code",
   "execution_count": null,
   "id": "5b6b0c54",
   "metadata": {},
   "outputs": [],
   "source": [
    "train = pd.read_csv(\"./data/ratings_train.txt\", delimiter=\"\\t\")\n",
    "test = pd.read_csv(\"./data/ratings_test.txt\", delimiter=\"\\t\")"
   ]
  },
  {
   "cell_type": "code",
   "execution_count": null,
   "id": "38c62689",
   "metadata": {
    "scrolled": true
   },
   "outputs": [],
   "source": [
    "display(\"Train data\")\n",
    "display(train.head())\n",
    "display(\"Test data\")\n",
    "display(test.head())"
   ]
  },
  {
   "cell_type": "markdown",
   "id": "be2d729b",
   "metadata": {},
   "source": [
    "#### 결측치 확인"
   ]
  },
  {
   "cell_type": "code",
   "execution_count": null,
   "id": "0dfabd55",
   "metadata": {},
   "outputs": [],
   "source": [
    "display(train.info())\n",
    "display(test.info())"
   ]
  },
  {
   "cell_type": "markdown",
   "id": "8bbb6032",
   "metadata": {},
   "source": [
    "#### 결측치 데이터 삭제"
   ]
  },
  {
   "cell_type": "code",
   "execution_count": null,
   "id": "fddf6d28",
   "metadata": {},
   "outputs": [],
   "source": [
    "train.dropna(inplace=True)\n",
    "test.dropna(inplace=True)"
   ]
  },
  {
   "cell_type": "code",
   "execution_count": null,
   "id": "ae1c592f",
   "metadata": {},
   "outputs": [],
   "source": [
    "train.shape, test.shape"
   ]
  },
  {
   "cell_type": "markdown",
   "id": "b1cb84cb",
   "metadata": {},
   "source": [
    "### 텍스트 분석시 사용하는 단어\n",
    "- 말뭉치(corpus) : 텍스트분석을 위해 모은 데이터셋\n",
    "- 문서(document) : 말뭉치 안에 텍스트를 지칭하는 단위"
   ]
  },
  {
   "cell_type": "markdown",
   "id": "fbb181ef",
   "metadata": {},
   "source": [
    "### 단어빈도 분석\n",
    "- 워드카운트 : 단어의 등장 빈도를 측정하는 알고리즘"
   ]
  },
  {
   "cell_type": "code",
   "execution_count": null,
   "id": "956b71e9",
   "metadata": {},
   "outputs": [],
   "source": [
    "text_train = train['document']"
   ]
  },
  {
   "cell_type": "code",
   "execution_count": null,
   "id": "d51b56a3",
   "metadata": {
    "scrolled": true
   },
   "outputs": [],
   "source": [
    "text_train"
   ]
  },
  {
   "cell_type": "code",
   "execution_count": null,
   "id": "f1218b80",
   "metadata": {},
   "outputs": [],
   "source": [
    "textList=[]\n",
    "text_train[0].split().append(textList)\n",
    "textList"
   ]
  },
  {
   "cell_type": "code",
   "execution_count": null,
   "id": "5edccefb",
   "metadata": {},
   "outputs": [],
   "source": [
    "# 토큰화\n",
    "# 띄어쓰기 단위로 모든 문장을 쪼개서 리스트에 넣어보자.\n",
    "\n",
    "tmp = [doc.split(\" \") for doc in text_train]\n",
    "token_list = []\n",
    "for t in tmp:\n",
    "    token_list += t"
   ]
  },
  {
   "cell_type": "code",
   "execution_count": null,
   "id": "0991d3a4",
   "metadata": {},
   "outputs": [],
   "source": [
    "token_list"
   ]
  },
  {
   "cell_type": "code",
   "execution_count": null,
   "id": "03033c1c",
   "metadata": {},
   "outputs": [],
   "source": [
    "import itertools\n",
    "text_train_list=[]\n",
    "for i in text_train:\n",
    "    i = i.split(\" \")\n",
    "    text_train_list.append(i)\n",
    "token_list = list(itertools.chain(*text_train_list))\n",
    "token_list"
   ]
  },
  {
   "cell_type": "code",
   "execution_count": null,
   "id": "86d6124f",
   "metadata": {},
   "outputs": [],
   "source": [
    "from collections import Counter\n",
    "counter = Counter(token_list)\n",
    "counter.most_common(40)"
   ]
  },
  {
   "cell_type": "code",
   "execution_count": null,
   "id": "786cdfce",
   "metadata": {},
   "outputs": [],
   "source": [
    "# 토큰화 ver2\n",
    "token_list = [t for doc in text_train for t in doc.split(\" \")]"
   ]
  },
  {
   "cell_type": "markdown",
   "id": "147b1b20",
   "metadata": {},
   "source": [
    "#### 워드클라우드\n",
    "- 단어의 빈도를 기반으로 크기를 조절해 시각화하는 방법"
   ]
  },
  {
   "cell_type": "code",
   "execution_count": null,
   "id": "017c49dd",
   "metadata": {},
   "outputs": [],
   "source": [
    "# !pip install wordcloud"
   ]
  },
  {
   "cell_type": "code",
   "execution_count": null,
   "id": "f1566e1c",
   "metadata": {},
   "outputs": [],
   "source": [
    "from wordcloud import WordCloud  # 클래스"
   ]
  },
  {
   "cell_type": "code",
   "execution_count": null,
   "id": "0607149a",
   "metadata": {},
   "outputs": [],
   "source": [
    "wc = WordCloud(background_color=\"white\", font_path=\"C:\\Windows\\Fonts\\malgunsl.ttf\", random_state=802)"
   ]
  },
  {
   "cell_type": "code",
   "execution_count": null,
   "id": "e794da36",
   "metadata": {},
   "outputs": [],
   "source": [
    "reviews = \" \".join(token_list)   # 하나의 문자열로 변경"
   ]
  },
  {
   "cell_type": "code",
   "execution_count": null,
   "id": "482c835e",
   "metadata": {},
   "outputs": [],
   "source": [
    "cloud = wc.generate_from_text(reviews)"
   ]
  },
  {
   "cell_type": "code",
   "execution_count": null,
   "id": "5fc8f0f0",
   "metadata": {},
   "outputs": [],
   "source": [
    "import matplotlib.pyplot as plt"
   ]
  },
  {
   "cell_type": "code",
   "execution_count": null,
   "id": "d17d28d3",
   "metadata": {},
   "outputs": [],
   "source": [
    "plt.figure(figsize=(20,8))\n",
    "plt.imshow(cloud)\n",
    "plt.axis(\"off\")  # x축,y축 끄기\n",
    "plt.savefig(\"./naver_movie_wordcloud.jpg\")   # 그림저장\n",
    "plt.show()"
   ]
  },
  {
   "cell_type": "markdown",
   "id": "448c5796",
   "metadata": {},
   "source": [
    "### 단어 유사도 분석\n",
    "- gensim : word2vec, topic modeling 등 텍스트마이닝 알고리즘이 구현된 라이브러리\n",
    "- word2vec : 구글에서 발표한 단어 사이의 관계를 수치화하는 알고리즘"
   ]
  },
  {
   "cell_type": "code",
   "execution_count": null,
   "id": "d6b6caf7",
   "metadata": {},
   "outputs": [],
   "source": [
    "# !pip install gensim"
   ]
  },
  {
   "cell_type": "code",
   "execution_count": null,
   "id": "a29e909a",
   "metadata": {},
   "outputs": [],
   "source": [
    "from gensim.models import Word2Vec"
   ]
  },
  {
   "cell_type": "code",
   "execution_count": null,
   "id": "c6529a2b",
   "metadata": {},
   "outputs": [],
   "source": [
    "w2c = Word2Vec(window=5,          # 중심단어를 기준으로 주변에 몇개단어까지 관계성을 학습할지\n",
    "               min_count=5,       # 전체 말뭉치의 최소 등장 빈도 수 설정(최소빈도에 도달하지 못하면 학습단어로 사용X)\n",
    "               sg=1,              # 중심단어를 y, 주변단어를 x로 설정하는 알고리즘(skip-gram)\n",
    "               vector_size=100,   # 한 개의 단어를 몇 개의 숫자로 표현할건지\n",
    "                                  # 숫자가 커질수록 각 단어의 관계를 풍부하게 표현가능\n",
    "               sentences=[doc.split(\" \") for doc in text_train])"
   ]
  },
  {
   "cell_type": "code",
   "execution_count": null,
   "id": "721ed49f",
   "metadata": {},
   "outputs": [],
   "source": [
    "w2c.wv.get_vector(\"영화\")    # 영화를 표현하는 숫자(100개 숫자)"
   ]
  },
  {
   "cell_type": "code",
   "execution_count": null,
   "id": "35780331",
   "metadata": {},
   "outputs": [],
   "source": [
    "w2c.wv.most_similar(\"원빈\")"
   ]
  },
  {
   "cell_type": "markdown",
   "id": "faf11019",
   "metadata": {},
   "source": [
    "### 감성분석\n",
    "- 감성사전을 이용한 분석\n",
    "- 머신러닝을 이용한 분석\n",
    "   - 1. 토큰화 진행\n",
    "   - 2. BOW / tf-idf를 이용해 수치화(정형화)"
   ]
  },
  {
   "cell_type": "markdown",
   "id": "041be392",
   "metadata": {},
   "source": [
    "#### BOW\n",
    "- 문맥의 순서를 무시하고 단어의 빈도를 이용해 수치화하는 방법\n",
    "- 문맥의 순서를 무시하기 때문에 자연어처리에서는 부적합하다.\n",
    "- 하지만 일반 텍스트마이닝에서는 충분히 활용 가치가 있다."
   ]
  },
  {
   "cell_type": "markdown",
   "id": "dc4bab67",
   "metadata": {},
   "source": [
    "#### BOW 진행 순서\n",
    "1. 단어사전 구축\n",
    "2. 단어사전을 기반으로 각 문장에서 해당 단어가 등장하는 빈도를 측정"
   ]
  },
  {
   "cell_type": "code",
   "execution_count": null,
   "id": "b8ca5ead",
   "metadata": {},
   "outputs": [],
   "source": [
    "from sklearn.feature_extraction.text import CountVectorizer"
   ]
  },
  {
   "cell_type": "code",
   "execution_count": null,
   "id": "daa95516",
   "metadata": {},
   "outputs": [],
   "source": [
    "cv_test = CountVectorizer()"
   ]
  },
  {
   "cell_type": "code",
   "execution_count": null,
   "id": "a5df1089",
   "metadata": {},
   "outputs": [],
   "source": [
    "# 단어사전 구축\n",
    "# 영어 -> 대문자를 소문자로 변경, 1글자 제외, 띄어쓰기를 기준으로 토큰화\n",
    "# 한글 -> 띄어쓰기를 기준으로 토큰화\n",
    "cv_test.fit(text_train)"
   ]
  },
  {
   "cell_type": "code",
   "execution_count": null,
   "id": "b52c347e",
   "metadata": {},
   "outputs": [],
   "source": [
    "len(cv_test.vocabulary_) # 등록된 단어의 갯수 확인"
   ]
  },
  {
   "cell_type": "code",
   "execution_count": null,
   "id": "d59d3c25",
   "metadata": {},
   "outputs": [],
   "source": [
    "temp = [\"안녕 나는 뽀로로야.\",\n",
    "        \"오늘 점심은 뽀로로야.\",\n",
    "        \"안녕 나는 오늘 점심에 뽀로로를 먹을꺼야.\",\n",
    "        \"너는 오늘 나와 집에 같이 가자.\"]"
   ]
  },
  {
   "cell_type": "code",
   "execution_count": null,
   "id": "dad33210",
   "metadata": {},
   "outputs": [],
   "source": [
    "cv_test.fit(temp)"
   ]
  },
  {
   "cell_type": "code",
   "execution_count": null,
   "id": "f5f1c831",
   "metadata": {},
   "outputs": [],
   "source": [
    "display(len(cv_test.vocabulary_))\n",
    "display(cv_test.vocabulary_)"
   ]
  },
  {
   "cell_type": "code",
   "execution_count": null,
   "id": "9e8a2a1f",
   "metadata": {},
   "outputs": [],
   "source": [
    "# 단어빈도를 측정한 수치화\n",
    "cv_test.transform(temp)"
   ]
  },
  {
   "cell_type": "code",
   "execution_count": null,
   "id": "80cc8e9e",
   "metadata": {},
   "outputs": [],
   "source": [
    "cv_test.transform(temp).toarray()"
   ]
  },
  {
   "cell_type": "markdown",
   "id": "186307e7",
   "metadata": {},
   "source": [
    "#### 학습 데이터 구성"
   ]
  },
  {
   "cell_type": "code",
   "execution_count": null,
   "id": "0ca82ecd",
   "metadata": {},
   "outputs": [],
   "source": [
    "naver_movie_cv = CountVectorizer()\n",
    "naver_movie_cv.fit(text_train)  # 단어사전 구축\n",
    "X_train = naver_movie_cv.transform(text_train)  # 빈도기반의 수치화\n",
    "X_test = naver_movie_cv.transform(test['document'])"
   ]
  },
  {
   "cell_type": "code",
   "execution_count": null,
   "id": "e9ee4250",
   "metadata": {},
   "outputs": [],
   "source": [
    "y_train = train['label']  # 0:부정, 1:긍정\n",
    "y_test = test['label']"
   ]
  },
  {
   "cell_type": "code",
   "execution_count": null,
   "id": "a94197a4",
   "metadata": {},
   "outputs": [],
   "source": [
    "print(X_train.shape, y_train.shape)\n",
    "print(X_test.shape, y_test.shape)"
   ]
  },
  {
   "cell_type": "markdown",
   "id": "979c64a0",
   "metadata": {},
   "source": [
    "#### 모델링"
   ]
  },
  {
   "cell_type": "code",
   "execution_count": null,
   "id": "79e28e8c",
   "metadata": {},
   "outputs": [],
   "source": [
    "from sklearn.linear_model import LogisticRegression\n",
    "from sklearn.model_selection import cross_val_score"
   ]
  },
  {
   "cell_type": "code",
   "execution_count": null,
   "id": "1d3313ed",
   "metadata": {},
   "outputs": [],
   "source": [
    "logi_model = LogisticRegression()"
   ]
  },
  {
   "cell_type": "code",
   "execution_count": null,
   "id": "13714f5c",
   "metadata": {},
   "outputs": [],
   "source": [
    "rs = cross_val_score(logi_model, X_train, y_train, cv=3)"
   ]
  },
  {
   "cell_type": "code",
   "execution_count": null,
   "id": "6b3c8911",
   "metadata": {},
   "outputs": [],
   "source": [
    "rs"
   ]
  },
  {
   "cell_type": "code",
   "execution_count": null,
   "id": "7fba0f6c",
   "metadata": {},
   "outputs": [],
   "source": [
    "# 학습 및 예측\n",
    "logi_model.fit(X_train,y_train)\n",
    "sample_reviews = [\"이 영화는 이제껏 보여줬고 보여줘야했던 토르의 인생이 얼마나 굴곡지고 외롭고 가슴 아픈지를 아주 가벼운 연출로 보여주면서 그 슬픔을 희석 시켜줍니다. 만약 이 내용을 아주 진지하게 그려냈다면 보다가 중간에 포기했을 것 같아요. 제인과 토르의 이야기도 발키리의 개인 서사도 잘 다뤄주면서 동시에 토르가 처한 상황과 그가 잃은 것들이 얼마나 많고 그게 얼마나 슬픈 것인지도 보여줍니다. 그러면서 마지막엔 희망을 이야기하기까지 합니다. 히어로물이라는 장르를 사랑한 이유가 바로 이 마지막때문인데 그런 면에서 아주 좋았습니다.\",\n",
    "                  \"스토리 전개가 그냥 이상하고 다 끊기는 느낌 이거 재밌다는 사람들 부럽다 온세상이 재밌을 듯 토르3 때문에 믿었는데 올해 최고의 믿는 도끼였다\", \n",
    "                  \"베일 미쳤다... 배우 하나로 영화 퀄이 달라지네\", \n",
    "                  \"잤음 쿨쿨 ... 신나게잤음\",\n",
    "                  \"쓸데없이 고퀄인 애들용 만화 .. 본 것 같음 마블의 시대가 저물어 가겠구나\"]\n",
    "sample_transform = naver_movie_cv.transform(sample_reviews) # 정형화 작업\n",
    "pre = logi_model.predict_proba(sample_transform)  # 확률값 예측"
   ]
  },
  {
   "cell_type": "code",
   "execution_count": null,
   "id": "1e568516",
   "metadata": {},
   "outputs": [],
   "source": [
    "pre"
   ]
  },
  {
   "cell_type": "markdown",
   "id": "264400f3",
   "metadata": {},
   "source": [
    "#### 학습된 단어(토큰)별 가중치 확인"
   ]
  },
  {
   "cell_type": "code",
   "execution_count": null,
   "id": "cc5fd734",
   "metadata": {},
   "outputs": [],
   "source": [
    "naver_coef = logi_model.coef_[0]\n",
    "len(naver_coef)"
   ]
  },
  {
   "cell_type": "code",
   "execution_count": null,
   "id": "973d213c",
   "metadata": {},
   "outputs": [],
   "source": [
    "naver_vocab = naver_movie_cv.vocabulary_\n",
    "len(naver_vocab)"
   ]
  },
  {
   "cell_type": "code",
   "execution_count": null,
   "id": "81510f64",
   "metadata": {},
   "outputs": [],
   "source": [
    "print(naver_coef[0])\n",
    "naver_vocab"
   ]
  },
  {
   "cell_type": "code",
   "execution_count": null,
   "id": "a80f9dac",
   "metadata": {},
   "outputs": [],
   "source": [
    "# vocab 정렬하기\n",
    "import pandas as pd\n",
    "df = pd.DataFrame([naver_vocab.keys(), naver_vocab.values()], index=[\"단어\",\"인덱스\"]).T.sort_values(by=\"인덱스\").set_index(\"인덱스\")\n",
    "# vacab과 가중치 결합\n",
    "df['가중치'] = naver_coef\n",
    "df"
   ]
  },
  {
   "cell_type": "code",
   "execution_count": null,
   "id": "05abc5ae",
   "metadata": {},
   "outputs": [],
   "source": [
    "# 가중치를 중심으로 정렬 -> 상위 30, 하위 30개 단어 추출\n",
    "df.sort_values(by=\"가중치\", inplace=True, ascending=False)\n",
    "top30 = df.head(30)\n",
    "bottom30 = df.tail(30)"
   ]
  },
  {
   "cell_type": "code",
   "execution_count": null,
   "id": "8d595283",
   "metadata": {},
   "outputs": [],
   "source": [
    "top30"
   ]
  },
  {
   "cell_type": "code",
   "execution_count": null,
   "id": "4e39deef",
   "metadata": {},
   "outputs": [],
   "source": [
    "bottom30"
   ]
  },
  {
   "cell_type": "code",
   "execution_count": null,
   "id": "aee86d36",
   "metadata": {},
   "outputs": [],
   "source": [
    "# 한글로 출력하기 위해서 폰트 지정하기\n",
    "from matplotlib import rc\n",
    "rc('font', family = 'Malgun Gothic')\n",
    "\n",
    "# 마이너스 나오게 하기\n",
    "import matplotlib\n",
    "matplotlib.rcParams['axes.unicode_minus'] = False\n",
    "\n",
    "# 시각화\n",
    "main_words = pd.concat([top30, bottom30])\n",
    "main_words.set_index(\"단어\").plot(kind='bar', figsize=(20,5), rot=70)"
   ]
  },
  {
   "cell_type": "markdown",
   "id": "41363510",
   "metadata": {},
   "source": [
    "- 08/03"
   ]
  },
  {
   "cell_type": "markdown",
   "id": "cafb83b7",
   "metadata": {},
   "source": [
    "#### tf-idf\n",
    "- tf : 개별문서에서의 특정단어 빈도\n",
    "    - 개별문서에서 특정단어의 빈도가 높으면 해당문서를 대표하는 특징이 된다.\n",
    "- df : 특정단어를 가지고 있는 문서의 개수\n",
    "    - 전체 말뭉치에서 너무 과도하게 등장하면 특징으로서 의미가 없어진다."
   ]
  },
  {
   "cell_type": "code",
   "execution_count": null,
   "id": "7ad0edc0",
   "metadata": {},
   "outputs": [],
   "source": [
    "from sklearn.feature_extraction.text import TfidfVectorizer"
   ]
  },
  {
   "cell_type": "markdown",
   "id": "61a62085",
   "metadata": {},
   "source": [
    "##### 하이퍼파라미터 튜닝\n",
    "- 파이프라인을 이용해 텍스트 전처리와 모델링 2단계로 이루어진 작업을 병합하자.\n",
    "- TfidVectorizer 하이퍼파라미터\n",
    "   - max_df : 특정단어가 말뭉치에서 등장하는 최대 횟수 지정\n",
    "   - min_df : 특정단어가 말뭉치에서 등장하는 최소 횟수 지정\n",
    "   - max_features : feature로 최대 사용되는 단어 수를 지정\n",
    "   - stop_words : 분석에서 사용하지 않는 단어를 지정\n",
    "   - n_gram_range : 토큰을 묶어서 feature로 활용하는 정도를 지정\n",
    "- LogisticRegression 하이퍼파라미터\n",
    "   - C : 규제 파라미터 -> 값이 커지면 규제가 약한, 값이 작아지면 규제가 커진다."
   ]
  },
  {
   "cell_type": "code",
   "execution_count": null,
   "id": "2d77be22",
   "metadata": {},
   "outputs": [],
   "source": [
    "# 파이프라인 : 머신러닝 작업을 하나의 프로세스로 묶어주는 것\n",
    "# ex) 결측치 -> 스케일러 -> 인코더 -> 모델\n",
    "\n",
    "from sklearn.pipeline import Pipeline"
   ]
  },
  {
   "cell_type": "code",
   "execution_count": null,
   "id": "058cfe95",
   "metadata": {},
   "outputs": [],
   "source": [
    "# 파이프라인 생성\n",
    "pipeline = Pipeline([\n",
    "    ('movie_tfidf', TfidfVectorizer()),\n",
    "    ('movie_logi', LogisticRegression())\n",
    "])"
   ]
  },
  {
   "cell_type": "code",
   "execution_count": null,
   "id": "f42153e8",
   "metadata": {},
   "outputs": [],
   "source": [
    "from sklearn.model_selection import GridSearchCV"
   ]
  },
  {
   "cell_type": "code",
   "execution_count": null,
   "id": "161dbcb0",
   "metadata": {},
   "outputs": [],
   "source": [
    "grid_param = {\n",
    "    \"movie_tfidf__max_df\" : [7000,8500,10000],\n",
    "    \"movie_tfidf__min_df\" : [1,5,8,10],\n",
    "    \"movie_tfidf__ngram_range\" : [(1,2),(2,2),(1,3)],\n",
    "    \"movie_logi__C\" : [0.001,0.01,0.1,10,100,1000]\n",
    "}"
   ]
  },
  {
   "cell_type": "code",
   "execution_count": null,
   "id": "bf8b4032",
   "metadata": {},
   "outputs": [],
   "source": [
    "X_train"
   ]
  },
  {
   "cell_type": "code",
   "execution_count": null,
   "id": "0a05f29d",
   "metadata": {},
   "outputs": [],
   "source": [
    "grid = GridSearchCV(pipeline, grid_param, cv=3, n_jobs=-1)\n",
    "grid.fit(text_train,y_train)    # 날것의 데이터 text_train"
   ]
  },
  {
   "cell_type": "code",
   "execution_count": null,
   "id": "3c85baed",
   "metadata": {},
   "outputs": [],
   "source": [
    "rs.mean()"
   ]
  },
  {
   "cell_type": "code",
   "execution_count": null,
   "id": "3e750d92",
   "metadata": {},
   "outputs": [],
   "source": [
    "# 결과확인\n",
    "print(\"최고점수 : \",grid.best_score_)\n",
    "print(\"최고조합 : \",grid.best_params_)\n",
    "# 최적의 파라미터로 학습된 모델\n",
    "best_model = grid.best_estimator_\n",
    "# 단어사전 수\n",
    "print(len(best_model.steps[0][1].vocabulary_))"
   ]
  },
  {
   "cell_type": "code",
   "execution_count": null,
   "id": "f99fd5f1",
   "metadata": {},
   "outputs": [],
   "source": [
    "best_model.predict([\"이 영화는 너무 재밌다.\", \"정말 내 인생 최악의 영화다.\"])"
   ]
  },
  {
   "cell_type": "markdown",
   "id": "f761199b",
   "metadata": {},
   "source": [
    "### 한국어를 위한 Konlpy 사용하기"
   ]
  },
  {
   "cell_type": "code",
   "execution_count": 4,
   "id": "7ae72b35",
   "metadata": {},
   "outputs": [],
   "source": [
    "from konlpy.tag import Kkma\n",
    "from konlpy.tag import Okt"
   ]
  },
  {
   "cell_type": "code",
   "execution_count": 6,
   "id": "be8f3035",
   "metadata": {},
   "outputs": [],
   "source": [
    "kkm = Kkma()\n",
    "okt = Okt()"
   ]
  },
  {
   "cell_type": "code",
   "execution_count": 3,
   "id": "e0c9680b",
   "metadata": {},
   "outputs": [
    {
     "data": {
      "text/plain": [
       "['아버지', '가', '방', '에', '들어가', '시', 'ㄴ다', '.']"
      ]
     },
     "execution_count": 3,
     "metadata": {},
     "output_type": "execute_result"
    }
   ],
   "source": [
    "kkm.morphs(\"아버지가 방에 들어가신다.\") # 형태소 단위로 추출"
   ]
  },
  {
   "cell_type": "code",
   "execution_count": 7,
   "id": "f3e892c8",
   "metadata": {},
   "outputs": [
    {
     "data": {
      "text/plain": [
       "['아버지', '가', '방', '에', '들어가신다']"
      ]
     },
     "execution_count": 7,
     "metadata": {},
     "output_type": "execute_result"
    }
   ],
   "source": [
    "okt.morphs(\"아버지가 방에 들어가신다\")"
   ]
  },
  {
   "cell_type": "markdown",
   "id": "6b3f3d82",
   "metadata": {},
   "source": [
    "#### 품사 추출"
   ]
  },
  {
   "cell_type": "code",
   "execution_count": 8,
   "id": "6ae186fd",
   "metadata": {
    "collapsed": true
   },
   "outputs": [
    {
     "data": {
      "text/plain": [
       "[('아버지', 'NNG'),\n",
       " ('가', 'JKS'),\n",
       " ('방', 'NNG'),\n",
       " ('에', 'JKM'),\n",
       " ('들어가', 'VV'),\n",
       " ('시', 'EPH'),\n",
       " ('ㄴ다', 'EFN'),\n",
       " ('.', 'SF')]"
      ]
     },
     "execution_count": 8,
     "metadata": {},
     "output_type": "execute_result"
    }
   ],
   "source": [
    "kkm.pos(\"아버지가 방에 들어가신다.\")"
   ]
  },
  {
   "cell_type": "code",
   "execution_count": 9,
   "id": "d3d4f06b",
   "metadata": {
    "collapsed": true
   },
   "outputs": [
    {
     "data": {
      "text/plain": [
       "{'EC': '연결 어미',\n",
       " 'ECD': '의존적 연결 어미',\n",
       " 'ECE': '대등 연결 어미',\n",
       " 'ECS': '보조적 연결 어미',\n",
       " 'EF': '종결 어미',\n",
       " 'EFA': '청유형 종결 어미',\n",
       " 'EFI': '감탄형 종결 어미',\n",
       " 'EFN': '평서형 종결 어미',\n",
       " 'EFO': '명령형 종결 어미',\n",
       " 'EFQ': '의문형 종결 어미',\n",
       " 'EFR': '존칭형 종결 어미',\n",
       " 'EP': '선어말 어미',\n",
       " 'EPH': '존칭 선어말 어미',\n",
       " 'EPP': '공손 선어말 어미',\n",
       " 'EPT': '시제 선어말 어미',\n",
       " 'ET': '전성 어미',\n",
       " 'ETD': '관형형 전성 어미',\n",
       " 'ETN': '명사형 전성 어미',\n",
       " 'IC': '감탄사',\n",
       " 'JC': '접속 조사',\n",
       " 'JK': '조사',\n",
       " 'JKC': '보격 조사',\n",
       " 'JKG': '관형격 조사',\n",
       " 'JKI': '호격 조사',\n",
       " 'JKM': '부사격 조사',\n",
       " 'JKO': '목적격 조사',\n",
       " 'JKQ': '인용격 조사',\n",
       " 'JKS': '주격 조사',\n",
       " 'JX': '보조사',\n",
       " 'MA': '부사',\n",
       " 'MAC': '접속 부사',\n",
       " 'MAG': '일반 부사',\n",
       " 'MD': '관형사',\n",
       " 'MDN': '수 관형사',\n",
       " 'MDT': '일반 관형사',\n",
       " 'NN': '명사',\n",
       " 'NNB': '일반 의존 명사',\n",
       " 'NNG': '보통명사',\n",
       " 'NNM': '단위 의존 명사',\n",
       " 'NNP': '고유명사',\n",
       " 'NP': '대명사',\n",
       " 'NR': '수사',\n",
       " 'OH': '한자',\n",
       " 'OL': '외국어',\n",
       " 'ON': '숫자',\n",
       " 'SE': '줄임표',\n",
       " 'SF': '마침표, 물음표, 느낌표',\n",
       " 'SO': '붙임표(물결,숨김,빠짐)',\n",
       " 'SP': '쉼표,가운뎃점,콜론,빗금',\n",
       " 'SS': '따옴표,괄호표,줄표',\n",
       " 'SW': '기타기호 (논리수학기호,화폐기호)',\n",
       " 'UN': '명사추정범주',\n",
       " 'VA': '형용사',\n",
       " 'VC': '지정사',\n",
       " 'VCN': \"부정 지정사, 형용사 '아니다'\",\n",
       " 'VCP': \"긍정 지정사, 서술격 조사 '이다'\",\n",
       " 'VV': '동사',\n",
       " 'VX': '보조 용언',\n",
       " 'VXA': '보조 형용사',\n",
       " 'VXV': '보조 동사',\n",
       " 'XP': '접두사',\n",
       " 'XPN': '체언 접두사',\n",
       " 'XPV': '용언 접두사',\n",
       " 'XR': '어근',\n",
       " 'XSA': '형용사 파생 접미사',\n",
       " 'XSN': '명사파생 접미사',\n",
       " 'XSV': '동사 파생 접미사'}"
      ]
     },
     "execution_count": 9,
     "metadata": {},
     "output_type": "execute_result"
    }
   ],
   "source": [
    "kkm.tagset"
   ]
  },
  {
   "cell_type": "code",
   "execution_count": 11,
   "id": "0c8587e6",
   "metadata": {
    "collapsed": true
   },
   "outputs": [
    {
     "data": {
      "text/plain": [
       "[('아버지', 'Noun'),\n",
       " ('가', 'Josa'),\n",
       " ('방', 'Noun'),\n",
       " ('에', 'Josa'),\n",
       " ('들어가신다', 'Verb'),\n",
       " ('.', 'Punctuation')]"
      ]
     },
     "execution_count": 11,
     "metadata": {},
     "output_type": "execute_result"
    }
   ],
   "source": [
    "okt.pos(\"아버지가 방에 들어가신다.\")"
   ]
  },
  {
   "cell_type": "code",
   "execution_count": 10,
   "id": "0bc03a14",
   "metadata": {
    "collapsed": true
   },
   "outputs": [
    {
     "data": {
      "text/plain": [
       "{'Adjective': '형용사',\n",
       " 'Adverb': '부사',\n",
       " 'Alpha': '알파벳',\n",
       " 'Conjunction': '접속사',\n",
       " 'Determiner': '관형사',\n",
       " 'Eomi': '어미',\n",
       " 'Exclamation': '감탄사',\n",
       " 'Foreign': '외국어, 한자 및 기타기호',\n",
       " 'Hashtag': '트위터 해쉬태그',\n",
       " 'Josa': '조사',\n",
       " 'KoreanParticle': '(ex: ㅋㅋ)',\n",
       " 'Noun': '명사',\n",
       " 'Number': '숫자',\n",
       " 'PreEomi': '선어말어미',\n",
       " 'Punctuation': '구두점',\n",
       " 'ScreenName': '트위터 아이디',\n",
       " 'Suffix': '접미사',\n",
       " 'Unknown': '미등록어',\n",
       " 'Verb': '동사'}"
      ]
     },
     "execution_count": 10,
     "metadata": {},
     "output_type": "execute_result"
    }
   ],
   "source": [
    "okt.tagset"
   ]
  },
  {
   "cell_type": "markdown",
   "id": "e220e9d0",
   "metadata": {},
   "source": [
    "#### sklearn과 연결하기"
   ]
  },
  {
   "cell_type": "code",
   "execution_count": 24,
   "id": "938e77d3",
   "metadata": {},
   "outputs": [],
   "source": [
    "from sklearn.feature_extraction.text import TfidfVectorizer\n",
    "import pandas as pd"
   ]
  },
  {
   "cell_type": "code",
   "execution_count": 31,
   "id": "6e906a30",
   "metadata": {},
   "outputs": [],
   "source": [
    "# 사용자정의 tokenizer 함수 정의\n",
    "def myTokenizer(text):\n",
    "    rs = okt.pos(text)  # 품사 부착\n",
    "    df = pd.DataFrame(rs, columns=[\"형태소\", \"품사\"])\n",
    "    # 불리언 색인\n",
    "    df2 = df[(df['품사']=='Noun') | (df['품사']=='Adjective')]\n",
    "    return df2[\"형태소\"]"
   ]
  },
  {
   "cell_type": "code",
   "execution_count": 36,
   "id": "7a24ce97",
   "metadata": {},
   "outputs": [],
   "source": [
    "# tokenizer 파라미터 설정\n",
    "tfidf = TfidfVectorizer(tokenizer=myTokenizer, stop_words=[\"아버지\",\"수박\"])"
   ]
  },
  {
   "cell_type": "code",
   "execution_count": 33,
   "id": "406e9d4b",
   "metadata": {},
   "outputs": [],
   "source": [
    "sample_text = [\"아버지가 방에 들어가신다.\",\n",
    "               \"아름다운 밤하늘에 별이 반짝반짝 빛나고 있다.\",\n",
    "               \"시원한 계곡 소리를 들으며 맛있는 수박을 먹고 싶다.\"\n",
    "              ]"
   ]
  },
  {
   "cell_type": "code",
   "execution_count": 37,
   "id": "011417f2",
   "metadata": {},
   "outputs": [
    {
     "name": "stderr",
     "output_type": "stream",
     "text": [
      "C:\\Users\\AI\\Anaconda3\\lib\\site-packages\\sklearn\\feature_extraction\\text.py:516: UserWarning: The parameter 'token_pattern' will not be used since 'tokenizer' is not None'\n",
      "  warnings.warn(\n"
     ]
    },
    {
     "data": {
      "text/plain": [
       "TfidfVectorizer(stop_words=['아버지', '수박'],\n",
       "                tokenizer=<function myTokenizer at 0x0000014B89645D30>)"
      ]
     },
     "execution_count": 37,
     "metadata": {},
     "output_type": "execute_result"
    }
   ],
   "source": [
    "tfidf.fit(sample_text)   # 단어사전 구축"
   ]
  },
  {
   "cell_type": "code",
   "execution_count": 38,
   "id": "29dc95fb",
   "metadata": {},
   "outputs": [
    {
     "data": {
      "text/plain": [
       "{'방': 3,\n",
       " '아름다운': 7,\n",
       " '밤하늘': 2,\n",
       " '별': 4,\n",
       " '있다': 8,\n",
       " '시원한': 6,\n",
       " '계곡': 0,\n",
       " '소리': 5,\n",
       " '맛있는': 1}"
      ]
     },
     "execution_count": 38,
     "metadata": {},
     "output_type": "execute_result"
    }
   ],
   "source": [
    "tfidf.vocabulary_"
   ]
  },
  {
   "cell_type": "code",
   "execution_count": null,
   "id": "a2b908d9",
   "metadata": {},
   "outputs": [],
   "source": []
  },
  {
   "cell_type": "code",
   "execution_count": null,
   "id": "092c027a",
   "metadata": {},
   "outputs": [],
   "source": []
  }
 ],
 "metadata": {
  "kernelspec": {
   "display_name": "Python 3 (ipykernel)",
   "language": "python",
   "name": "python3"
  },
  "language_info": {
   "codemirror_mode": {
    "name": "ipython",
    "version": 3
   },
   "file_extension": ".py",
   "mimetype": "text/x-python",
   "name": "python",
   "nbconvert_exporter": "python",
   "pygments_lexer": "ipython3",
   "version": "3.9.12"
  },
  "toc": {
   "base_numbering": 1,
   "nav_menu": {},
   "number_sections": true,
   "sideBar": true,
   "skip_h1_title": false,
   "title_cell": "Table of Contents",
   "title_sidebar": "Contents",
   "toc_cell": false,
   "toc_position": {},
   "toc_section_display": true,
   "toc_window_display": false
  }
 },
 "nbformat": 4,
 "nbformat_minor": 5
}
