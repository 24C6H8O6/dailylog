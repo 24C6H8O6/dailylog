{
 "cells": [
  {
   "cell_type": "markdown",
   "id": "b3be4f64",
   "metadata": {},
   "source": [
    "# 재귀함수 "
   ]
  },
  {
   "cell_type": "code",
   "execution_count": null,
   "id": "49536992",
   "metadata": {},
   "outputs": [],
   "source": [
    "# 피보나치 수열"
   ]
  },
  {
   "cell_type": "code",
   "execution_count": 3,
   "id": "5ea5b644",
   "metadata": {},
   "outputs": [],
   "source": [
    "def fibo(hang):\n",
    "    if hang <= 2:\n",
    "        return 1\n",
    "    else:\n",
    "        return fibo(hang -2) + fibo(hang -1)"
   ]
  },
  {
   "cell_type": "code",
   "execution_count": 4,
   "id": "45942b39",
   "metadata": {},
   "outputs": [
    {
     "data": {
      "text/plain": [
       "6765"
      ]
     },
     "execution_count": 4,
     "metadata": {},
     "output_type": "execute_result"
    }
   ],
   "source": [
    "fibo(20)"
   ]
  },
  {
   "cell_type": "code",
   "execution_count": null,
   "id": "0aba2c68",
   "metadata": {},
   "outputs": [],
   "source": [
    "# 상민 수열 정의\n",
    "\n",
    "# 앞선 두 항을 곱한 값\n",
    "\n",
    "# 상민 수열의 10번째 값을 구해주세요"
   ]
  },
  {
   "cell_type": "code",
   "execution_count": 6,
   "id": "23b383ba",
   "metadata": {},
   "outputs": [],
   "source": [
    "def sang(x):\n",
    "    if x == 1:\n",
    "        return 7\n",
    "    elif x == 2:\n",
    "        return 8\n",
    "    else:\n",
    "        return sang(x-2)*sang(x-1)"
   ]
  },
  {
   "cell_type": "code",
   "execution_count": 7,
   "id": "3b01c2dc",
   "metadata": {},
   "outputs": [
    {
     "data": {
      "text/plain": [
       "2832163999440680038848564176280658420389828886528"
      ]
     },
     "execution_count": 7,
     "metadata": {},
     "output_type": "execute_result"
    }
   ],
   "source": [
    "sang(10)"
   ]
  },
  {
   "cell_type": "code",
   "execution_count": null,
   "id": "93212e08",
   "metadata": {},
   "outputs": [],
   "source": [
    "import RPi.GPIO as GPIO\n",
    "import time\n",
    "\n",
    "led1 = 18\n",
    "led2 = 19\n",
    "led3 = 20\n",
    "\n",
    "GPIO.setmode(GPIO.BCM)\n",
    "GPIO.setup(led1, GPIO.OUT)\n",
    "GPIO.setup(led2, GPIO.OUT)\n",
    "GPIO.setup(led3, GPIO.OUT)\n",
    "\n",
    "while 1:\n",
    "    GPIO.output(led1, 1)\n",
    "    time.sleep(0.5)\n",
    "    GPIO.output(led1, 0)\n",
    "    time.sleep(0.5)\n",
    "    GPIO.output(led2, 1)\n",
    "    time.sleep(0.5)\n",
    "    GPIO.output(led2, 0)\n",
    "    time.sleep(0.5)\n",
    "    GPIO.output(led3, 1)\n",
    "    time.sleep(0.5)\n",
    "    GPIO.output(led3, 0)\n",
    "    time.sleep(0.5)"
   ]
  },
  {
   "cell_type": "code",
   "execution_count": null,
   "id": "c4b7c8f8",
   "metadata": {},
   "outputs": [],
   "source": [
    "import RPi.GPIO as GPIO\n",
    "import time\n",
    "\n",
    "led1 = 18\n",
    "btn1 = 20\n",
    "btn2 = 21\n",
    "\n",
    "GPIO.setmode(GPIO.BCM)\n",
    "GPIO.setup(led1, GPIO.OUT)\n",
    "GPIO.setup(btn1, GPIO.IN)\n",
    "GPIO.setup(btn2, GPIO.IN)\n",
    "\n",
    "p = GPIO.PWM(led1, 50)\n",
    "\n",
    "p.start(0)\n",
    "\n",
    "while 1:\n",
    "    if GPIO.input(btn1) == 1:\n",
    "        p.ChangeDutyCycle(50)\n",
    "        time.sleep(1)\n",
    "    else :\n",
    "        \n",
    "        \n",
    "    if GPIO.input(btn2) == 1:\n",
    "        p.ChangeDutyCycle(100)\n",
    "        time.sleep(1)"
   ]
  },
  {
   "cell_type": "code",
   "execution_count": null,
   "id": "411f006a",
   "metadata": {},
   "outputs": [],
   "source": [
    "from flask import Flask\n",
    "\n",
    "app = Flask(__name__)\n",
    "\n",
    "led = '2'\n",
    "\n",
    "@app.route('/')\n",
    "def index():\n",
    "    return \"Hello World!\"\n",
    "\n",
    "@app.route('/led')\n",
    "def state():\n",
    "    global led\n",
    "    print(f'현재 led 상태 : {led}')\n",
    "    return led\n",
    "\n",
    "@app.route('/led/on')\n",
    "def led_on():\n",
    "    global led\n",
    "    led = '1'\n",
    "    print('LED 켜짐')\n",
    "    return 'LED ON'\n",
    "\n",
    "@app.route('/led/off')\n",
    "def led_off():\n",
    "    global led\n",
    "    led = '0'\n",
    "    print('LED 꺼짐')\n",
    "    return 'LED OFF'    \n",
    "\n",
    "if __name__ == '__main__':\n",
    "    app.run()"
   ]
  }
 ],
 "metadata": {
  "kernelspec": {
   "display_name": "Python 3 (ipykernel)",
   "language": "python",
   "name": "python3"
  },
  "language_info": {
   "codemirror_mode": {
    "name": "ipython",
    "version": 3
   },
   "file_extension": ".py",
   "mimetype": "text/x-python",
   "name": "python",
   "nbconvert_exporter": "python",
   "pygments_lexer": "ipython3",
   "version": "3.9.12"
  },
  "toc": {
   "base_numbering": 1,
   "nav_menu": {},
   "number_sections": true,
   "sideBar": true,
   "skip_h1_title": false,
   "title_cell": "Table of Contents",
   "title_sidebar": "Contents",
   "toc_cell": false,
   "toc_position": {},
   "toc_section_display": true,
   "toc_window_display": false
  }
 },
 "nbformat": 4,
 "nbformat_minor": 5
}
