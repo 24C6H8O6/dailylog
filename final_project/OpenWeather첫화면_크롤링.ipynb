{
 "cells": [
  {
   "cell_type": "markdown",
   "id": "cc6540cf",
   "metadata": {},
   "source": [
    "# Openweather 첫 화면 실시간 위치 크롤링\n",
    "- 실시간으로 날짜, 시간, 지역, 날씨, 기온, 체감온도, 강수량, 풍향, 습도, 자외선, 이슬점, 기압\n",
    "- 이슬점(dew_point) : 일정한 대기압의 공기 중 수증기가 증발하는 동일한 속도로 액상의 물에 응축되는 온도\n",
    "- 분 단위로 바뀜"
   ]
  },
  {
   "cell_type": "code",
   "execution_count": 1,
   "id": "82ec90f1",
   "metadata": {},
   "outputs": [
    {
     "name": "stdout",
     "output_type": "stream",
     "text": [
      "Requirement already satisfied: webdriver-manager in c:\\users\\ai\\anaconda3\\lib\\site-packages (3.8.4)\n",
      "Requirement already satisfied: requests in c:\\users\\ai\\anaconda3\\lib\\site-packages (from webdriver-manager) (2.27.1)\n",
      "Requirement already satisfied: python-dotenv in c:\\users\\ai\\anaconda3\\lib\\site-packages (from webdriver-manager) (0.21.0)\n",
      "Requirement already satisfied: tqdm in c:\\users\\ai\\anaconda3\\lib\\site-packages (from webdriver-manager) (4.64.0)\n",
      "Requirement already satisfied: certifi>=2017.4.17 in c:\\users\\ai\\anaconda3\\lib\\site-packages (from requests->webdriver-manager) (2021.10.8)\n",
      "Requirement already satisfied: urllib3<1.27,>=1.21.1 in c:\\users\\ai\\anaconda3\\lib\\site-packages (from requests->webdriver-manager) (1.26.9)\n",
      "Requirement already satisfied: charset-normalizer~=2.0.0 in c:\\users\\ai\\anaconda3\\lib\\site-packages (from requests->webdriver-manager) (2.0.4)\n",
      "Requirement already satisfied: idna<4,>=2.5 in c:\\users\\ai\\anaconda3\\lib\\site-packages (from requests->webdriver-manager) (3.3)\n",
      "Requirement already satisfied: colorama in c:\\users\\ai\\anaconda3\\lib\\site-packages (from tqdm->webdriver-manager) (0.4.4)\n"
     ]
    }
   ],
   "source": [
    "# webdriver 버전 맞춰주기\n",
    "!pip install webdriver-manager"
   ]
  },
  {
   "cell_type": "code",
   "execution_count": 3,
   "id": "b04da53f",
   "metadata": {},
   "outputs": [
    {
     "name": "stderr",
     "output_type": "stream",
     "text": [
      "C:\\Users\\AI\\AppData\\Local\\Temp\\ipykernel_30476\\1984805095.py:9: DeprecationWarning: executable_path has been deprecated, please pass in a Service object\n",
      "  driver = webdriver.Chrome(ChromeDriverManager().install())\n"
     ]
    }
   ],
   "source": [
    "# from selenium import webdriver as wb\n",
    "\n",
    "from selenium.webdriver.common.by import By\n",
    "import time\n",
    "\n",
    "from selenium import webdriver\n",
    "from webdriver_manager.chrome import ChromeDriverManager\n",
    "\n",
    "driver = webdriver.Chrome(ChromeDriverManager().install())"
   ]
  },
  {
   "cell_type": "code",
   "execution_count": 4,
   "id": "a9dfaec7",
   "metadata": {},
   "outputs": [],
   "source": [
    "# driver = wb.Chrome()\n",
    "driver.get(\"https://openweathermap.org/\")\n",
    "time.sleep(1)"
   ]
  },
  {
   "cell_type": "code",
   "execution_count": 5,
   "id": "d26153d6",
   "metadata": {},
   "outputs": [
    {
     "data": {
      "text/plain": [
       "[<selenium.webdriver.remote.webelement.WebElement (session=\"a9ae45112855c6c29eacaf2b83293625\", element=\"77db74ad-6608-488e-bad4-470d47217f36\")>]"
      ]
     },
     "execution_count": 5,
     "metadata": {},
     "output_type": "execute_result"
    }
   ],
   "source": [
    "table = driver.find_elements(By.CSS_SELECTOR,\"#weather-widget > div.section-content > div.grid-container.grid-4-5 > div.current-container.mobile-padding\")\n",
    "table"
   ]
  },
  {
   "cell_type": "code",
   "execution_count": 6,
   "id": "3f017534",
   "metadata": {},
   "outputs": [
    {
     "data": {
      "text/plain": [
       "1"
      ]
     },
     "execution_count": 6,
     "metadata": {},
     "output_type": "execute_result"
    }
   ],
   "source": [
    "len(table)"
   ]
  },
  {
   "cell_type": "code",
   "execution_count": 7,
   "id": "6248f4ff",
   "metadata": {},
   "outputs": [
    {
     "data": {
      "text/plain": [
       "'Oct 24, 09:15am\\nGwangju, KR\\n13°C\\nFeels like 11°C. Scattered clouds. Moderate breeze\\n5.7m/s NNW\\n1021hPa\\nHumidity:\\n55%\\nUV:\\n1\\nDew point:\\n4°C\\nVisibility:\\n10.0km'"
      ]
     },
     "execution_count": 7,
     "metadata": {},
     "output_type": "execute_result"
    }
   ],
   "source": [
    "table[0].text"
   ]
  },
  {
   "cell_type": "code",
   "execution_count": 8,
   "id": "1c934ec3",
   "metadata": {},
   "outputs": [
    {
     "data": {
      "text/plain": [
       "['Oct 24, 09:15am',\n",
       " 'Gwangju, KR',\n",
       " '13°C',\n",
       " 'Feels like 11°C. Scattered clouds. Moderate breeze',\n",
       " '5.7m/s NNW',\n",
       " '1021hPa',\n",
       " 'Humidity:',\n",
       " '55%',\n",
       " 'UV:',\n",
       " '1',\n",
       " 'Dew point:',\n",
       " '4°C',\n",
       " 'Visibility:',\n",
       " '10.0km']"
      ]
     },
     "execution_count": 8,
     "metadata": {},
     "output_type": "execute_result"
    }
   ],
   "source": [
    "data = table[0].text.split(\"\\n\")\n",
    "data\n",
    "\n",
    "# 날짜, 시간, 장소, 나라, 현재온도, 체감온도, 날씨, 바람, 풍향풍속, 습도, 자외선, 이슬점"
   ]
  },
  {
   "cell_type": "code",
   "execution_count": 9,
   "id": "8a4885b0",
   "metadata": {},
   "outputs": [],
   "source": [
    "import pandas as pd"
   ]
  },
  {
   "cell_type": "code",
   "execution_count": 10,
   "id": "44a297df",
   "metadata": {},
   "outputs": [
    {
     "data": {
      "text/plain": [
       "0                                       Oct 24, 09:15am\n",
       "1                                           Gwangju, KR\n",
       "2                                                  13°C\n",
       "3     Feels like 11°C. Scattered clouds. Moderate br...\n",
       "4                                            5.7m/s NNW\n",
       "5                                               1021hPa\n",
       "6                                             Humidity:\n",
       "7                                                   55%\n",
       "8                                                   UV:\n",
       "9                                                     1\n",
       "10                                           Dew point:\n",
       "11                                                  4°C\n",
       "12                                          Visibility:\n",
       "13                                               10.0km\n",
       "dtype: object"
      ]
     },
     "execution_count": 10,
     "metadata": {},
     "output_type": "execute_result"
    }
   ],
   "source": [
    "data = pd.Series(data)\n",
    "data"
   ]
  },
  {
   "cell_type": "code",
   "execution_count": 11,
   "id": "3c9b3238",
   "metadata": {},
   "outputs": [
    {
     "data": {
      "text/html": [
       "<div>\n",
       "<style scoped>\n",
       "    .dataframe tbody tr th:only-of-type {\n",
       "        vertical-align: middle;\n",
       "    }\n",
       "\n",
       "    .dataframe tbody tr th {\n",
       "        vertical-align: top;\n",
       "    }\n",
       "\n",
       "    .dataframe thead th {\n",
       "        text-align: right;\n",
       "    }\n",
       "</style>\n",
       "<table border=\"1\" class=\"dataframe\">\n",
       "  <thead>\n",
       "    <tr style=\"text-align: right;\">\n",
       "      <th></th>\n",
       "      <th>0</th>\n",
       "    </tr>\n",
       "  </thead>\n",
       "  <tbody>\n",
       "    <tr>\n",
       "      <th>0</th>\n",
       "      <td>Oct 24, 09:15am</td>\n",
       "    </tr>\n",
       "    <tr>\n",
       "      <th>1</th>\n",
       "      <td>Gwangju, KR</td>\n",
       "    </tr>\n",
       "    <tr>\n",
       "      <th>2</th>\n",
       "      <td>13°C</td>\n",
       "    </tr>\n",
       "    <tr>\n",
       "      <th>3</th>\n",
       "      <td>Feels like 11°C. Scattered clouds. Moderate br...</td>\n",
       "    </tr>\n",
       "    <tr>\n",
       "      <th>4</th>\n",
       "      <td>5.7m/s NNW</td>\n",
       "    </tr>\n",
       "    <tr>\n",
       "      <th>5</th>\n",
       "      <td>1021hPa</td>\n",
       "    </tr>\n",
       "    <tr>\n",
       "      <th>6</th>\n",
       "      <td>Humidity:</td>\n",
       "    </tr>\n",
       "    <tr>\n",
       "      <th>7</th>\n",
       "      <td>55%</td>\n",
       "    </tr>\n",
       "    <tr>\n",
       "      <th>8</th>\n",
       "      <td>UV:</td>\n",
       "    </tr>\n",
       "    <tr>\n",
       "      <th>9</th>\n",
       "      <td>1</td>\n",
       "    </tr>\n",
       "    <tr>\n",
       "      <th>10</th>\n",
       "      <td>Dew point:</td>\n",
       "    </tr>\n",
       "    <tr>\n",
       "      <th>11</th>\n",
       "      <td>4°C</td>\n",
       "    </tr>\n",
       "    <tr>\n",
       "      <th>12</th>\n",
       "      <td>Visibility:</td>\n",
       "    </tr>\n",
       "    <tr>\n",
       "      <th>13</th>\n",
       "      <td>10.0km</td>\n",
       "    </tr>\n",
       "  </tbody>\n",
       "</table>\n",
       "</div>"
      ],
      "text/plain": [
       "                                                    0\n",
       "0                                     Oct 24, 09:15am\n",
       "1                                         Gwangju, KR\n",
       "2                                                13°C\n",
       "3   Feels like 11°C. Scattered clouds. Moderate br...\n",
       "4                                          5.7m/s NNW\n",
       "5                                             1021hPa\n",
       "6                                           Humidity:\n",
       "7                                                 55%\n",
       "8                                                 UV:\n",
       "9                                                   1\n",
       "10                                         Dew point:\n",
       "11                                                4°C\n",
       "12                                        Visibility:\n",
       "13                                             10.0km"
      ]
     },
     "execution_count": 11,
     "metadata": {},
     "output_type": "execute_result"
    }
   ],
   "source": [
    "data = pd.DataFrame(data)\n",
    "data"
   ]
  },
  {
   "cell_type": "code",
   "execution_count": 17,
   "id": "03bd1e3b",
   "metadata": {},
   "outputs": [
    {
     "data": {
      "text/plain": [
       "(14, 1)"
      ]
     },
     "execution_count": 17,
     "metadata": {},
     "output_type": "execute_result"
    }
   ],
   "source": [
    "data.shape"
   ]
  },
  {
   "cell_type": "code",
   "execution_count": 21,
   "id": "35dd7692",
   "metadata": {},
   "outputs": [],
   "source": [
    "new_data = data.drop([3,4,5,8,9,10,11,12,13])"
   ]
  },
  {
   "cell_type": "code",
   "execution_count": 22,
   "id": "c6013bd0",
   "metadata": {},
   "outputs": [
    {
     "data": {
      "text/html": [
       "<div>\n",
       "<style scoped>\n",
       "    .dataframe tbody tr th:only-of-type {\n",
       "        vertical-align: middle;\n",
       "    }\n",
       "\n",
       "    .dataframe tbody tr th {\n",
       "        vertical-align: top;\n",
       "    }\n",
       "\n",
       "    .dataframe thead th {\n",
       "        text-align: right;\n",
       "    }\n",
       "</style>\n",
       "<table border=\"1\" class=\"dataframe\">\n",
       "  <thead>\n",
       "    <tr style=\"text-align: right;\">\n",
       "      <th></th>\n",
       "      <th>0</th>\n",
       "    </tr>\n",
       "  </thead>\n",
       "  <tbody>\n",
       "    <tr>\n",
       "      <th>0</th>\n",
       "      <td>Oct 24, 09:15am</td>\n",
       "    </tr>\n",
       "    <tr>\n",
       "      <th>1</th>\n",
       "      <td>Gwangju, KR</td>\n",
       "    </tr>\n",
       "    <tr>\n",
       "      <th>2</th>\n",
       "      <td>13°C</td>\n",
       "    </tr>\n",
       "    <tr>\n",
       "      <th>6</th>\n",
       "      <td>Humidity:</td>\n",
       "    </tr>\n",
       "    <tr>\n",
       "      <th>7</th>\n",
       "      <td>55%</td>\n",
       "    </tr>\n",
       "  </tbody>\n",
       "</table>\n",
       "</div>"
      ],
      "text/plain": [
       "                 0\n",
       "0  Oct 24, 09:15am\n",
       "1      Gwangju, KR\n",
       "2             13°C\n",
       "6        Humidity:\n",
       "7              55%"
      ]
     },
     "execution_count": 22,
     "metadata": {},
     "output_type": "execute_result"
    }
   ],
   "source": [
    "new_data"
   ]
  },
  {
   "cell_type": "code",
   "execution_count": null,
   "id": "4bba92b8",
   "metadata": {},
   "outputs": [],
   "source": []
  }
 ],
 "metadata": {
  "kernelspec": {
   "display_name": "Python 3 (ipykernel)",
   "language": "python",
   "name": "python3"
  },
  "language_info": {
   "codemirror_mode": {
    "name": "ipython",
    "version": 3
   },
   "file_extension": ".py",
   "mimetype": "text/x-python",
   "name": "python",
   "nbconvert_exporter": "python",
   "pygments_lexer": "ipython3",
   "version": "3.9.12"
  },
  "toc": {
   "base_numbering": 1,
   "nav_menu": {},
   "number_sections": true,
   "sideBar": true,
   "skip_h1_title": false,
   "title_cell": "Table of Contents",
   "title_sidebar": "Contents",
   "toc_cell": false,
   "toc_position": {},
   "toc_section_display": true,
   "toc_window_display": false
  }
 },
 "nbformat": 4,
 "nbformat_minor": 5
}
