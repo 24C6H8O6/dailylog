{
 "cells": [
  {
   "cell_type": "markdown",
   "id": "8bc13173",
   "metadata": {},
   "source": [
    "# OOP(Object Oriented Programming)\n",
    "- 객체 지향 프로그래밍\n",
    "- 객체를 만들기 위한 설계도 : Class\n",
    "- 설계도로부터 만들어지는 개념 : Object\n",
    "- 설계도로부터 실체화된(구현화된) 객체 : Instance"
   ]
  },
  {
   "cell_type": "code",
   "execution_count": 4,
   "id": "6f542011",
   "metadata": {},
   "outputs": [],
   "source": [
    "class 집:\n",
    "    # class 내부 요소 : 멤버(member)\n",
    "    # 멤버 변수    \n",
    "    화장실 = 2\n",
    "    방 = 4\n",
    "    층 = 2\n",
    "    다락방 = True\n",
    "    # 멤버 함수\n",
    "    def 정보(self):\n",
    "        print(f'화장실 : {self.화장실}개')\n",
    "        print(f'방 : {self.방}개')\n",
    "        print(f'층 : {self.층}층')\n",
    "        print(f'다락방 : {self.다락방}')"
   ]
  },
  {
   "cell_type": "code",
   "execution_count": 7,
   "id": "e68b5525",
   "metadata": {},
   "outputs": [
    {
     "name": "stdout",
     "output_type": "stream",
     "text": [
      "화장실 : 2개\n",
      "방 : 4개\n",
      "층 : 2층\n",
      "다락방 : True\n",
      "------------------\n",
      "화장실 : 2개\n",
      "방 : 4개\n",
      "층 : 2층\n",
      "다락방 : True\n"
     ]
    }
   ],
   "source": [
    "승욱집 = 집()\n",
    "승욱집.정보()\n",
    "\n",
    "print('------------------')\n",
    "\n",
    "부모님집 = 집()\n",
    "부모님집.정보()"
   ]
  },
  {
   "cell_type": "code",
   "execution_count": 8,
   "id": "000e0b04",
   "metadata": {},
   "outputs": [],
   "source": [
    "승욱집.방 +=1\n",
    "승욱집.화장실 -= 1"
   ]
  },
  {
   "cell_type": "code",
   "execution_count": 9,
   "id": "904a69e2",
   "metadata": {},
   "outputs": [
    {
     "name": "stdout",
     "output_type": "stream",
     "text": [
      "화장실 : 1개\n",
      "방 : 5개\n",
      "층 : 2층\n",
      "다락방 : True\n"
     ]
    }
   ],
   "source": [
    "승욱집.정보()"
   ]
  },
  {
   "cell_type": "code",
   "execution_count": 38,
   "id": "06c68895",
   "metadata": {},
   "outputs": [],
   "source": [
    "class 고양이:\n",
    "    # 접근 제한자(Access Modifier)\n",
    "    \n",
    "    \n",
    "    \n",
    "    # 좋아하는 사료, 무늬, 털색깔\n",
    "    이름, 좋아하는사료, 무늬, 털색깔 = None, None, None, None    \n",
    "    \n",
    "    # 울음소리, 먹이를 먹다\n",
    "    def 울다(self):\n",
    "        print('야옹')\n",
    "    def 먹다(self):\n",
    "        print('냠냠')\n",
    "    def 정보(self):\n",
    "        print(f'이름 : {self.이름}\\n좋아하는사료 : {self.좋아하는사료}\\n무늬 : {self.무늬}\\n털색깔 : {self.털색깔}')\n",
    "    def __init__(self, 이름, 좋아하는사료, 무늬, 털색깔):\n",
    "        self.이름 = 이름\n",
    "        self.좋아하는사료 = 좋아하는사료\n",
    "        self.무늬 = 무늬\n",
    "        self.털색깔 = 털색깔\n",
    "# 생성자(constructor)\n",
    "# 객체가 생성될 때 자동으로 호출"
   ]
  },
  {
   "cell_type": "code",
   "execution_count": 32,
   "id": "1fccd44d",
   "metadata": {},
   "outputs": [
    {
     "name": "stdout",
     "output_type": "stream",
     "text": [
      "이름 : 구름\n",
      "좋아하는사료 : 애기사료\n",
      "무늬 : 없음\n",
      "털색깔 : 흰색\n",
      "냠냠\n",
      "야옹\n"
     ]
    }
   ],
   "source": [
    "구름 = 고양이('구름', '애기사료', '없음', '흰색')\n",
    "구름.이름 = '후추'\n",
    "구름.정보()\n",
    "구름.먹다()\n",
    "구름.울다()"
   ]
  },
  {
   "cell_type": "markdown",
   "id": "228d05a1",
   "metadata": {},
   "source": [
    "#### 추상화(Abstraction)\n",
    "- 객체의 공통적인 특징을 추출하는 작업\n",
    "- 단, 너무 세부적인 정보 배제\n",
    "\n",
    "#### 상속(Ieheritance)\n",
    "- 부모클래스의 멤버(변수, 함수)를 물려받아 자식클래스를 정의\n",
    "\n",
    "#### 캡슐화(Encapsulation)\n",
    "- 개발자가 원하는 변수, 함수만 접근할 수 있도록 정보를 제한\n",
    "\n",
    "#### 다형성(Polymophism)\n",
    "- 다양한 형태를 나타낼 수 있는 능력"
   ]
  },
  {
   "cell_type": "code",
   "execution_count": 39,
   "id": "a5d44ec5",
   "metadata": {},
   "outputs": [],
   "source": [
    "class 샴고양이(고양이):\n",
    "    털색깔 = '투톤'\n",
    "    \n",
    "    def __init__(self, 이름, 좋아하는사료, 무늬):\n",
    "        self.이름 = 이름\n",
    "        self.좋아하는사료 = 좋아하는사료\n",
    "        self.무늬 = 무늬"
   ]
  },
  {
   "cell_type": "code",
   "execution_count": 40,
   "id": "70d32b21",
   "metadata": {},
   "outputs": [
    {
     "name": "stdout",
     "output_type": "stream",
     "text": [
      "이름 : 샤오미\n",
      "좋아하는사료 : 츄르\n",
      "무늬 : 없음\n",
      "털색깔 : 투톤\n"
     ]
    }
   ],
   "source": [
    "샤오미 = 샴고양이('샤오미', '츄르', '없음')\n",
    "샤오미.정보()"
   ]
  },
  {
   "cell_type": "code",
   "execution_count": 49,
   "id": "ef9f8894",
   "metadata": {},
   "outputs": [],
   "source": [
    "class 계산기:\n",
    "    \n",
    "#     def add(self,num1,num2):\n",
    "#         return num1+num2\n",
    "    def add(self,num1,num2):\n",
    "        return int(num1)+int(num2)"
   ]
  },
  {
   "cell_type": "code",
   "execution_count": 51,
   "id": "dfdef68a",
   "metadata": {},
   "outputs": [
    {
     "data": {
      "text/plain": [
       "8"
      ]
     },
     "execution_count": 51,
     "metadata": {},
     "output_type": "execute_result"
    }
   ],
   "source": [
    "계산기1 = 계산기()\n",
    "계산기1.add(3,5)\n",
    "계산기1.add('3','5')"
   ]
  },
  {
   "cell_type": "code",
   "execution_count": null,
   "id": "bb4f360c",
   "metadata": {},
   "outputs": [],
   "source": []
  }
 ],
 "metadata": {
  "kernelspec": {
   "display_name": "Python 3 (ipykernel)",
   "language": "python",
   "name": "python3"
  },
  "language_info": {
   "codemirror_mode": {
    "name": "ipython",
    "version": 3
   },
   "file_extension": ".py",
   "mimetype": "text/x-python",
   "name": "python",
   "nbconvert_exporter": "python",
   "pygments_lexer": "ipython3",
   "version": "3.9.12"
  },
  "toc": {
   "base_numbering": 1,
   "nav_menu": {},
   "number_sections": true,
   "sideBar": true,
   "skip_h1_title": false,
   "title_cell": "Table of Contents",
   "title_sidebar": "Contents",
   "toc_cell": false,
   "toc_position": {},
   "toc_section_display": true,
   "toc_window_display": false
  }
 },
 "nbformat": 4,
 "nbformat_minor": 5
}
