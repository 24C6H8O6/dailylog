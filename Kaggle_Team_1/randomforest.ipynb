{
 "cells": [
  {
   "cell_type": "code",
   "execution_count": 1,
   "id": "5680cd75",
   "metadata": {},
   "outputs": [],
   "source": [
    "import pandas as pd\n",
    "\n",
    "train = pd.read_csv(\"./train.csv\")\n",
    "test = pd.read_csv(\"./test.csv\")"
   ]
  },
  {
   "cell_type": "code",
   "execution_count": 2,
   "id": "342e5666",
   "metadata": {},
   "outputs": [
    {
     "name": "stdout",
     "output_type": "stream",
     "text": [
      "(29305, 16)\n",
      "(19537, 15)\n"
     ]
    }
   ],
   "source": [
    "print(train.shape)\n",
    "print(test.shape)"
   ]
  },
  {
   "cell_type": "code",
   "execution_count": 3,
   "id": "dd1346ba",
   "metadata": {},
   "outputs": [
    {
     "name": "stdout",
     "output_type": "stream",
     "text": [
      "<class 'pandas.core.frame.DataFrame'>\n",
      "RangeIndex: 29305 entries, 0 to 29304\n",
      "Data columns (total 16 columns):\n",
      " #   Column          Non-Null Count  Dtype \n",
      "---  ------          --------------  ----- \n",
      " 0   no              29305 non-null  int64 \n",
      " 1   age             29305 non-null  int64 \n",
      " 2   workclass       29305 non-null  object\n",
      " 3   fnlwgt          29305 non-null  int64 \n",
      " 4   education       29305 non-null  object\n",
      " 5   education-num   29305 non-null  int64 \n",
      " 6   marital-status  29305 non-null  object\n",
      " 7   occupation      29305 non-null  object\n",
      " 8   relationship    29305 non-null  object\n",
      " 9   race            29305 non-null  object\n",
      " 10  sex             29305 non-null  object\n",
      " 11  capital-gain    29305 non-null  int64 \n",
      " 12  capital-loss    29305 non-null  int64 \n",
      " 13  hours-per-week  29305 non-null  int64 \n",
      " 14  native-country  29305 non-null  object\n",
      " 15  income          29305 non-null  int64 \n",
      "dtypes: int64(8), object(8)\n",
      "memory usage: 3.6+ MB\n"
     ]
    }
   ],
   "source": [
    "train.info()"
   ]
  },
  {
   "cell_type": "code",
   "execution_count": 4,
   "id": "d448067d",
   "metadata": {},
   "outputs": [
    {
     "name": "stdout",
     "output_type": "stream",
     "text": [
      "<class 'pandas.core.frame.DataFrame'>\n",
      "RangeIndex: 19537 entries, 0 to 19536\n",
      "Data columns (total 15 columns):\n",
      " #   Column          Non-Null Count  Dtype \n",
      "---  ------          --------------  ----- \n",
      " 0   no              19537 non-null  int64 \n",
      " 1   age             19537 non-null  int64 \n",
      " 2   workclass       19537 non-null  object\n",
      " 3   fnlwgt          19537 non-null  int64 \n",
      " 4   education       19537 non-null  object\n",
      " 5   education-num   19537 non-null  int64 \n",
      " 6   marital-status  19537 non-null  object\n",
      " 7   occupation      19537 non-null  object\n",
      " 8   relationship    19537 non-null  object\n",
      " 9   race            19537 non-null  object\n",
      " 10  sex             19537 non-null  object\n",
      " 11  capital-gain    19537 non-null  int64 \n",
      " 12  capital-loss    19537 non-null  int64 \n",
      " 13  hours-per-week  19537 non-null  int64 \n",
      " 14  native-country  19537 non-null  object\n",
      "dtypes: int64(7), object(8)\n",
      "memory usage: 2.2+ MB\n"
     ]
    }
   ],
   "source": [
    "test.info()"
   ]
  },
  {
   "cell_type": "code",
   "execution_count": 5,
   "id": "5d0b2dd4",
   "metadata": {},
   "outputs": [
    {
     "data": {
      "text/plain": [
       "no                0\n",
       "age               0\n",
       "workclass         0\n",
       "fnlwgt            0\n",
       "education         0\n",
       "education-num     0\n",
       "marital-status    0\n",
       "occupation        0\n",
       "relationship      0\n",
       "race              0\n",
       "sex               0\n",
       "capital-gain      0\n",
       "capital-loss      0\n",
       "hours-per-week    0\n",
       "native-country    0\n",
       "income            0\n",
       "dtype: int64"
      ]
     },
     "execution_count": 5,
     "metadata": {},
     "output_type": "execute_result"
    }
   ],
   "source": [
    "train.isnull().sum()"
   ]
  },
  {
   "cell_type": "code",
   "execution_count": 6,
   "id": "0591a69e",
   "metadata": {},
   "outputs": [
    {
     "data": {
      "text/plain": [
       "no                0\n",
       "age               0\n",
       "workclass         0\n",
       "fnlwgt            0\n",
       "education         0\n",
       "education-num     0\n",
       "marital-status    0\n",
       "occupation        0\n",
       "relationship      0\n",
       "race              0\n",
       "sex               0\n",
       "capital-gain      0\n",
       "capital-loss      0\n",
       "hours-per-week    0\n",
       "native-country    0\n",
       "dtype: int64"
      ]
     },
     "execution_count": 6,
     "metadata": {},
     "output_type": "execute_result"
    }
   ],
   "source": [
    "test.isnull().sum()"
   ]
  },
  {
   "cell_type": "code",
   "execution_count": 7,
   "id": "d9138b5e",
   "metadata": {},
   "outputs": [
    {
     "data": {
      "text/html": [
       "<div>\n",
       "<style scoped>\n",
       "    .dataframe tbody tr th:only-of-type {\n",
       "        vertical-align: middle;\n",
       "    }\n",
       "\n",
       "    .dataframe tbody tr th {\n",
       "        vertical-align: top;\n",
       "    }\n",
       "\n",
       "    .dataframe thead th {\n",
       "        text-align: right;\n",
       "    }\n",
       "</style>\n",
       "<table border=\"1\" class=\"dataframe\">\n",
       "  <thead>\n",
       "    <tr style=\"text-align: right;\">\n",
       "      <th></th>\n",
       "      <th>no</th>\n",
       "      <th>age</th>\n",
       "      <th>workclass</th>\n",
       "      <th>fnlwgt</th>\n",
       "      <th>education</th>\n",
       "      <th>education-num</th>\n",
       "      <th>marital-status</th>\n",
       "      <th>occupation</th>\n",
       "      <th>relationship</th>\n",
       "      <th>race</th>\n",
       "      <th>sex</th>\n",
       "      <th>capital-gain</th>\n",
       "      <th>capital-loss</th>\n",
       "      <th>hours-per-week</th>\n",
       "      <th>native-country</th>\n",
       "      <th>income</th>\n",
       "    </tr>\n",
       "  </thead>\n",
       "  <tbody>\n",
       "    <tr>\n",
       "      <th>0</th>\n",
       "      <td>1</td>\n",
       "      <td>25</td>\n",
       "      <td>Private</td>\n",
       "      <td>219199</td>\n",
       "      <td>11th</td>\n",
       "      <td>7</td>\n",
       "      <td>Divorced</td>\n",
       "      <td>Machine-op-inspct</td>\n",
       "      <td>Not-in-family</td>\n",
       "      <td>White</td>\n",
       "      <td>Male</td>\n",
       "      <td>0</td>\n",
       "      <td>0</td>\n",
       "      <td>40</td>\n",
       "      <td>United-States</td>\n",
       "      <td>0</td>\n",
       "    </tr>\n",
       "    <tr>\n",
       "      <th>1</th>\n",
       "      <td>2</td>\n",
       "      <td>39</td>\n",
       "      <td>Private</td>\n",
       "      <td>52978</td>\n",
       "      <td>Some-college</td>\n",
       "      <td>10</td>\n",
       "      <td>Divorced</td>\n",
       "      <td>Other-service</td>\n",
       "      <td>Not-in-family</td>\n",
       "      <td>White</td>\n",
       "      <td>Female</td>\n",
       "      <td>0</td>\n",
       "      <td>1721</td>\n",
       "      <td>55</td>\n",
       "      <td>United-States</td>\n",
       "      <td>0</td>\n",
       "    </tr>\n",
       "    <tr>\n",
       "      <th>2</th>\n",
       "      <td>3</td>\n",
       "      <td>35</td>\n",
       "      <td>Private</td>\n",
       "      <td>196899</td>\n",
       "      <td>Bachelors</td>\n",
       "      <td>13</td>\n",
       "      <td>Never-married</td>\n",
       "      <td>Handlers-cleaners</td>\n",
       "      <td>Not-in-family</td>\n",
       "      <td>Asian-Pac-Islander</td>\n",
       "      <td>Female</td>\n",
       "      <td>0</td>\n",
       "      <td>0</td>\n",
       "      <td>50</td>\n",
       "      <td>Haiti</td>\n",
       "      <td>0</td>\n",
       "    </tr>\n",
       "    <tr>\n",
       "      <th>3</th>\n",
       "      <td>4</td>\n",
       "      <td>64</td>\n",
       "      <td>Private</td>\n",
       "      <td>135527</td>\n",
       "      <td>Assoc-voc</td>\n",
       "      <td>11</td>\n",
       "      <td>Divorced</td>\n",
       "      <td>Tech-support</td>\n",
       "      <td>Not-in-family</td>\n",
       "      <td>White</td>\n",
       "      <td>Female</td>\n",
       "      <td>0</td>\n",
       "      <td>0</td>\n",
       "      <td>40</td>\n",
       "      <td>United-States</td>\n",
       "      <td>0</td>\n",
       "    </tr>\n",
       "    <tr>\n",
       "      <th>4</th>\n",
       "      <td>5</td>\n",
       "      <td>24</td>\n",
       "      <td>Private</td>\n",
       "      <td>60783</td>\n",
       "      <td>Some-college</td>\n",
       "      <td>10</td>\n",
       "      <td>Married-civ-spouse</td>\n",
       "      <td>Transport-moving</td>\n",
       "      <td>Husband</td>\n",
       "      <td>White</td>\n",
       "      <td>Male</td>\n",
       "      <td>0</td>\n",
       "      <td>0</td>\n",
       "      <td>70</td>\n",
       "      <td>United-States</td>\n",
       "      <td>1</td>\n",
       "    </tr>\n",
       "    <tr>\n",
       "      <th>...</th>\n",
       "      <td>...</td>\n",
       "      <td>...</td>\n",
       "      <td>...</td>\n",
       "      <td>...</td>\n",
       "      <td>...</td>\n",
       "      <td>...</td>\n",
       "      <td>...</td>\n",
       "      <td>...</td>\n",
       "      <td>...</td>\n",
       "      <td>...</td>\n",
       "      <td>...</td>\n",
       "      <td>...</td>\n",
       "      <td>...</td>\n",
       "      <td>...</td>\n",
       "      <td>...</td>\n",
       "      <td>...</td>\n",
       "    </tr>\n",
       "    <tr>\n",
       "      <th>29300</th>\n",
       "      <td>29301</td>\n",
       "      <td>20</td>\n",
       "      <td>Private</td>\n",
       "      <td>100605</td>\n",
       "      <td>HS-grad</td>\n",
       "      <td>9</td>\n",
       "      <td>Never-married</td>\n",
       "      <td>Sales</td>\n",
       "      <td>Own-child</td>\n",
       "      <td>Other</td>\n",
       "      <td>Male</td>\n",
       "      <td>0</td>\n",
       "      <td>0</td>\n",
       "      <td>40</td>\n",
       "      <td>Puerto-Rico</td>\n",
       "      <td>0</td>\n",
       "    </tr>\n",
       "    <tr>\n",
       "      <th>29301</th>\n",
       "      <td>29302</td>\n",
       "      <td>21</td>\n",
       "      <td>Private</td>\n",
       "      <td>372636</td>\n",
       "      <td>HS-grad</td>\n",
       "      <td>9</td>\n",
       "      <td>Never-married</td>\n",
       "      <td>Sales</td>\n",
       "      <td>Own-child</td>\n",
       "      <td>Black</td>\n",
       "      <td>Male</td>\n",
       "      <td>0</td>\n",
       "      <td>0</td>\n",
       "      <td>40</td>\n",
       "      <td>United-States</td>\n",
       "      <td>0</td>\n",
       "    </tr>\n",
       "    <tr>\n",
       "      <th>29302</th>\n",
       "      <td>29303</td>\n",
       "      <td>18</td>\n",
       "      <td>Self-emp-not-inc</td>\n",
       "      <td>258474</td>\n",
       "      <td>10th</td>\n",
       "      <td>6</td>\n",
       "      <td>Never-married</td>\n",
       "      <td>Farming-fishing</td>\n",
       "      <td>Own-child</td>\n",
       "      <td>White</td>\n",
       "      <td>Male</td>\n",
       "      <td>0</td>\n",
       "      <td>0</td>\n",
       "      <td>40</td>\n",
       "      <td>United-States</td>\n",
       "      <td>0</td>\n",
       "    </tr>\n",
       "    <tr>\n",
       "      <th>29303</th>\n",
       "      <td>29304</td>\n",
       "      <td>33</td>\n",
       "      <td>Private</td>\n",
       "      <td>157446</td>\n",
       "      <td>11th</td>\n",
       "      <td>7</td>\n",
       "      <td>Never-married</td>\n",
       "      <td>Craft-repair</td>\n",
       "      <td>Not-in-family</td>\n",
       "      <td>White</td>\n",
       "      <td>Male</td>\n",
       "      <td>0</td>\n",
       "      <td>0</td>\n",
       "      <td>65</td>\n",
       "      <td>United-States</td>\n",
       "      <td>0</td>\n",
       "    </tr>\n",
       "    <tr>\n",
       "      <th>29304</th>\n",
       "      <td>29305</td>\n",
       "      <td>65</td>\n",
       "      <td>?</td>\n",
       "      <td>94809</td>\n",
       "      <td>HS-grad</td>\n",
       "      <td>9</td>\n",
       "      <td>Widowed</td>\n",
       "      <td>?</td>\n",
       "      <td>Not-in-family</td>\n",
       "      <td>White</td>\n",
       "      <td>Female</td>\n",
       "      <td>0</td>\n",
       "      <td>0</td>\n",
       "      <td>40</td>\n",
       "      <td>United-States</td>\n",
       "      <td>0</td>\n",
       "    </tr>\n",
       "  </tbody>\n",
       "</table>\n",
       "<p>29305 rows × 16 columns</p>\n",
       "</div>"
      ],
      "text/plain": [
       "          no  age          workclass  fnlwgt      education  education-num  \\\n",
       "0          1   25            Private  219199           11th              7   \n",
       "1          2   39            Private   52978   Some-college             10   \n",
       "2          3   35            Private  196899      Bachelors             13   \n",
       "3          4   64            Private  135527      Assoc-voc             11   \n",
       "4          5   24            Private   60783   Some-college             10   \n",
       "...      ...  ...                ...     ...            ...            ...   \n",
       "29300  29301   20            Private  100605        HS-grad              9   \n",
       "29301  29302   21            Private  372636        HS-grad              9   \n",
       "29302  29303   18   Self-emp-not-inc  258474           10th              6   \n",
       "29303  29304   33            Private  157446           11th              7   \n",
       "29304  29305   65                  ?   94809        HS-grad              9   \n",
       "\n",
       "            marital-status          occupation    relationship  \\\n",
       "0                 Divorced   Machine-op-inspct   Not-in-family   \n",
       "1                 Divorced       Other-service   Not-in-family   \n",
       "2            Never-married   Handlers-cleaners   Not-in-family   \n",
       "3                 Divorced        Tech-support   Not-in-family   \n",
       "4       Married-civ-spouse    Transport-moving         Husband   \n",
       "...                    ...                 ...             ...   \n",
       "29300        Never-married               Sales       Own-child   \n",
       "29301        Never-married               Sales       Own-child   \n",
       "29302        Never-married     Farming-fishing       Own-child   \n",
       "29303        Never-married        Craft-repair   Not-in-family   \n",
       "29304              Widowed                   ?   Not-in-family   \n",
       "\n",
       "                      race      sex  capital-gain  capital-loss  \\\n",
       "0                    White     Male             0             0   \n",
       "1                    White   Female             0          1721   \n",
       "2       Asian-Pac-Islander   Female             0             0   \n",
       "3                    White   Female             0             0   \n",
       "4                    White     Male             0             0   \n",
       "...                    ...      ...           ...           ...   \n",
       "29300                Other     Male             0             0   \n",
       "29301                Black     Male             0             0   \n",
       "29302                White     Male             0             0   \n",
       "29303                White     Male             0             0   \n",
       "29304                White   Female             0             0   \n",
       "\n",
       "       hours-per-week  native-country  income  \n",
       "0                  40   United-States       0  \n",
       "1                  55   United-States       0  \n",
       "2                  50           Haiti       0  \n",
       "3                  40   United-States       0  \n",
       "4                  70   United-States       1  \n",
       "...               ...             ...     ...  \n",
       "29300              40     Puerto-Rico       0  \n",
       "29301              40   United-States       0  \n",
       "29302              40   United-States       0  \n",
       "29303              65   United-States       0  \n",
       "29304              40   United-States       0  \n",
       "\n",
       "[29305 rows x 16 columns]"
      ]
     },
     "execution_count": 7,
     "metadata": {},
     "output_type": "execute_result"
    }
   ],
   "source": [
    "train"
   ]
  },
  {
   "cell_type": "code",
   "execution_count": 8,
   "id": "e870ff06",
   "metadata": {},
   "outputs": [
    {
     "data": {
      "text/html": [
       "<div>\n",
       "<style scoped>\n",
       "    .dataframe tbody tr th:only-of-type {\n",
       "        vertical-align: middle;\n",
       "    }\n",
       "\n",
       "    .dataframe tbody tr th {\n",
       "        vertical-align: top;\n",
       "    }\n",
       "\n",
       "    .dataframe thead th {\n",
       "        text-align: right;\n",
       "    }\n",
       "</style>\n",
       "<table border=\"1\" class=\"dataframe\">\n",
       "  <thead>\n",
       "    <tr style=\"text-align: right;\">\n",
       "      <th></th>\n",
       "      <th>no</th>\n",
       "      <th>age</th>\n",
       "      <th>workclass</th>\n",
       "      <th>fnlwgt</th>\n",
       "      <th>education</th>\n",
       "      <th>education-num</th>\n",
       "      <th>marital-status</th>\n",
       "      <th>occupation</th>\n",
       "      <th>relationship</th>\n",
       "      <th>race</th>\n",
       "      <th>sex</th>\n",
       "      <th>capital-gain</th>\n",
       "      <th>capital-loss</th>\n",
       "      <th>hours-per-week</th>\n",
       "      <th>native-country</th>\n",
       "    </tr>\n",
       "  </thead>\n",
       "  <tbody>\n",
       "    <tr>\n",
       "      <th>0</th>\n",
       "      <td>29306</td>\n",
       "      <td>18</td>\n",
       "      <td>?</td>\n",
       "      <td>245274</td>\n",
       "      <td>Some-college</td>\n",
       "      <td>10</td>\n",
       "      <td>Never-married</td>\n",
       "      <td>?</td>\n",
       "      <td>Own-child</td>\n",
       "      <td>White</td>\n",
       "      <td>Male</td>\n",
       "      <td>0</td>\n",
       "      <td>0</td>\n",
       "      <td>16</td>\n",
       "      <td>United-States</td>\n",
       "    </tr>\n",
       "    <tr>\n",
       "      <th>1</th>\n",
       "      <td>29307</td>\n",
       "      <td>29</td>\n",
       "      <td>Private</td>\n",
       "      <td>83003</td>\n",
       "      <td>HS-grad</td>\n",
       "      <td>9</td>\n",
       "      <td>Married-civ-spouse</td>\n",
       "      <td>Other-service</td>\n",
       "      <td>Wife</td>\n",
       "      <td>White</td>\n",
       "      <td>Female</td>\n",
       "      <td>0</td>\n",
       "      <td>0</td>\n",
       "      <td>40</td>\n",
       "      <td>United-States</td>\n",
       "    </tr>\n",
       "    <tr>\n",
       "      <th>2</th>\n",
       "      <td>29308</td>\n",
       "      <td>45</td>\n",
       "      <td>Private</td>\n",
       "      <td>35136</td>\n",
       "      <td>Bachelors</td>\n",
       "      <td>13</td>\n",
       "      <td>Married-civ-spouse</td>\n",
       "      <td>Tech-support</td>\n",
       "      <td>Husband</td>\n",
       "      <td>Black</td>\n",
       "      <td>Male</td>\n",
       "      <td>0</td>\n",
       "      <td>0</td>\n",
       "      <td>40</td>\n",
       "      <td>United-States</td>\n",
       "    </tr>\n",
       "    <tr>\n",
       "      <th>3</th>\n",
       "      <td>29309</td>\n",
       "      <td>42</td>\n",
       "      <td>Self-emp-not-inc</td>\n",
       "      <td>64631</td>\n",
       "      <td>Bachelors</td>\n",
       "      <td>13</td>\n",
       "      <td>Married-civ-spouse</td>\n",
       "      <td>Exec-managerial</td>\n",
       "      <td>Husband</td>\n",
       "      <td>White</td>\n",
       "      <td>Male</td>\n",
       "      <td>0</td>\n",
       "      <td>0</td>\n",
       "      <td>40</td>\n",
       "      <td>United-States</td>\n",
       "    </tr>\n",
       "    <tr>\n",
       "      <th>4</th>\n",
       "      <td>29310</td>\n",
       "      <td>41</td>\n",
       "      <td>Private</td>\n",
       "      <td>195821</td>\n",
       "      <td>Doctorate</td>\n",
       "      <td>16</td>\n",
       "      <td>Married-civ-spouse</td>\n",
       "      <td>Exec-managerial</td>\n",
       "      <td>Wife</td>\n",
       "      <td>White</td>\n",
       "      <td>Female</td>\n",
       "      <td>0</td>\n",
       "      <td>1902</td>\n",
       "      <td>40</td>\n",
       "      <td>United-States</td>\n",
       "    </tr>\n",
       "    <tr>\n",
       "      <th>...</th>\n",
       "      <td>...</td>\n",
       "      <td>...</td>\n",
       "      <td>...</td>\n",
       "      <td>...</td>\n",
       "      <td>...</td>\n",
       "      <td>...</td>\n",
       "      <td>...</td>\n",
       "      <td>...</td>\n",
       "      <td>...</td>\n",
       "      <td>...</td>\n",
       "      <td>...</td>\n",
       "      <td>...</td>\n",
       "      <td>...</td>\n",
       "      <td>...</td>\n",
       "      <td>...</td>\n",
       "    </tr>\n",
       "    <tr>\n",
       "      <th>19532</th>\n",
       "      <td>48838</td>\n",
       "      <td>45</td>\n",
       "      <td>Self-emp-not-inc</td>\n",
       "      <td>116789</td>\n",
       "      <td>HS-grad</td>\n",
       "      <td>9</td>\n",
       "      <td>Married-civ-spouse</td>\n",
       "      <td>Craft-repair</td>\n",
       "      <td>Husband</td>\n",
       "      <td>White</td>\n",
       "      <td>Male</td>\n",
       "      <td>0</td>\n",
       "      <td>0</td>\n",
       "      <td>60</td>\n",
       "      <td>United-States</td>\n",
       "    </tr>\n",
       "    <tr>\n",
       "      <th>19533</th>\n",
       "      <td>48839</td>\n",
       "      <td>48</td>\n",
       "      <td>Private</td>\n",
       "      <td>185079</td>\n",
       "      <td>HS-grad</td>\n",
       "      <td>9</td>\n",
       "      <td>Never-married</td>\n",
       "      <td>Exec-managerial</td>\n",
       "      <td>Not-in-family</td>\n",
       "      <td>White</td>\n",
       "      <td>Female</td>\n",
       "      <td>0</td>\n",
       "      <td>0</td>\n",
       "      <td>50</td>\n",
       "      <td>United-States</td>\n",
       "    </tr>\n",
       "    <tr>\n",
       "      <th>19534</th>\n",
       "      <td>48840</td>\n",
       "      <td>63</td>\n",
       "      <td>Private</td>\n",
       "      <td>117473</td>\n",
       "      <td>Some-college</td>\n",
       "      <td>10</td>\n",
       "      <td>Married-civ-spouse</td>\n",
       "      <td>Prof-specialty</td>\n",
       "      <td>Husband</td>\n",
       "      <td>White</td>\n",
       "      <td>Male</td>\n",
       "      <td>4386</td>\n",
       "      <td>0</td>\n",
       "      <td>40</td>\n",
       "      <td>United-States</td>\n",
       "    </tr>\n",
       "    <tr>\n",
       "      <th>19535</th>\n",
       "      <td>48841</td>\n",
       "      <td>18</td>\n",
       "      <td>Private</td>\n",
       "      <td>150817</td>\n",
       "      <td>11th</td>\n",
       "      <td>7</td>\n",
       "      <td>Never-married</td>\n",
       "      <td>Sales</td>\n",
       "      <td>Own-child</td>\n",
       "      <td>White</td>\n",
       "      <td>Female</td>\n",
       "      <td>0</td>\n",
       "      <td>0</td>\n",
       "      <td>20</td>\n",
       "      <td>United-States</td>\n",
       "    </tr>\n",
       "    <tr>\n",
       "      <th>19536</th>\n",
       "      <td>48842</td>\n",
       "      <td>31</td>\n",
       "      <td>Private</td>\n",
       "      <td>341632</td>\n",
       "      <td>Assoc-acdm</td>\n",
       "      <td>12</td>\n",
       "      <td>Married-civ-spouse</td>\n",
       "      <td>Tech-support</td>\n",
       "      <td>Husband</td>\n",
       "      <td>Black</td>\n",
       "      <td>Male</td>\n",
       "      <td>0</td>\n",
       "      <td>0</td>\n",
       "      <td>46</td>\n",
       "      <td>United-States</td>\n",
       "    </tr>\n",
       "  </tbody>\n",
       "</table>\n",
       "<p>19537 rows × 15 columns</p>\n",
       "</div>"
      ],
      "text/plain": [
       "          no  age          workclass  fnlwgt      education  education-num  \\\n",
       "0      29306   18                  ?  245274   Some-college             10   \n",
       "1      29307   29            Private   83003        HS-grad              9   \n",
       "2      29308   45            Private   35136      Bachelors             13   \n",
       "3      29309   42   Self-emp-not-inc   64631      Bachelors             13   \n",
       "4      29310   41            Private  195821      Doctorate             16   \n",
       "...      ...  ...                ...     ...            ...            ...   \n",
       "19532  48838   45   Self-emp-not-inc  116789        HS-grad              9   \n",
       "19533  48839   48            Private  185079        HS-grad              9   \n",
       "19534  48840   63            Private  117473   Some-college             10   \n",
       "19535  48841   18            Private  150817           11th              7   \n",
       "19536  48842   31            Private  341632     Assoc-acdm             12   \n",
       "\n",
       "            marital-status        occupation    relationship    race      sex  \\\n",
       "0            Never-married                 ?       Own-child   White     Male   \n",
       "1       Married-civ-spouse     Other-service            Wife   White   Female   \n",
       "2       Married-civ-spouse      Tech-support         Husband   Black     Male   \n",
       "3       Married-civ-spouse   Exec-managerial         Husband   White     Male   \n",
       "4       Married-civ-spouse   Exec-managerial            Wife   White   Female   \n",
       "...                    ...               ...             ...     ...      ...   \n",
       "19532   Married-civ-spouse      Craft-repair         Husband   White     Male   \n",
       "19533        Never-married   Exec-managerial   Not-in-family   White   Female   \n",
       "19534   Married-civ-spouse    Prof-specialty         Husband   White     Male   \n",
       "19535        Never-married             Sales       Own-child   White   Female   \n",
       "19536   Married-civ-spouse      Tech-support         Husband   Black     Male   \n",
       "\n",
       "       capital-gain  capital-loss  hours-per-week  native-country  \n",
       "0                 0             0              16   United-States  \n",
       "1                 0             0              40   United-States  \n",
       "2                 0             0              40   United-States  \n",
       "3                 0             0              40   United-States  \n",
       "4                 0          1902              40   United-States  \n",
       "...             ...           ...             ...             ...  \n",
       "19532             0             0              60   United-States  \n",
       "19533             0             0              50   United-States  \n",
       "19534          4386             0              40   United-States  \n",
       "19535             0             0              20   United-States  \n",
       "19536             0             0              46   United-States  \n",
       "\n",
       "[19537 rows x 15 columns]"
      ]
     },
     "execution_count": 8,
     "metadata": {},
     "output_type": "execute_result"
    }
   ],
   "source": [
    "test"
   ]
  },
  {
   "cell_type": "code",
   "execution_count": 9,
   "id": "45cf51b1",
   "metadata": {},
   "outputs": [
    {
     "data": {
      "text/plain": [
       "Index(['no', 'age', 'workclass', 'fnlwgt', 'education', 'education-num',\n",
       "       'marital-status', 'occupation', 'relationship', 'race', 'sex',\n",
       "       'capital-gain', 'capital-loss', 'hours-per-week', 'native-country',\n",
       "       'income'],\n",
       "      dtype='object')"
      ]
     },
     "execution_count": 9,
     "metadata": {},
     "output_type": "execute_result"
    }
   ],
   "source": [
    "train.columns"
   ]
  },
  {
   "cell_type": "markdown",
   "id": "e104f939",
   "metadata": {},
   "source": [
    "# 결측치"
   ]
  },
  {
   "cell_type": "markdown",
   "id": "e619933c",
   "metadata": {},
   "source": [
    "### train"
   ]
  },
  {
   "cell_type": "markdown",
   "id": "aa8e370d",
   "metadata": {},
   "source": [
    "- 결측치 확인"
   ]
  },
  {
   "cell_type": "code",
   "execution_count": 10,
   "id": "89eecf8d",
   "metadata": {},
   "outputs": [
    {
     "data": {
      "text/plain": [
       "array([' Private', ' Self-emp-not-inc', ' Local-gov', ' ?', ' State-gov',\n",
       "       ' Self-emp-inc', ' Federal-gov', ' Without-pay', ' Never-worked'],\n",
       "      dtype=object)"
      ]
     },
     "execution_count": 10,
     "metadata": {},
     "output_type": "execute_result"
    }
   ],
   "source": [
    "train['workclass'].unique()"
   ]
  },
  {
   "cell_type": "code",
   "execution_count": 11,
   "id": "3e46a422",
   "metadata": {},
   "outputs": [
    {
     "data": {
      "text/plain": [
       "array([' Machine-op-inspct', ' Other-service', ' Handlers-cleaners',\n",
       "       ' Tech-support', ' Transport-moving', ' Farming-fishing',\n",
       "       ' Prof-specialty', ' Priv-house-serv', ' Adm-clerical',\n",
       "       ' Protective-serv', ' Exec-managerial', ' ?', ' Craft-repair',\n",
       "       ' Sales', ' Armed-Forces'], dtype=object)"
      ]
     },
     "execution_count": 11,
     "metadata": {},
     "output_type": "execute_result"
    }
   ],
   "source": [
    "train['occupation'].unique()"
   ]
  },
  {
   "cell_type": "code",
   "execution_count": 12,
   "id": "ff1f1d5a",
   "metadata": {},
   "outputs": [
    {
     "data": {
      "text/plain": [
       "array([' United-States', ' Haiti', ' Mexico', ' Puerto-Rico',\n",
       "       ' Philippines', ' ?', ' Germany', ' Peru', ' Ecuador', ' Iran',\n",
       "       ' Thailand', ' Dominican-Republic', ' Poland', ' Scotland',\n",
       "       ' Italy', ' Jamaica', ' China', ' Portugal', ' Columbia',\n",
       "       ' Hungary', ' Vietnam', ' Taiwan', ' Canada', ' Hong',\n",
       "       ' Guatemala', ' El-Salvador', ' England',\n",
       "       ' Outlying-US(Guam-USVI-etc)', ' India', ' France', ' Cuba',\n",
       "       ' Greece', ' Trinadad&Tobago', ' South', ' Japan', ' Yugoslavia',\n",
       "       ' Nicaragua', ' Ireland', ' Cambodia', ' Laos', ' Honduras',\n",
       "       ' Holand-Netherlands'], dtype=object)"
      ]
     },
     "execution_count": 12,
     "metadata": {},
     "output_type": "execute_result"
    }
   ],
   "source": [
    "train['native-country'].unique()"
   ]
  },
  {
   "cell_type": "code",
   "execution_count": 13,
   "id": "5adfe6f4",
   "metadata": {},
   "outputs": [
    {
     "data": {
      "text/plain": [
       " Private             20410\n",
       " Self-emp-not-inc     2305\n",
       " Local-gov            1868\n",
       " ?                    1663\n",
       " State-gov            1201\n",
       " Self-emp-inc          987\n",
       " Federal-gov           854\n",
       " Without-pay            12\n",
       " Never-worked            5\n",
       "Name: workclass, dtype: int64"
      ]
     },
     "execution_count": 13,
     "metadata": {},
     "output_type": "execute_result"
    }
   ],
   "source": [
    "train[\"workclass\"].value_counts()"
   ]
  },
  {
   "cell_type": "code",
   "execution_count": 14,
   "id": "d8fab902",
   "metadata": {},
   "outputs": [
    {
     "data": {
      "text/plain": [
       " Prof-specialty       3724\n",
       " Craft-repair         3632\n",
       " Exec-managerial      3609\n",
       " Adm-clerical         3440\n",
       " Sales                3292\n",
       " Other-service        2975\n",
       " Machine-op-inspct    1811\n",
       " ?                    1668\n",
       " Transport-moving     1393\n",
       " Handlers-cleaners    1249\n",
       " Farming-fishing       888\n",
       " Tech-support          865\n",
       " Protective-serv       603\n",
       " Priv-house-serv       146\n",
       " Armed-Forces           10\n",
       "Name: occupation, dtype: int64"
      ]
     },
     "execution_count": 14,
     "metadata": {},
     "output_type": "execute_result"
    }
   ],
   "source": [
    "train['occupation'].value_counts()"
   ]
  },
  {
   "cell_type": "code",
   "execution_count": 15,
   "id": "1e997a37",
   "metadata": {},
   "outputs": [
    {
     "data": {
      "text/plain": [
       " United-States                 26301\n",
       " Mexico                          579\n",
       " ?                               495\n",
       " Philippines                     178\n",
       " Germany                         124\n",
       " Puerto-Rico                     117\n",
       " Canada                          111\n",
       " El-Salvador                      96\n",
       " Cuba                             94\n",
       " India                            90\n",
       " England                          75\n",
       " South                            74\n",
       " Jamaica                          68\n",
       " China                            68\n",
       " Dominican-Republic               61\n",
       " Italy                            60\n",
       " Japan                            54\n",
       " Poland                           53\n",
       " Columbia                         53\n",
       " Guatemala                        51\n",
       " Haiti                            51\n",
       " Vietnam                          50\n",
       " Portugal                         43\n",
       " Taiwan                           39\n",
       " Iran                             38\n",
       " Nicaragua                        28\n",
       " Peru                             25\n",
       " Greece                           25\n",
       " Ireland                          23\n",
       " Ecuador                          21\n",
       " France                           20\n",
       " Cambodia                         19\n",
       " Hong                             19\n",
       " Thailand                         15\n",
       " Outlying-US(Guam-USVI-etc)       15\n",
       " Trinadad&Tobago                  13\n",
       " Yugoslavia                       13\n",
       " Laos                             13\n",
       " Hungary                          12\n",
       " Honduras                         11\n",
       " Scotland                          9\n",
       " Holand-Netherlands                1\n",
       "Name: native-country, dtype: int64"
      ]
     },
     "execution_count": 15,
     "metadata": {},
     "output_type": "execute_result"
    }
   ],
   "source": [
    "train['native-country'].value_counts()"
   ]
  },
  {
   "cell_type": "markdown",
   "id": "0fb0ade9",
   "metadata": {},
   "source": [
    "- 결측치 None값으로 변경"
   ]
  },
  {
   "cell_type": "code",
   "execution_count": 16,
   "id": "72943f10",
   "metadata": {},
   "outputs": [],
   "source": [
    "train[\"workclass\"] = train[\"workclass\"].replace(\" ?\", None)\n",
    "train[\"occupation\"] = train[\"occupation\"].replace(\" ?\", None)\n",
    "train[\"native-country\"] = train[\"native-country\"].replace(\" ?\", None)"
   ]
  },
  {
   "cell_type": "code",
   "execution_count": 17,
   "id": "3e880879",
   "metadata": {},
   "outputs": [
    {
     "data": {
      "text/plain": [
       "no                   0\n",
       "age                  0\n",
       "workclass         1663\n",
       "fnlwgt               0\n",
       "education            0\n",
       "education-num        0\n",
       "marital-status       0\n",
       "occupation        1668\n",
       "relationship         0\n",
       "race                 0\n",
       "sex                  0\n",
       "capital-gain         0\n",
       "capital-loss         0\n",
       "hours-per-week       0\n",
       "native-country     495\n",
       "income               0\n",
       "dtype: int64"
      ]
     },
     "execution_count": 17,
     "metadata": {},
     "output_type": "execute_result"
    }
   ],
   "source": [
    "train.isnull().sum()"
   ]
  },
  {
   "cell_type": "markdown",
   "id": "2278d6ea",
   "metadata": {},
   "source": [
    "- 결측치 채우기"
   ]
  },
  {
   "cell_type": "code",
   "execution_count": 18,
   "id": "5f0eaa18",
   "metadata": {},
   "outputs": [],
   "source": [
    "train[\"workclass\"] = train[\"workclass\"].fillna(\" Private\")\n",
    "train[\"occupation\"] = train[\"occupation\"].fillna(\" Prof-specialty\")\n",
    "train[\"native-country\"] = train[\"native-country\"].fillna(\" United-States\")"
   ]
  },
  {
   "cell_type": "markdown",
   "id": "1299ae9a",
   "metadata": {},
   "source": [
    "### test"
   ]
  },
  {
   "cell_type": "markdown",
   "id": "f8ff6557",
   "metadata": {},
   "source": [
    "- 결측치 확인"
   ]
  },
  {
   "cell_type": "code",
   "execution_count": 19,
   "id": "4e84240b",
   "metadata": {},
   "outputs": [
    {
     "data": {
      "text/plain": [
       " Private             13496\n",
       " Self-emp-not-inc     1557\n",
       " Local-gov            1268\n",
       " ?                    1136\n",
       " State-gov             780\n",
       " Self-emp-inc          708\n",
       " Federal-gov           578\n",
       " Without-pay             9\n",
       " Never-worked            5\n",
       "Name: workclass, dtype: int64"
      ]
     },
     "execution_count": 19,
     "metadata": {},
     "output_type": "execute_result"
    }
   ],
   "source": [
    "test[\"workclass\"].value_counts()"
   ]
  },
  {
   "cell_type": "code",
   "execution_count": 20,
   "id": "8f9382fa",
   "metadata": {},
   "outputs": [
    {
     "data": {
      "text/plain": [
       " Craft-repair         2480\n",
       " Exec-managerial      2477\n",
       " Prof-specialty       2448\n",
       " Sales                2212\n",
       " Adm-clerical         2171\n",
       " Other-service        1948\n",
       " Machine-op-inspct    1211\n",
       " ?                    1141\n",
       " Transport-moving      962\n",
       " Handlers-cleaners     823\n",
       " Farming-fishing       602\n",
       " Tech-support          581\n",
       " Protective-serv       380\n",
       " Priv-house-serv        96\n",
       " Armed-Forces            5\n",
       "Name: occupation, dtype: int64"
      ]
     },
     "execution_count": 20,
     "metadata": {},
     "output_type": "execute_result"
    }
   ],
   "source": [
    "test['occupation'].value_counts()"
   ]
  },
  {
   "cell_type": "code",
   "execution_count": 21,
   "id": "99e83a6c",
   "metadata": {},
   "outputs": [
    {
     "data": {
      "text/plain": [
       " United-States                 17531\n",
       " Mexico                          372\n",
       " ?                               362\n",
       " Philippines                     117\n",
       " Germany                          82\n",
       " Canada                           71\n",
       " Puerto-Rico                      67\n",
       " India                            61\n",
       " El-Salvador                      59\n",
       " China                            54\n",
       " England                          52\n",
       " Italy                            45\n",
       " Cuba                             44\n",
       " Dominican-Republic               42\n",
       " South                            41\n",
       " Jamaica                          38\n",
       " Japan                            38\n",
       " Guatemala                        37\n",
       " Vietnam                          36\n",
       " Poland                           34\n",
       " Columbia                         32\n",
       " Taiwan                           26\n",
       " Ecuador                          24\n",
       " Portugal                         24\n",
       " Haiti                            24\n",
       " Greece                           24\n",
       " Nicaragua                        21\n",
       " Peru                             21\n",
       " Iran                             21\n",
       " France                           18\n",
       " Thailand                         15\n",
       " Ireland                          14\n",
       " Trinadad&Tobago                  14\n",
       " Scotland                         12\n",
       " Hong                             11\n",
       " Laos                             10\n",
       " Yugoslavia                       10\n",
       " Honduras                          9\n",
       " Cambodia                          9\n",
       " Outlying-US(Guam-USVI-etc)        8\n",
       " Hungary                           7\n",
       "Name: native-country, dtype: int64"
      ]
     },
     "execution_count": 21,
     "metadata": {},
     "output_type": "execute_result"
    }
   ],
   "source": [
    "test['native-country'].value_counts()"
   ]
  },
  {
   "cell_type": "markdown",
   "id": "85a21f76",
   "metadata": {},
   "source": [
    "- 결측치 None값으로"
   ]
  },
  {
   "cell_type": "code",
   "execution_count": 22,
   "id": "3c57ffc5",
   "metadata": {},
   "outputs": [],
   "source": [
    "test[\"workclass\"] = test[\"workclass\"].replace(\" ?\", None)\n",
    "test[\"occupation\"] = test[\"occupation\"].replace(\" ?\", None)\n",
    "test[\"native-country\"] = test[\"native-country\"].replace(\" ?\", None)"
   ]
  },
  {
   "cell_type": "markdown",
   "id": "a8148960",
   "metadata": {},
   "source": [
    "- 결측치 채우기"
   ]
  },
  {
   "cell_type": "code",
   "execution_count": 23,
   "id": "0535c6bc",
   "metadata": {},
   "outputs": [],
   "source": [
    "test[\"workclass\"] = test[\"workclass\"].fillna(\" Private\")\n",
    "test[\"occupation\"] = test[\"occupation\"].fillna(\" Prof-specialty\")\n",
    "test[\"native-country\"] = test[\"native-country\"].fillna(\" United-States\")"
   ]
  },
  {
   "cell_type": "markdown",
   "id": "621820d9",
   "metadata": {},
   "source": [
    "- 범주 묶기"
   ]
  },
  {
   "cell_type": "code",
   "execution_count": 24,
   "id": "9376c746",
   "metadata": {},
   "outputs": [],
   "source": [
    "# 묶어서 Others로 바꾸기\n",
    "title_dic={'United-States':'United-States','Mexico':'Mexico','Philippines':'Philippines', 'Germany':'Germany','Puerto-Rico':'Puerto-Rico', 'Canada':'Canada'}\n",
    "title_mapping=train['native-country'].map(title_dic)\n",
    "title_mapping[title_mapping.isnull()]\n",
    "train['native-country']=title_mapping.fillna(\"Other\")"
   ]
  },
  {
   "cell_type": "code",
   "execution_count": 25,
   "id": "5b10a425",
   "metadata": {},
   "outputs": [],
   "source": [
    "# 묶어서 Others로 바꾸기\n",
    "title_dic={'United-States':'United-States','Mexico':'Mexico','Philippines':'Philippines', 'Germany':'Germany','Puerto-Rico':'Puerto-Rico', 'Canada':'Canada'}\n",
    "title_mapping=test['native-country'].map(title_dic)\n",
    "title_mapping[title_mapping.isnull()]\n",
    "test['native-country']=title_mapping.fillna(\"Other\")"
   ]
  },
  {
   "cell_type": "markdown",
   "id": "9f29b69d",
   "metadata": {},
   "source": [
    "# 인코딩"
   ]
  },
  {
   "cell_type": "code",
   "execution_count": 26,
   "id": "3305bd33",
   "metadata": {},
   "outputs": [],
   "source": [
    "# 인코딩할 컬럼명만 선택\n",
    "categorical_features = ['workclass', 'education','marital-status', 'occupation', 'relationship', 'race', 'sex', 'native-country']"
   ]
  },
  {
   "cell_type": "code",
   "execution_count": 27,
   "id": "1e716401",
   "metadata": {},
   "outputs": [],
   "source": [
    "# 반복문으로 인코딩하기(train)\n",
    "for feature_name in categorical_features :\n",
    "    one_hot = pd.get_dummies(train[feature_name], prefix=feature_name)\n",
    "    train = pd.concat([train,one_hot], axis=1)        # 기존 데이터 끝에 one_hot을 붙임\n",
    "    train.drop(feature_name, axis=1, inplace=True)   # 기존 글자 컬럼 삭제"
   ]
  },
  {
   "cell_type": "code",
   "execution_count": 28,
   "id": "667fbcbb",
   "metadata": {},
   "outputs": [],
   "source": [
    "# 반복문으로 인코딩하기(test)\n",
    "for feature_name in categorical_features :\n",
    "    one_hot = pd.get_dummies(test[feature_name], prefix=feature_name)\n",
    "    test = pd.concat([test,one_hot], axis=1)        # 기존 데이터 끝에 one_hot을 붙임\n",
    "    test.drop(feature_name, axis=1, inplace=True)   # 기존 글자 컬럼 삭제"
   ]
  },
  {
   "cell_type": "code",
   "execution_count": 29,
   "id": "29aef1d7",
   "metadata": {},
   "outputs": [
    {
     "data": {
      "text/plain": [
       "((29305, 67), (19537, 66))"
      ]
     },
     "execution_count": 29,
     "metadata": {},
     "output_type": "execute_result"
    }
   ],
   "source": [
    "train.shape, test.shape"
   ]
  },
  {
   "cell_type": "code",
   "execution_count": 30,
   "id": "5d5c7f50",
   "metadata": {},
   "outputs": [
    {
     "data": {
      "text/plain": [
       "{'income'}"
      ]
     },
     "execution_count": 30,
     "metadata": {},
     "output_type": "execute_result"
    }
   ],
   "source": [
    "set(train.columns) - set(test.columns)"
   ]
  },
  {
   "cell_type": "code",
   "execution_count": 31,
   "id": "e603d9fe",
   "metadata": {},
   "outputs": [],
   "source": [
    "# 훈련용 데이터와 테스트 데이터의 인덱스 순서가 다르기 때문에 정렬해주자.\n",
    "train.sort_index(axis=1, inplace=True)\n",
    "test.sort_index(axis=1, inplace=True)"
   ]
  },
  {
   "cell_type": "code",
   "execution_count": 32,
   "id": "11c781b7",
   "metadata": {},
   "outputs": [
    {
     "data": {
      "text/plain": [
       "Index(['age', 'capital-gain', 'capital-loss', 'education-num',\n",
       "       'education_ 10th', 'education_ 11th', 'education_ 12th',\n",
       "       'education_ 1st-4th', 'education_ 5th-6th', 'education_ 7th-8th',\n",
       "       'education_ 9th', 'education_ Assoc-acdm', 'education_ Assoc-voc',\n",
       "       'education_ Bachelors', 'education_ Doctorate', 'education_ HS-grad',\n",
       "       'education_ Masters', 'education_ Preschool', 'education_ Prof-school',\n",
       "       'education_ Some-college', 'fnlwgt', 'hours-per-week', 'income',\n",
       "       'marital-status_ Divorced', 'marital-status_ Married-AF-spouse',\n",
       "       'marital-status_ Married-civ-spouse',\n",
       "       'marital-status_ Married-spouse-absent',\n",
       "       'marital-status_ Never-married', 'marital-status_ Separated',\n",
       "       'marital-status_ Widowed', 'native-country_Other', 'no',\n",
       "       'occupation_ Adm-clerical', 'occupation_ Armed-Forces',\n",
       "       'occupation_ Craft-repair', 'occupation_ Exec-managerial',\n",
       "       'occupation_ Farming-fishing', 'occupation_ Handlers-cleaners',\n",
       "       'occupation_ Machine-op-inspct', 'occupation_ Other-service',\n",
       "       'occupation_ Priv-house-serv', 'occupation_ Prof-specialty',\n",
       "       'occupation_ Protective-serv', 'occupation_ Sales',\n",
       "       'occupation_ Tech-support', 'occupation_ Transport-moving',\n",
       "       'race_ Amer-Indian-Eskimo', 'race_ Asian-Pac-Islander', 'race_ Black',\n",
       "       'race_ Other', 'race_ White', 'relationship_ Husband',\n",
       "       'relationship_ Not-in-family', 'relationship_ Other-relative',\n",
       "       'relationship_ Own-child', 'relationship_ Unmarried',\n",
       "       'relationship_ Wife', 'sex_ Female', 'sex_ Male',\n",
       "       'workclass_ Federal-gov', 'workclass_ Local-gov',\n",
       "       'workclass_ Never-worked', 'workclass_ Private',\n",
       "       'workclass_ Self-emp-inc', 'workclass_ Self-emp-not-inc',\n",
       "       'workclass_ State-gov', 'workclass_ Without-pay'],\n",
       "      dtype='object')"
      ]
     },
     "execution_count": 32,
     "metadata": {},
     "output_type": "execute_result"
    }
   ],
   "source": [
    "train.columns"
   ]
  },
  {
   "cell_type": "code",
   "execution_count": 33,
   "id": "544e1efb",
   "metadata": {},
   "outputs": [
    {
     "data": {
      "text/plain": [
       "Index(['age', 'capital-gain', 'capital-loss', 'education-num',\n",
       "       'education_ 10th', 'education_ 11th', 'education_ 12th',\n",
       "       'education_ 1st-4th', 'education_ 5th-6th', 'education_ 7th-8th',\n",
       "       'education_ 9th', 'education_ Assoc-acdm', 'education_ Assoc-voc',\n",
       "       'education_ Bachelors', 'education_ Doctorate', 'education_ HS-grad',\n",
       "       'education_ Masters', 'education_ Preschool', 'education_ Prof-school',\n",
       "       'education_ Some-college', 'fnlwgt', 'hours-per-week',\n",
       "       'marital-status_ Divorced', 'marital-status_ Married-AF-spouse',\n",
       "       'marital-status_ Married-civ-spouse',\n",
       "       'marital-status_ Married-spouse-absent',\n",
       "       'marital-status_ Never-married', 'marital-status_ Separated',\n",
       "       'marital-status_ Widowed', 'native-country_Other', 'no',\n",
       "       'occupation_ Adm-clerical', 'occupation_ Armed-Forces',\n",
       "       'occupation_ Craft-repair', 'occupation_ Exec-managerial',\n",
       "       'occupation_ Farming-fishing', 'occupation_ Handlers-cleaners',\n",
       "       'occupation_ Machine-op-inspct', 'occupation_ Other-service',\n",
       "       'occupation_ Priv-house-serv', 'occupation_ Prof-specialty',\n",
       "       'occupation_ Protective-serv', 'occupation_ Sales',\n",
       "       'occupation_ Tech-support', 'occupation_ Transport-moving',\n",
       "       'race_ Amer-Indian-Eskimo', 'race_ Asian-Pac-Islander', 'race_ Black',\n",
       "       'race_ Other', 'race_ White', 'relationship_ Husband',\n",
       "       'relationship_ Not-in-family', 'relationship_ Other-relative',\n",
       "       'relationship_ Own-child', 'relationship_ Unmarried',\n",
       "       'relationship_ Wife', 'sex_ Female', 'sex_ Male',\n",
       "       'workclass_ Federal-gov', 'workclass_ Local-gov',\n",
       "       'workclass_ Never-worked', 'workclass_ Private',\n",
       "       'workclass_ Self-emp-inc', 'workclass_ Self-emp-not-inc',\n",
       "       'workclass_ State-gov', 'workclass_ Without-pay'],\n",
       "      dtype='object')"
      ]
     },
     "execution_count": 33,
     "metadata": {},
     "output_type": "execute_result"
    }
   ],
   "source": [
    "test.columns"
   ]
  },
  {
   "cell_type": "code",
   "execution_count": null,
   "id": "90855b8f",
   "metadata": {},
   "outputs": [],
   "source": []
  },
  {
   "cell_type": "code",
   "execution_count": null,
   "id": "d4eeeae7",
   "metadata": {},
   "outputs": [],
   "source": []
  },
  {
   "cell_type": "markdown",
   "id": "ef0bf88a",
   "metadata": {},
   "source": [
    "# 모델링 - 특성선택"
   ]
  },
  {
   "cell_type": "code",
   "execution_count": 34,
   "id": "bbebcc8f",
   "metadata": {},
   "outputs": [
    {
     "data": {
      "text/html": [
       "<div>\n",
       "<style scoped>\n",
       "    .dataframe tbody tr th:only-of-type {\n",
       "        vertical-align: middle;\n",
       "    }\n",
       "\n",
       "    .dataframe tbody tr th {\n",
       "        vertical-align: top;\n",
       "    }\n",
       "\n",
       "    .dataframe thead th {\n",
       "        text-align: right;\n",
       "    }\n",
       "</style>\n",
       "<table border=\"1\" class=\"dataframe\">\n",
       "  <thead>\n",
       "    <tr style=\"text-align: right;\">\n",
       "      <th></th>\n",
       "      <th>age</th>\n",
       "      <th>capital-gain</th>\n",
       "      <th>capital-loss</th>\n",
       "      <th>education-num</th>\n",
       "      <th>education_ 10th</th>\n",
       "      <th>education_ 11th</th>\n",
       "      <th>education_ 12th</th>\n",
       "      <th>education_ 1st-4th</th>\n",
       "      <th>education_ 5th-6th</th>\n",
       "      <th>education_ 7th-8th</th>\n",
       "      <th>...</th>\n",
       "      <th>sex_ Female</th>\n",
       "      <th>sex_ Male</th>\n",
       "      <th>workclass_ Federal-gov</th>\n",
       "      <th>workclass_ Local-gov</th>\n",
       "      <th>workclass_ Never-worked</th>\n",
       "      <th>workclass_ Private</th>\n",
       "      <th>workclass_ Self-emp-inc</th>\n",
       "      <th>workclass_ Self-emp-not-inc</th>\n",
       "      <th>workclass_ State-gov</th>\n",
       "      <th>workclass_ Without-pay</th>\n",
       "    </tr>\n",
       "  </thead>\n",
       "  <tbody>\n",
       "    <tr>\n",
       "      <th>0</th>\n",
       "      <td>25</td>\n",
       "      <td>0</td>\n",
       "      <td>0</td>\n",
       "      <td>7</td>\n",
       "      <td>0</td>\n",
       "      <td>1</td>\n",
       "      <td>0</td>\n",
       "      <td>0</td>\n",
       "      <td>0</td>\n",
       "      <td>0</td>\n",
       "      <td>...</td>\n",
       "      <td>0</td>\n",
       "      <td>1</td>\n",
       "      <td>0</td>\n",
       "      <td>0</td>\n",
       "      <td>0</td>\n",
       "      <td>1</td>\n",
       "      <td>0</td>\n",
       "      <td>0</td>\n",
       "      <td>0</td>\n",
       "      <td>0</td>\n",
       "    </tr>\n",
       "    <tr>\n",
       "      <th>1</th>\n",
       "      <td>39</td>\n",
       "      <td>0</td>\n",
       "      <td>1721</td>\n",
       "      <td>10</td>\n",
       "      <td>0</td>\n",
       "      <td>0</td>\n",
       "      <td>0</td>\n",
       "      <td>0</td>\n",
       "      <td>0</td>\n",
       "      <td>0</td>\n",
       "      <td>...</td>\n",
       "      <td>1</td>\n",
       "      <td>0</td>\n",
       "      <td>0</td>\n",
       "      <td>0</td>\n",
       "      <td>0</td>\n",
       "      <td>1</td>\n",
       "      <td>0</td>\n",
       "      <td>0</td>\n",
       "      <td>0</td>\n",
       "      <td>0</td>\n",
       "    </tr>\n",
       "    <tr>\n",
       "      <th>2</th>\n",
       "      <td>35</td>\n",
       "      <td>0</td>\n",
       "      <td>0</td>\n",
       "      <td>13</td>\n",
       "      <td>0</td>\n",
       "      <td>0</td>\n",
       "      <td>0</td>\n",
       "      <td>0</td>\n",
       "      <td>0</td>\n",
       "      <td>0</td>\n",
       "      <td>...</td>\n",
       "      <td>1</td>\n",
       "      <td>0</td>\n",
       "      <td>0</td>\n",
       "      <td>0</td>\n",
       "      <td>0</td>\n",
       "      <td>1</td>\n",
       "      <td>0</td>\n",
       "      <td>0</td>\n",
       "      <td>0</td>\n",
       "      <td>0</td>\n",
       "    </tr>\n",
       "    <tr>\n",
       "      <th>3</th>\n",
       "      <td>64</td>\n",
       "      <td>0</td>\n",
       "      <td>0</td>\n",
       "      <td>11</td>\n",
       "      <td>0</td>\n",
       "      <td>0</td>\n",
       "      <td>0</td>\n",
       "      <td>0</td>\n",
       "      <td>0</td>\n",
       "      <td>0</td>\n",
       "      <td>...</td>\n",
       "      <td>1</td>\n",
       "      <td>0</td>\n",
       "      <td>0</td>\n",
       "      <td>0</td>\n",
       "      <td>0</td>\n",
       "      <td>1</td>\n",
       "      <td>0</td>\n",
       "      <td>0</td>\n",
       "      <td>0</td>\n",
       "      <td>0</td>\n",
       "    </tr>\n",
       "    <tr>\n",
       "      <th>4</th>\n",
       "      <td>24</td>\n",
       "      <td>0</td>\n",
       "      <td>0</td>\n",
       "      <td>10</td>\n",
       "      <td>0</td>\n",
       "      <td>0</td>\n",
       "      <td>0</td>\n",
       "      <td>0</td>\n",
       "      <td>0</td>\n",
       "      <td>0</td>\n",
       "      <td>...</td>\n",
       "      <td>0</td>\n",
       "      <td>1</td>\n",
       "      <td>0</td>\n",
       "      <td>0</td>\n",
       "      <td>0</td>\n",
       "      <td>1</td>\n",
       "      <td>0</td>\n",
       "      <td>0</td>\n",
       "      <td>0</td>\n",
       "      <td>0</td>\n",
       "    </tr>\n",
       "    <tr>\n",
       "      <th>...</th>\n",
       "      <td>...</td>\n",
       "      <td>...</td>\n",
       "      <td>...</td>\n",
       "      <td>...</td>\n",
       "      <td>...</td>\n",
       "      <td>...</td>\n",
       "      <td>...</td>\n",
       "      <td>...</td>\n",
       "      <td>...</td>\n",
       "      <td>...</td>\n",
       "      <td>...</td>\n",
       "      <td>...</td>\n",
       "      <td>...</td>\n",
       "      <td>...</td>\n",
       "      <td>...</td>\n",
       "      <td>...</td>\n",
       "      <td>...</td>\n",
       "      <td>...</td>\n",
       "      <td>...</td>\n",
       "      <td>...</td>\n",
       "      <td>...</td>\n",
       "    </tr>\n",
       "    <tr>\n",
       "      <th>29300</th>\n",
       "      <td>20</td>\n",
       "      <td>0</td>\n",
       "      <td>0</td>\n",
       "      <td>9</td>\n",
       "      <td>0</td>\n",
       "      <td>0</td>\n",
       "      <td>0</td>\n",
       "      <td>0</td>\n",
       "      <td>0</td>\n",
       "      <td>0</td>\n",
       "      <td>...</td>\n",
       "      <td>0</td>\n",
       "      <td>1</td>\n",
       "      <td>0</td>\n",
       "      <td>0</td>\n",
       "      <td>0</td>\n",
       "      <td>1</td>\n",
       "      <td>0</td>\n",
       "      <td>0</td>\n",
       "      <td>0</td>\n",
       "      <td>0</td>\n",
       "    </tr>\n",
       "    <tr>\n",
       "      <th>29301</th>\n",
       "      <td>21</td>\n",
       "      <td>0</td>\n",
       "      <td>0</td>\n",
       "      <td>9</td>\n",
       "      <td>0</td>\n",
       "      <td>0</td>\n",
       "      <td>0</td>\n",
       "      <td>0</td>\n",
       "      <td>0</td>\n",
       "      <td>0</td>\n",
       "      <td>...</td>\n",
       "      <td>0</td>\n",
       "      <td>1</td>\n",
       "      <td>0</td>\n",
       "      <td>0</td>\n",
       "      <td>0</td>\n",
       "      <td>1</td>\n",
       "      <td>0</td>\n",
       "      <td>0</td>\n",
       "      <td>0</td>\n",
       "      <td>0</td>\n",
       "    </tr>\n",
       "    <tr>\n",
       "      <th>29302</th>\n",
       "      <td>18</td>\n",
       "      <td>0</td>\n",
       "      <td>0</td>\n",
       "      <td>6</td>\n",
       "      <td>1</td>\n",
       "      <td>0</td>\n",
       "      <td>0</td>\n",
       "      <td>0</td>\n",
       "      <td>0</td>\n",
       "      <td>0</td>\n",
       "      <td>...</td>\n",
       "      <td>0</td>\n",
       "      <td>1</td>\n",
       "      <td>0</td>\n",
       "      <td>0</td>\n",
       "      <td>0</td>\n",
       "      <td>0</td>\n",
       "      <td>0</td>\n",
       "      <td>1</td>\n",
       "      <td>0</td>\n",
       "      <td>0</td>\n",
       "    </tr>\n",
       "    <tr>\n",
       "      <th>29303</th>\n",
       "      <td>33</td>\n",
       "      <td>0</td>\n",
       "      <td>0</td>\n",
       "      <td>7</td>\n",
       "      <td>0</td>\n",
       "      <td>1</td>\n",
       "      <td>0</td>\n",
       "      <td>0</td>\n",
       "      <td>0</td>\n",
       "      <td>0</td>\n",
       "      <td>...</td>\n",
       "      <td>0</td>\n",
       "      <td>1</td>\n",
       "      <td>0</td>\n",
       "      <td>0</td>\n",
       "      <td>0</td>\n",
       "      <td>1</td>\n",
       "      <td>0</td>\n",
       "      <td>0</td>\n",
       "      <td>0</td>\n",
       "      <td>0</td>\n",
       "    </tr>\n",
       "    <tr>\n",
       "      <th>29304</th>\n",
       "      <td>65</td>\n",
       "      <td>0</td>\n",
       "      <td>0</td>\n",
       "      <td>9</td>\n",
       "      <td>0</td>\n",
       "      <td>0</td>\n",
       "      <td>0</td>\n",
       "      <td>0</td>\n",
       "      <td>0</td>\n",
       "      <td>0</td>\n",
       "      <td>...</td>\n",
       "      <td>1</td>\n",
       "      <td>0</td>\n",
       "      <td>0</td>\n",
       "      <td>0</td>\n",
       "      <td>0</td>\n",
       "      <td>1</td>\n",
       "      <td>0</td>\n",
       "      <td>0</td>\n",
       "      <td>0</td>\n",
       "      <td>0</td>\n",
       "    </tr>\n",
       "  </tbody>\n",
       "</table>\n",
       "<p>29305 rows × 67 columns</p>\n",
       "</div>"
      ],
      "text/plain": [
       "       age  capital-gain  capital-loss  education-num  education_ 10th  \\\n",
       "0       25             0             0              7                0   \n",
       "1       39             0          1721             10                0   \n",
       "2       35             0             0             13                0   \n",
       "3       64             0             0             11                0   \n",
       "4       24             0             0             10                0   \n",
       "...    ...           ...           ...            ...              ...   \n",
       "29300   20             0             0              9                0   \n",
       "29301   21             0             0              9                0   \n",
       "29302   18             0             0              6                1   \n",
       "29303   33             0             0              7                0   \n",
       "29304   65             0             0              9                0   \n",
       "\n",
       "       education_ 11th  education_ 12th  education_ 1st-4th  \\\n",
       "0                    1                0                   0   \n",
       "1                    0                0                   0   \n",
       "2                    0                0                   0   \n",
       "3                    0                0                   0   \n",
       "4                    0                0                   0   \n",
       "...                ...              ...                 ...   \n",
       "29300                0                0                   0   \n",
       "29301                0                0                   0   \n",
       "29302                0                0                   0   \n",
       "29303                1                0                   0   \n",
       "29304                0                0                   0   \n",
       "\n",
       "       education_ 5th-6th  education_ 7th-8th  ...  sex_ Female  sex_ Male  \\\n",
       "0                       0                   0  ...            0          1   \n",
       "1                       0                   0  ...            1          0   \n",
       "2                       0                   0  ...            1          0   \n",
       "3                       0                   0  ...            1          0   \n",
       "4                       0                   0  ...            0          1   \n",
       "...                   ...                 ...  ...          ...        ...   \n",
       "29300                   0                   0  ...            0          1   \n",
       "29301                   0                   0  ...            0          1   \n",
       "29302                   0                   0  ...            0          1   \n",
       "29303                   0                   0  ...            0          1   \n",
       "29304                   0                   0  ...            1          0   \n",
       "\n",
       "       workclass_ Federal-gov  workclass_ Local-gov  workclass_ Never-worked  \\\n",
       "0                           0                     0                        0   \n",
       "1                           0                     0                        0   \n",
       "2                           0                     0                        0   \n",
       "3                           0                     0                        0   \n",
       "4                           0                     0                        0   \n",
       "...                       ...                   ...                      ...   \n",
       "29300                       0                     0                        0   \n",
       "29301                       0                     0                        0   \n",
       "29302                       0                     0                        0   \n",
       "29303                       0                     0                        0   \n",
       "29304                       0                     0                        0   \n",
       "\n",
       "       workclass_ Private  workclass_ Self-emp-inc  \\\n",
       "0                       1                        0   \n",
       "1                       1                        0   \n",
       "2                       1                        0   \n",
       "3                       1                        0   \n",
       "4                       1                        0   \n",
       "...                   ...                      ...   \n",
       "29300                   1                        0   \n",
       "29301                   1                        0   \n",
       "29302                   0                        0   \n",
       "29303                   1                        0   \n",
       "29304                   1                        0   \n",
       "\n",
       "       workclass_ Self-emp-not-inc  workclass_ State-gov  \\\n",
       "0                                0                     0   \n",
       "1                                0                     0   \n",
       "2                                0                     0   \n",
       "3                                0                     0   \n",
       "4                                0                     0   \n",
       "...                            ...                   ...   \n",
       "29300                            0                     0   \n",
       "29301                            0                     0   \n",
       "29302                            1                     0   \n",
       "29303                            0                     0   \n",
       "29304                            0                     0   \n",
       "\n",
       "       workclass_ Without-pay  \n",
       "0                           0  \n",
       "1                           0  \n",
       "2                           0  \n",
       "3                           0  \n",
       "4                           0  \n",
       "...                       ...  \n",
       "29300                       0  \n",
       "29301                       0  \n",
       "29302                       0  \n",
       "29303                       0  \n",
       "29304                       0  \n",
       "\n",
       "[29305 rows x 67 columns]"
      ]
     },
     "execution_count": 34,
     "metadata": {},
     "output_type": "execute_result"
    }
   ],
   "source": [
    "train"
   ]
  },
  {
   "cell_type": "code",
   "execution_count": null,
   "id": "28b5fcb4",
   "metadata": {},
   "outputs": [],
   "source": []
  },
  {
   "cell_type": "code",
   "execution_count": 35,
   "id": "1c04ea12",
   "metadata": {
    "scrolled": true
   },
   "outputs": [],
   "source": [
    "X_train = train.drop(['income', 'fnlwgt'], axis=1)\n",
    "y_train = train.income\n",
    "X_test = test.drop('fnlwgt', axis=1)"
   ]
  },
  {
   "cell_type": "code",
   "execution_count": 36,
   "id": "f565c9db",
   "metadata": {},
   "outputs": [
    {
     "data": {
      "text/plain": [
       "((29305, 65), (29305,))"
      ]
     },
     "execution_count": 36,
     "metadata": {},
     "output_type": "execute_result"
    }
   ],
   "source": [
    "X_train.shape, y_train.shape"
   ]
  },
  {
   "cell_type": "code",
   "execution_count": 37,
   "id": "1ddeb199",
   "metadata": {},
   "outputs": [
    {
     "data": {
      "text/plain": [
       "(19537, 65)"
      ]
     },
     "execution_count": 37,
     "metadata": {},
     "output_type": "execute_result"
    }
   ],
   "source": [
    "X_test.shape"
   ]
  },
  {
   "cell_type": "code",
   "execution_count": 38,
   "id": "82dad2f9",
   "metadata": {},
   "outputs": [
    {
     "data": {
      "text/plain": [
       "0        0\n",
       "1        0\n",
       "2        0\n",
       "3        0\n",
       "4        1\n",
       "        ..\n",
       "29300    0\n",
       "29301    0\n",
       "29302    0\n",
       "29303    0\n",
       "29304    0\n",
       "Name: income, Length: 29305, dtype: int64"
      ]
     },
     "execution_count": 38,
     "metadata": {},
     "output_type": "execute_result"
    }
   ],
   "source": [
    "y_train"
   ]
  },
  {
   "cell_type": "code",
   "execution_count": null,
   "id": "e16a2e6d",
   "metadata": {},
   "outputs": [],
   "source": []
  },
  {
   "cell_type": "markdown",
   "id": "4caf31bf",
   "metadata": {},
   "source": [
    "# 학습"
   ]
  },
  {
   "cell_type": "code",
   "execution_count": 39,
   "id": "bd121037",
   "metadata": {},
   "outputs": [],
   "source": [
    "from sklearn.tree import DecisionTreeClassifier"
   ]
  },
  {
   "cell_type": "code",
   "execution_count": 40,
   "id": "b948bba1",
   "metadata": {},
   "outputs": [],
   "source": [
    "# 모델 생성\n",
    "tree_model = DecisionTreeClassifier()"
   ]
  },
  {
   "cell_type": "code",
   "execution_count": 41,
   "id": "1c8ed6b4",
   "metadata": {},
   "outputs": [
    {
     "data": {
      "text/plain": [
       "DecisionTreeClassifier()"
      ]
     },
     "execution_count": 41,
     "metadata": {},
     "output_type": "execute_result"
    }
   ],
   "source": [
    "# 모델 학습\n",
    "# 지도학습이므로\n",
    "\n",
    "tree_model.fit(X_train, y_train)"
   ]
  },
  {
   "cell_type": "code",
   "execution_count": 42,
   "id": "28892973",
   "metadata": {},
   "outputs": [],
   "source": [
    "tree_pre = tree_model.predict(X_test)"
   ]
  },
  {
   "cell_type": "markdown",
   "id": "4722f345",
   "metadata": {},
   "source": [
    "- submission"
   ]
  },
  {
   "cell_type": "code",
   "execution_count": 43,
   "id": "b19cd000",
   "metadata": {},
   "outputs": [],
   "source": [
    "submission = pd.read_csv('./sample_submission.csv')\n",
    "submission['income'] = tree_pre"
   ]
  },
  {
   "cell_type": "markdown",
   "id": "c79fd377",
   "metadata": {},
   "source": [
    "# DecisionTree 튜닝\n"
   ]
  },
  {
   "cell_type": "code",
   "execution_count": 44,
   "id": "9c3b78cb",
   "metadata": {},
   "outputs": [],
   "source": [
    "# 교차검증함수\n",
    "from sklearn.model_selection import cross_val_score"
   ]
  },
  {
   "cell_type": "code",
   "execution_count": 45,
   "id": "4937190e",
   "metadata": {},
   "outputs": [],
   "source": [
    "# random_state는 협업할 때 값 고정 할 때\n",
    "test_score = []\n",
    "for d in range(1,30):\n",
    "    model = DecisionTreeClassifier(max_depth=d, random_state=550)\n",
    "    result = cross_val_score(model, X_train, y_train, cv=5)\n",
    "    test_score.append(result.mean())"
   ]
  },
  {
   "cell_type": "code",
   "execution_count": null,
   "id": "74404841",
   "metadata": {},
   "outputs": [],
   "source": []
  },
  {
   "cell_type": "markdown",
   "id": "b97e8c6e",
   "metadata": {},
   "source": [
    "# 랜덤포레스트"
   ]
  },
  {
   "cell_type": "code",
   "execution_count": 46,
   "id": "88ccc56a",
   "metadata": {},
   "outputs": [],
   "source": [
    "from sklearn.ensemble import RandomForestClassifier"
   ]
  },
  {
   "cell_type": "code",
   "execution_count": 47,
   "id": "8f51a815",
   "metadata": {},
   "outputs": [],
   "source": [
    "rf_model = RandomForestClassifier(n_estimators=50,   # 배깅할 모델 개수\n",
    "                                  max_features=0.8,   # 각 모델이 랜덤하게 사용할 특성 수\n",
    "                                  max_depth=10,        # 각 모델의 최대 깊이\n",
    "                                  min_samples_leaf=20, # 리프노드의 최소샘플 수\n",
    "                                  random_state=550    # 난수 고정\n",
    "                                 )"
   ]
  },
  {
   "cell_type": "code",
   "execution_count": 48,
   "id": "5346a301",
   "metadata": {},
   "outputs": [
    {
     "data": {
      "text/plain": [
       "array([0.85633851, 0.86845248, 0.8527555 , 0.85224364, 0.85497355])"
      ]
     },
     "execution_count": 48,
     "metadata": {},
     "output_type": "execute_result"
    }
   ],
   "source": [
    "rf_rs = cross_val_score(rf_model,X_train,y_train,cv=5)\n",
    "rf_rs"
   ]
  },
  {
   "cell_type": "markdown",
   "id": "e8c7f6c4",
   "metadata": {},
   "source": [
    "## 그리드서치"
   ]
  },
  {
   "cell_type": "code",
   "execution_count": 49,
   "id": "b978d919",
   "metadata": {},
   "outputs": [],
   "source": [
    "from sklearn.model_selection import GridSearchCV "
   ]
  },
  {
   "cell_type": "code",
   "execution_count": 50,
   "id": "83f3465e",
   "metadata": {},
   "outputs": [],
   "source": [
    "# 탐색하고 싶은 하이퍼파라미터 조합을 딕셔너리로 생성\n",
    "param_grid = {\n",
    "    'max_depth' : [5,15,25,35],\n",
    "    'n_estimators' : [30,50,70,90],\n",
    "    'max_features' : [0.7, 0.9],\n",
    "    'min_samples_leaf' : [15, 20, 25]\n",
    "}"
   ]
  },
  {
   "cell_type": "code",
   "execution_count": 51,
   "id": "01f8c0d0",
   "metadata": {},
   "outputs": [],
   "source": [
    "model = RandomForestClassifier(random_state=550)\n",
    "# 튜닝할 모델, 사용할 파라미터, 교차검증 횟수\n",
    "grid = GridSearchCV(model, param_grid, cv=3, n_jobs=-1)"
   ]
  },
  {
   "cell_type": "code",
   "execution_count": 52,
   "id": "c12e46be",
   "metadata": {},
   "outputs": [
    {
     "data": {
      "text/plain": [
       "GridSearchCV(cv=3, estimator=RandomForestClassifier(random_state=550),\n",
       "             n_jobs=-1,\n",
       "             param_grid={'max_depth': [5, 15, 25, 35],\n",
       "                         'max_features': [0.7, 0.9],\n",
       "                         'min_samples_leaf': [15, 20, 25],\n",
       "                         'n_estimators': [30, 50, 70, 90]})"
      ]
     },
     "execution_count": 52,
     "metadata": {},
     "output_type": "execute_result"
    }
   ],
   "source": [
    "grid.fit(X_train,y_train)"
   ]
  },
  {
   "cell_type": "code",
   "execution_count": 53,
   "id": "0284876d",
   "metadata": {},
   "outputs": [
    {
     "data": {
      "text/plain": [
       "{'max_depth': 15,\n",
       " 'max_features': 0.9,\n",
       " 'min_samples_leaf': 15,\n",
       " 'n_estimators': 90}"
      ]
     },
     "execution_count": 53,
     "metadata": {},
     "output_type": "execute_result"
    }
   ],
   "source": [
    "# 최고의 조합 확인\n",
    "grid.best_params_"
   ]
  },
  {
   "cell_type": "code",
   "execution_count": 54,
   "id": "b3971221",
   "metadata": {},
   "outputs": [
    {
     "data": {
      "text/plain": [
       "0.8581469524503612"
      ]
     },
     "execution_count": 54,
     "metadata": {},
     "output_type": "execute_result"
    }
   ],
   "source": [
    "# 최고 점수 확인\n",
    "grid.best_score_"
   ]
  },
  {
   "cell_type": "code",
   "execution_count": 55,
   "id": "7fd504e4",
   "metadata": {},
   "outputs": [],
   "source": [
    "# 최고 조합으로 학습완료된 모델\n",
    "best_model = grid.best_estimator_"
   ]
  },
  {
   "cell_type": "code",
   "execution_count": 56,
   "id": "0f3dc297",
   "metadata": {},
   "outputs": [],
   "source": [
    "pre = best_model.predict(X_test)"
   ]
  },
  {
   "cell_type": "code",
   "execution_count": 57,
   "id": "3daa9270",
   "metadata": {},
   "outputs": [],
   "source": [
    "submission['income'] = pre\n",
    "submission.to_csv(\"./rf_pre2.csv\", index=False)"
   ]
  },
  {
   "cell_type": "code",
   "execution_count": 58,
   "id": "099a887a",
   "metadata": {},
   "outputs": [
    {
     "data": {
      "text/html": [
       "<div>\n",
       "<style scoped>\n",
       "    .dataframe tbody tr th:only-of-type {\n",
       "        vertical-align: middle;\n",
       "    }\n",
       "\n",
       "    .dataframe tbody tr th {\n",
       "        vertical-align: top;\n",
       "    }\n",
       "\n",
       "    .dataframe thead th {\n",
       "        text-align: right;\n",
       "    }\n",
       "</style>\n",
       "<table border=\"1\" class=\"dataframe\">\n",
       "  <thead>\n",
       "    <tr style=\"text-align: right;\">\n",
       "      <th></th>\n",
       "      <th>no</th>\n",
       "      <th>income</th>\n",
       "    </tr>\n",
       "  </thead>\n",
       "  <tbody>\n",
       "    <tr>\n",
       "      <th>0</th>\n",
       "      <td>29306</td>\n",
       "      <td>0</td>\n",
       "    </tr>\n",
       "    <tr>\n",
       "      <th>1</th>\n",
       "      <td>29307</td>\n",
       "      <td>0</td>\n",
       "    </tr>\n",
       "    <tr>\n",
       "      <th>2</th>\n",
       "      <td>29308</td>\n",
       "      <td>1</td>\n",
       "    </tr>\n",
       "    <tr>\n",
       "      <th>3</th>\n",
       "      <td>29309</td>\n",
       "      <td>1</td>\n",
       "    </tr>\n",
       "    <tr>\n",
       "      <th>4</th>\n",
       "      <td>29310</td>\n",
       "      <td>1</td>\n",
       "    </tr>\n",
       "    <tr>\n",
       "      <th>...</th>\n",
       "      <td>...</td>\n",
       "      <td>...</td>\n",
       "    </tr>\n",
       "    <tr>\n",
       "      <th>19532</th>\n",
       "      <td>48838</td>\n",
       "      <td>0</td>\n",
       "    </tr>\n",
       "    <tr>\n",
       "      <th>19533</th>\n",
       "      <td>48839</td>\n",
       "      <td>0</td>\n",
       "    </tr>\n",
       "    <tr>\n",
       "      <th>19534</th>\n",
       "      <td>48840</td>\n",
       "      <td>0</td>\n",
       "    </tr>\n",
       "    <tr>\n",
       "      <th>19535</th>\n",
       "      <td>48841</td>\n",
       "      <td>0</td>\n",
       "    </tr>\n",
       "    <tr>\n",
       "      <th>19536</th>\n",
       "      <td>48842</td>\n",
       "      <td>0</td>\n",
       "    </tr>\n",
       "  </tbody>\n",
       "</table>\n",
       "<p>19537 rows × 2 columns</p>\n",
       "</div>"
      ],
      "text/plain": [
       "          no  income\n",
       "0      29306       0\n",
       "1      29307       0\n",
       "2      29308       1\n",
       "3      29309       1\n",
       "4      29310       1\n",
       "...      ...     ...\n",
       "19532  48838       0\n",
       "19533  48839       0\n",
       "19534  48840       0\n",
       "19535  48841       0\n",
       "19536  48842       0\n",
       "\n",
       "[19537 rows x 2 columns]"
      ]
     },
     "execution_count": 58,
     "metadata": {},
     "output_type": "execute_result"
    }
   ],
   "source": [
    "submission"
   ]
  },
  {
   "cell_type": "code",
   "execution_count": null,
   "id": "5059d71b",
   "metadata": {},
   "outputs": [],
   "source": []
  },
  {
   "cell_type": "code",
   "execution_count": null,
   "id": "7d18807d",
   "metadata": {},
   "outputs": [],
   "source": []
  }
 ],
 "metadata": {
  "kernelspec": {
   "display_name": "Python 3 (ipykernel)",
   "language": "python",
   "name": "python3"
  },
  "language_info": {
   "codemirror_mode": {
    "name": "ipython",
    "version": 3
   },
   "file_extension": ".py",
   "mimetype": "text/x-python",
   "name": "python",
   "nbconvert_exporter": "python",
   "pygments_lexer": "ipython3",
   "version": "3.9.12"
  },
  "toc": {
   "base_numbering": 1,
   "nav_menu": {},
   "number_sections": true,
   "sideBar": true,
   "skip_h1_title": false,
   "title_cell": "Table of Contents",
   "title_sidebar": "Contents",
   "toc_cell": false,
   "toc_position": {
    "height": "calc(100% - 180px)",
    "left": "10px",
    "top": "150px",
    "width": "204.2px"
   },
   "toc_section_display": true,
   "toc_window_display": true
  }
 },
 "nbformat": 4,
 "nbformat_minor": 5
}
