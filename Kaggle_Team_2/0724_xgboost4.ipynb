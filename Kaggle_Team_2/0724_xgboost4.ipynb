{
 "cells": [
  {
   "cell_type": "code",
   "execution_count": 1,
   "id": "47672e0d",
   "metadata": {},
   "outputs": [
    {
     "name": "stderr",
     "output_type": "stream",
     "text": [
      "C:\\Users\\AI\\Anaconda3\\lib\\site-packages\\xgboost\\compat.py:31: FutureWarning: pandas.Int64Index is deprecated and will be removed from pandas in a future version. Use pandas.Index with the appropriate dtype instead.\n",
      "  from pandas import MultiIndex, Int64Index\n"
     ]
    }
   ],
   "source": [
    "import numpy as np\n",
    "import pandas as pd\n",
    "import xgboost # xgboost\n",
    "\n",
    "from xgboost import XGBRegressor # XGBRegressor 호출\n",
    "from sklearn.model_selection import train_test_split # 훈련데이터 나누는 함수\n",
    "from sklearn.model_selection import GridSearchCV # 모델 파라미터 최적치 찾아주는 함수\n",
    "from sklearn.metrics import accuracy_score # 정확도\n",
    "from sklearn.metrics import explained_variance_score # 그거 수업때 1에 가까우면 좋은 모델인 수치\n",
    "\n",
    "from sklearn.model_selection import KFold # 교차검증 >> 시도중 >> 근데 하면 훨씬 점수가 올라가겠지만 그만큼 시간이... 수배로...\n",
    "                                            # 찾다보니 xgboost에 이미 교차검증이 들어있다는데 그것이 파라미터를 설정해야 동작하는\n",
    "                                            # 것인지는 모르겠음 "
   ]
  },
  {
   "cell_type": "code",
   "execution_count": 2,
   "id": "c76cc75a",
   "metadata": {},
   "outputs": [],
   "source": [
    "train = pd.read_csv(\"./train.csv\")\n",
    "test = pd.read_csv(\"./test.csv\") # 데이터 불러오기"
   ]
  },
  {
   "cell_type": "code",
   "execution_count": 3,
   "id": "1e0ff17a",
   "metadata": {},
   "outputs": [],
   "source": [
    "total_data = pd.concat([train, test])\n",
    "\n",
    "total_data = pd.get_dummies(total_data)\n",
    "\n",
    "train_data = total_data[~total_data['PRICE'].isnull()]\n",
    "\n",
    "test_data = total_data[total_data['PRICE'].isnull()]\n",
    "\n",
    "test_data = test_data.drop('PRICE', axis=1) # 두개 병합하고 인코딩, 테스트는 가격컬럼 없었으니 드랍"
   ]
  },
  {
   "cell_type": "code",
   "execution_count": 4,
   "id": "9f40603c",
   "metadata": {},
   "outputs": [],
   "source": [
    "X = train_data.iloc[:,2:]\n",
    "y = train_data.iloc[:,1] # 모델링 데이터 형식 만들기 : 앞에 컬럼 하나 버렸음"
   ]
  },
  {
   "cell_type": "code",
   "execution_count": 5,
   "id": "eaa3fcee",
   "metadata": {},
   "outputs": [],
   "source": [
    "X_train_full, X_test, y_train_full, y_test=train_test_split(X,y,random_state=777) # 나누는 함수"
   ]
  },
  {
   "cell_type": "code",
   "execution_count": 6,
   "id": "eff05060",
   "metadata": {},
   "outputs": [],
   "source": [
    "X_train, X_val, y_train, y_val=train_test_split(X_train_full, y_train_full, random_state=777) # 한번 더 나눔"
   ]
  },
  {
   "cell_type": "code",
   "execution_count": 1,
   "id": "62d117db",
   "metadata": {
    "scrolled": false
   },
   "outputs": [
    {
     "ename": "SyntaxError",
     "evalue": "invalid syntax (2190384774.py, line 1)",
     "output_type": "error",
     "traceback": [
      "\u001b[1;36m  Input \u001b[1;32mIn [1]\u001b[1;36m\u001b[0m\n\u001b[1;33m    my_model =  (n_estimators = 600, max_depth = 6,min_child_weight= 1.2, colsample_bytree = 1.0, n_jobs = -1)\u001b[0m\n\u001b[1;37m                              ^\u001b[0m\n\u001b[1;31mSyntaxError\u001b[0m\u001b[1;31m:\u001b[0m invalid syntax\n"
     ]
    }
   ],
   "source": [
    "my_model =  (n_estimators = 600, max_depth = 6,min_child_weight= 1.2, colsample_bytree = 1.0, n_jobs = -1)\n",
    "\n",
    "my_model.fit(X_train, y_train)\n",
    "\n",
    "# reg_cv = GridSearchCV(my_model, {\"colsample_bytree\":[1.0],\"min_child_weight\":[1.0,1.2],'max_depth': [3,4,6,7,8,9,10], 'n_estimators': [500,1000,1500,2000,2500]}, verbose=1)\n",
    "# reg_cv.fit(X_train, y_train)\n",
    "\n",
    "# reg_cv.best_params_\n",
    "\n",
    "# 기본 세부 파라미터 지정, 주석 처리된 GridSearchCV로 최적 파라미터 찾을 수 있음 (※안의 수치 조정안하면 상상 이상의 시간이 날아감)\n",
    "# 모든 세부 파라미터 설명은 라이브러리 사이트에서 원문으로 찾아보는 것이 가장 정확함\n",
    "# 저 수치들이 전부가 아닐 수 있으나 인터넷에서 긁어왔음 + 저것도 다 고려할 수 없음"
   ]
  },
  {
   "cell_type": "code",
   "execution_count": 8,
   "id": "0e31343d",
   "metadata": {},
   "outputs": [],
   "source": [
    "best_model = my_model\n",
    "\n",
    "# best_model = reg_cv.best_estimator_\n",
    "\n",
    "# 베스트 모델에 파라미터 지정한 내 모델 넣거나 // 주석된 것은 GridSearchCV로 찾은 최적값 파라미터가 넣어진 모델을 넣음 "
   ]
  },
  {
   "cell_type": "markdown",
   "id": "bff5135a",
   "metadata": {},
   "source": [
    "from xgboost import XGBRegressor\n",
    "\n",
    "my_model = XGBRegressor(n_estimators = 500, max_depth = 9,min_child_weight= 1.2,colsample_bytree = 1.0,n_jobs = -1)\n",
    "my_model.fit(train_X, train_y, verbose=False)"
   ]
  },
  {
   "cell_type": "markdown",
   "id": "8cdd0962",
   "metadata": {},
   "source": [
    "XGBRegressor(base_score=0.5, booster='gbtree', callbacks=None,\n",
    "             colsample_bylevel=1, colsample_bynode=1, colsample_bytree=1,\n",
    "             early_stopping_rounds=None, enable_categorical=False,\n",
    "             eval_metric=None, gamma=0, gpu_id=-1, grow_policy='depthwise',\n",
    "             importance_type=None, interaction_constraints='',\n",
    "             learning_rate=0.300000012, max_bin=256, max_cat_to_onehot=4,\n",
    "             max_delta_step=0, max_depth=6, max_leaves=0, min_child_weight=1,\n",
    "             missing=nan, monotone_constraints='()', n_estimators=100,\n",
    "             n_jobs=-1, num_parallel_tree=1, predictor='auto', random_state=0,\n",
    "             reg_alpha=0, reg_lambda=1, ...)"
   ]
  },
  {
   "cell_type": "code",
   "execution_count": 9,
   "id": "0a0ab3af",
   "metadata": {},
   "outputs": [
    {
     "name": "stdout",
     "output_type": "stream",
     "text": [
      "0.9999999977320858\n",
      "0.7092345645558062\n"
     ]
    }
   ],
   "source": [
    "pred_test = best_model.predict(X_test)\n",
    "r_sq = best_model.score(X_train, y_train)\n",
    "print(r_sq)\n",
    "print(explained_variance_score(pred_test,y_test))\n",
    "\n",
    "# r_sq가 위에서 나눈 test 예측값 점수, 밑 수치가 방금 수업에서 말한 1에 가까우면 좋은 모델인 수치"
   ]
  },
  {
   "cell_type": "code",
   "execution_count": 10,
   "id": "c4432ca7",
   "metadata": {},
   "outputs": [
    {
     "name": "stdout",
     "output_type": "stream",
     "text": [
      "0.9505059035187825\n",
      "0.9485183192162443\n"
     ]
    }
   ],
   "source": [
    "pred_train = best_model.predict(X_train_full)\n",
    "r_sq2 = best_model.score(X_train_full, y_train_full)\n",
    "print(r_sq2)\n",
    "print(explained_variance_score(pred_train,y_train_full))\n",
    "\n",
    "# r_sq가 위에서 나눈 train 예측값 점수, 밑 수치가 방금 수업에서 말한 1에 가까우면 좋은 모델인 수치"
   ]
  },
  {
   "cell_type": "code",
   "execution_count": 11,
   "id": "4ef28e7c",
   "metadata": {},
   "outputs": [],
   "source": [
    "prediction1 = best_model.predict(test_data.iloc[:,1:])\n",
    "\n",
    "# 이게 전처리한 TEST 데이터 예측, 답을 모르니 정확도는 측정불가"
   ]
  },
  {
   "cell_type": "code",
   "execution_count": 12,
   "id": "a34cc9a6",
   "metadata": {},
   "outputs": [
    {
     "data": {
      "text/plain": [
       "array([ 554656.94, 1487638.5 , 1000287.2 , ..., 1027779.6 ,  621832.56,\n",
       "        368954.78], dtype=float32)"
      ]
     },
     "execution_count": 12,
     "metadata": {},
     "output_type": "execute_result"
    }
   ],
   "source": [
    "prediction1"
   ]
  },
  {
   "cell_type": "code",
   "execution_count": 13,
   "id": "aedc85e0",
   "metadata": {},
   "outputs": [
    {
     "name": "stdout",
     "output_type": "stream",
     "text": [
      "638828.0723623399\n"
     ]
    }
   ],
   "source": [
    "print(prediction1.sum()/15146) \n",
    "\n",
    "# 대강 평균 가격 비교"
   ]
  },
  {
   "cell_type": "code",
   "execution_count": 14,
   "id": "f278f345",
   "metadata": {},
   "outputs": [
    {
     "data": {
      "text/plain": [
       "636642.1296456353"
      ]
     },
     "execution_count": 14,
     "metadata": {},
     "output_type": "execute_result"
    }
   ],
   "source": [
    "pred_test.sum()/len(pred_test)\n",
    "\n",
    "# 대강 평균 가격 비교"
   ]
  },
  {
   "cell_type": "code",
   "execution_count": 15,
   "id": "75608a95",
   "metadata": {},
   "outputs": [],
   "source": [
    "prediction1 = pd.DataFrame(prediction1)\n",
    "prediction1.to_csv(\"./xgboost_opt5.csv\")\n",
    "\n",
    "# 뒤에는 귀찮아서 복붙 수정해서 규격 맞춰서 올림"
   ]
  },
  {
   "cell_type": "code",
   "execution_count": null,
   "id": "7ece49f7",
   "metadata": {},
   "outputs": [],
   "source": []
  }
 ],
 "metadata": {
  "kernelspec": {
   "display_name": "Python 3 (ipykernel)",
   "language": "python",
   "name": "python3"
  },
  "language_info": {
   "codemirror_mode": {
    "name": "ipython",
    "version": 3
   },
   "file_extension": ".py",
   "mimetype": "text/x-python",
   "name": "python",
   "nbconvert_exporter": "python",
   "pygments_lexer": "ipython3",
   "version": "3.9.12"
  },
  "toc": {
   "base_numbering": 1,
   "nav_menu": {},
   "number_sections": true,
   "sideBar": true,
   "skip_h1_title": false,
   "title_cell": "Table of Contents",
   "title_sidebar": "Contents",
   "toc_cell": false,
   "toc_position": {},
   "toc_section_display": true,
   "toc_window_display": false
  }
 },
 "nbformat": 4,
 "nbformat_minor": 5
}
