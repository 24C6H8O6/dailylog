{
 "cells": [
  {
   "cell_type": "markdown",
   "id": "1016a57a",
   "metadata": {},
   "source": [
    "# 머신러닝 학습 방법\n",
    "\n",
    "- 거리 기반 학습\n",
    "- 수식 기반 학습\n",
    "- 논리 기반 학습\n",
    "- 확률 기반 학습 (나이브베이즈)"
   ]
  },
  {
   "cell_type": "markdown",
   "id": "1edaab01",
   "metadata": {},
   "source": [
    "## 거리 기반 학습으로 AND 논리를 학습하는 모델을 만들자\n",
    "\n",
    "- 머신러닝 모델 종류 : KNN, SVM"
   ]
  },
  {
   "cell_type": "code",
   "execution_count": 3,
   "id": "484f9283",
   "metadata": {},
   "outputs": [
    {
     "data": {
      "text/plain": [
       "[[0, 0, 0], [0, 1, 0], [1, 0, 0], [1, 1, 1]]"
      ]
     },
     "execution_count": 3,
     "metadata": {},
     "output_type": "execute_result"
    }
   ],
   "source": [
    "# AND 논리 선언\n",
    "data = [[0, 0, 0], \n",
    "        [0, 1, 0],\n",
    "        [1, 0, 0],\n",
    "        [1, 1, 1]]\n",
    "\n",
    "data"
   ]
  },
  {
   "cell_type": "code",
   "execution_count": 6,
   "id": "bfe9773c",
   "metadata": {},
   "outputs": [
    {
     "name": "stdout",
     "output_type": "stream",
     "text": [
      "0\n",
      "0\n",
      "0\n",
      "1\n"
     ]
    }
   ],
   "source": [
    "# 입력된 데이터(x1, x2)에서 가장 가까운 데이터의 라벨을 출력\n",
    "def distanceML(x1, x2) :\n",
    "    # 최종 결과값\n",
    "    result = 0\n",
    "    # 최소 거리를 비교하기 위한 값\n",
    "    minDis = 99\n",
    "    \n",
    "    # 전체 데이터에서 한 행씩 데이터를 가져온다\n",
    "    for row in data :\n",
    "        # 특성 데이터와 라벨 데이터를 분리\n",
    "        X = row[0:2]\n",
    "        y = row[-1]\n",
    "        \n",
    "        #print(X, y)\n",
    "        \n",
    "        # 입력된 데이터 (x1, x2)와 각 특성데이터간의 거리 계산\n",
    "        # abs : 절대값을 계산 (음수를 없애기 위해서 - 거리는 음수가 없기때문)\n",
    "        d = abs(x1 - X[0]) + abs(x2 - X[1])\n",
    "        \n",
    "        # 거리가 최소인 데이터를 검색\n",
    "        if minDis > d : \n",
    "            minDis = d\n",
    "            result = y\n",
    "    \n",
    "    # 거리가 가장 작은 데이터의 라벨값을 반환\n",
    "    return result         \n",
    "                   \n",
    "        \n",
    "print(distanceML(0, 0))\n",
    "print(distanceML(0, 1))\n",
    "print(distanceML(1, 0))\n",
    "print(distanceML(1, 1))    "
   ]
  },
  {
   "cell_type": "code",
   "execution_count": 10,
   "id": "654297b9",
   "metadata": {},
   "outputs": [
    {
     "name": "stdout",
     "output_type": "stream",
     "text": [
      "저체중\n"
     ]
    }
   ],
   "source": [
    "data = [[150, 40, \"저체중\"],\n",
    "         [200, 100, \"비만\"],\n",
    "         [180, 150, \"비만\"],\n",
    "         [160, 40, \"저체중\"],\n",
    "         [170, 70, \"정상\"]]\n",
    "         \n",
    "print(distanceML(155, 60))       "
   ]
  },
  {
   "cell_type": "markdown",
   "id": "d52db699",
   "metadata": {},
   "source": [
    "## 수식 기반 학습으로 AND 논리를 학습하는 모델을 만들자\n",
    "\n",
    "- Linear Regression (선형회귀), Ridge, Lasso\n",
    "- Logistic Regression"
   ]
  },
  {
   "cell_type": "code",
   "execution_count": 11,
   "id": "ccfad289",
   "metadata": {},
   "outputs": [
    {
     "data": {
      "text/plain": [
       "[[0, 0, 0], [0, 1, 0], [1, 0, 0], [1, 1, 1]]"
      ]
     },
     "execution_count": 11,
     "metadata": {},
     "output_type": "execute_result"
    }
   ],
   "source": [
    "data = [[0, 0, 0], \n",
    "        [0, 1, 0],\n",
    "        [1, 0, 0],\n",
    "        [1, 1, 1]]\n",
    "\n",
    "data"
   ]
  },
  {
   "cell_type": "code",
   "execution_count": 12,
   "id": "9cdf15e9",
   "metadata": {},
   "outputs": [
    {
     "name": "stdout",
     "output_type": "stream",
     "text": [
      "0\n",
      "0\n",
      "0\n",
      "0\n"
     ]
    }
   ],
   "source": [
    "def andML(x1, x2) :\n",
    "    w1, w2, b = 0, 0, 0   # 여러분이 직접 맞춰보세요 (-1.0과 1.0사이값을)\n",
    "    \n",
    "    # and 논리를 만드는 수식\n",
    "    temp = w1 * x1 + w2 * x2 + b\n",
    "    \n",
    "    if temp <= 0.5 :\n",
    "        return 0\n",
    "    else :\n",
    "        return 1\n",
    "\n",
    "print(andML(0, 0)) \n",
    "print(andML(0, 1)) \n",
    "print(andML(1, 0)) \n",
    "print(andML(1, 1)) "
   ]
  },
  {
   "cell_type": "markdown",
   "id": "e0f0af99",
   "metadata": {},
   "source": [
    "## 논리 기반 학습으로 AND 논리를 학습하는 모델을 만들자\n",
    "\n",
    "- Decision Tree (의사결정)"
   ]
  },
  {
   "cell_type": "code",
   "execution_count": 14,
   "id": "2c96b195",
   "metadata": {},
   "outputs": [
    {
     "name": "stdout",
     "output_type": "stream",
     "text": [
      "0\n",
      "0\n",
      "0\n",
      "1\n"
     ]
    }
   ],
   "source": [
    "def logicalML(x1, x2) :\n",
    "    if x1 == 0 and x2 == 0 :\n",
    "        return 0\n",
    "    elif x1 == 0 and x2 == 1 :\n",
    "        return 0     \n",
    "    elif x1 == 1 and x2 == 0 :\n",
    "        return 0     \n",
    "    elif x1 == 1 and x2 == 1 :\n",
    "        return 1  \n",
    "    \n",
    "print(logicalML(0, 0))\n",
    "print(logicalML(0, 1))\n",
    "print(logicalML(1, 0))\n",
    "print(logicalML(1, 1))"
   ]
  },
  {
   "cell_type": "markdown",
   "id": "bebe37a9",
   "metadata": {},
   "source": [
    "## 앙상블 (Ensemble)\n",
    "\n",
    "- Random Forest, Adaboost, GBM, Xgboost, LightGBM 등등\n",
    "\n",
    "- 여러 개의 모델을 사용해서 투표나 확률을 계산하는 방식 - voting, stacking\n",
    "\n",
    "- 데이터를 쪼개서 사용하는 적용하는 방식 - bagging, boosting"
   ]
  },
  {
   "cell_type": "code",
   "execution_count": null,
   "id": "60c6c013",
   "metadata": {},
   "outputs": [],
   "source": []
  },
  {
   "cell_type": "code",
   "execution_count": null,
   "id": "f47524c9",
   "metadata": {},
   "outputs": [],
   "source": []
  },
  {
   "cell_type": "code",
   "execution_count": null,
   "id": "ec95ec8c",
   "metadata": {},
   "outputs": [],
   "source": []
  },
  {
   "cell_type": "code",
   "execution_count": null,
   "id": "0419907a",
   "metadata": {},
   "outputs": [],
   "source": []
  },
  {
   "cell_type": "code",
   "execution_count": null,
   "id": "ee0b3136",
   "metadata": {},
   "outputs": [],
   "source": []
  },
  {
   "cell_type": "code",
   "execution_count": null,
   "id": "e0462889",
   "metadata": {},
   "outputs": [],
   "source": []
  }
 ],
 "metadata": {
  "kernelspec": {
   "display_name": "Python 3 (ipykernel)",
   "language": "python",
   "name": "python3"
  },
  "language_info": {
   "codemirror_mode": {
    "name": "ipython",
    "version": 3
   },
   "file_extension": ".py",
   "mimetype": "text/x-python",
   "name": "python",
   "nbconvert_exporter": "python",
   "pygments_lexer": "ipython3",
   "version": "3.9.12"
  },
  "toc": {
   "base_numbering": 1,
   "nav_menu": {},
   "number_sections": true,
   "sideBar": true,
   "skip_h1_title": false,
   "title_cell": "Table of Contents",
   "title_sidebar": "Contents",
   "toc_cell": false,
   "toc_position": {},
   "toc_section_display": true,
   "toc_window_display": false
  }
 },
 "nbformat": 4,
 "nbformat_minor": 5
}
