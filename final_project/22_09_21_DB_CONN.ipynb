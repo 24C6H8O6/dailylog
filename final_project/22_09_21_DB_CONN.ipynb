{
 "cells": [
  {
   "cell_type": "code",
   "execution_count": null,
   "id": "3bfab22e",
   "metadata": {},
   "outputs": [],
   "source": [
    "ip_dic = {'192.168.70.172':'윤승욱', '192.168.0.38':'나예호','192.168.70.128': '김상민'}"
   ]
  },
  {
   "cell_type": "code",
   "execution_count": 2,
   "id": "593ef42e",
   "metadata": {},
   "outputs": [
    {
     "name": "stdout",
     "output_type": "stream",
     "text": [
      " * Serving Flask app \"__main__\" (lazy loading)\n",
      " * Environment: production\n",
      "\u001b[31m   WARNING: This is a development server. Do not use it in a production deployment.\u001b[0m\n",
      "\u001b[2m   Use a production WSGI server instead.\u001b[0m\n",
      " * Debug mode: off\n"
     ]
    },
    {
     "name": "stderr",
     "output_type": "stream",
     "text": [
      " * Running on http://127.0.0.1:5000/ (Press CTRL+C to quit)\n",
      "127.0.0.1 - - [21/Sep/2022 12:36:03] \"GET / HTTP/1.1\" 200 -\n",
      "127.0.0.1 - - [21/Sep/2022 12:36:03] \"GET /favicon.ico HTTP/1.1\" 404 -\n"
     ]
    }
   ],
   "source": [
    "from flask import Flask\n",
    "\n",
    "# app : Server실행, 경로를 잡아주는 객체\n",
    "app = Flask(__name__)\n",
    "\n",
    "# '' : ''안에 html 들어감\n",
    "@app.route('/')\n",
    "def index():\n",
    "    return '<h1>Hello World</h1>'\n",
    "\n",
    "if __name__ == '__main__':\n",
    "    app.run()"
   ]
  },
  {
   "cell_type": "code",
   "execution_count": 7,
   "id": "cbec6ee2",
   "metadata": {},
   "outputs": [
    {
     "name": "stdout",
     "output_type": "stream",
     "text": [
      " * Serving Flask app \"__main__\" (lazy loading)\n",
      " * Environment: production\n",
      "\u001b[31m   WARNING: This is a development server. Do not use it in a production deployment.\u001b[0m\n",
      "\u001b[2m   Use a production WSGI server instead.\u001b[0m\n",
      " * Debug mode: off\n"
     ]
    },
    {
     "name": "stderr",
     "output_type": "stream",
     "text": [
      " * Running on http://192.168.70.172:5023/ (Press CTRL+C to quit)\n",
      "192.168.70.51 - - [21/Sep/2022 12:49:02] \"GET / HTTP/1.1\" 200 -\n",
      "192.168.70.51 - - [21/Sep/2022 12:49:04] \"GET /favicon.ico HTTP/1.1\" 404 -\n"
     ]
    }
   ],
   "source": [
    "from flask import Flask,request\n",
    "\n",
    "# app : Server실행, 경로를 잡아주는 객체\n",
    "app = Flask(__name__)\n",
    "\n",
    "# '' : ''안에 html 들어감\n",
    "@app.route('/')\n",
    "def index():\n",
    "    \n",
    "    ip = request.remote_addr\n",
    "    \n",
    "    if ip == '192.168.70.8':\n",
    "        return '경준님 안녕하세요~'\n",
    "    elif ip == '192.168.70.51':\n",
    "        return '누구인가'\n",
    "    else:\n",
    "        return '<h1>Hello World</h1>'\n",
    "\n",
    "if __name__ == '__main__':\n",
    "    app.run(host='192.168.70.172', port=5023)"
   ]
  },
  {
   "cell_type": "code",
   "execution_count": 1,
   "id": "d47dace1",
   "metadata": {},
   "outputs": [
    {
     "name": "stdout",
     "output_type": "stream",
     "text": [
      " * Serving Flask app \"__main__\" (lazy loading)\n",
      " * Environment: production\n",
      "\u001b[31m   WARNING: This is a development server. Do not use it in a production deployment.\u001b[0m\n",
      "\u001b[2m   Use a production WSGI server instead.\u001b[0m\n",
      " * Debug mode: off\n"
     ]
    },
    {
     "name": "stderr",
     "output_type": "stream",
     "text": [
      " * Running on http://192.168.70.172:5023/ (Press CTRL+C to quit)\n",
      "192.168.70.172 - - [22/Sep/2022 09:11:23] \"GET / HTTP/1.1\" 302 -\n"
     ]
    }
   ],
   "source": [
    "from flask import Flask, redirect\n",
    "\n",
    "app = Flask(__name__)\n",
    "\n",
    "@app.route('/')\n",
    "def index():\n",
    "    url = 'http://seungwook.dothome.co.kr'\n",
    "    return redirect(url)\n",
    "\n",
    "if __name__ == '__main__':\n",
    "    app.run(host='192.168.70.172', port=5023)"
   ]
  },
  {
   "cell_type": "code",
   "execution_count": 5,
   "id": "9f76950e",
   "metadata": {},
   "outputs": [
    {
     "name": "stdout",
     "output_type": "stream",
     "text": [
      "Requirement already satisfied: cx_Oracle in c:\\users\\ai\\anaconda3\\lib\\site-packages (8.3.0)\n"
     ]
    }
   ],
   "source": [
    "!pip install cx_Oracle"
   ]
  },
  {
   "cell_type": "code",
   "execution_count": 2,
   "id": "efb6b764",
   "metadata": {},
   "outputs": [],
   "source": [
    "# 환경변수 설정\n",
    "import os\n",
    "LOCATION = r\"C:\\Users\\AI\\instantclient_21_6\"\n",
    "os.environ[\"PATH\"] = LOCATION + \";\" + os.environ[\"PATH\"]"
   ]
  },
  {
   "cell_type": "code",
   "execution_count": 6,
   "id": "36dbd66a",
   "metadata": {},
   "outputs": [],
   "source": [
    "import cx_Oracle"
   ]
  },
  {
   "cell_type": "markdown",
   "id": "3af3ccb3",
   "metadata": {},
   "source": [
    "# DB 연결\n",
    "- 1. Connection\n",
    "- 2. Cursor\n",
    "- 3. Execute\n",
    "- 4. Close"
   ]
  },
  {
   "cell_type": "markdown",
   "id": "2b99d034",
   "metadata": {},
   "source": [
    "## Connection"
   ]
  },
  {
   "cell_type": "code",
   "execution_count": 10,
   "id": "6fbcf5e1",
   "metadata": {},
   "outputs": [
    {
     "name": "stdout",
     "output_type": "stream",
     "text": [
      "[('King', 24000.0), ('Kochhar', 17000.0), ('De Haan', 17000.0), ('Hunold', 9000.0), ('Ernst', 6000.0), ('Austin', 4800.0), ('Pataballa', 4800.0), ('Lorentz', 4200.0), ('Greenberg', 12008.0), ('Faviet', 9000.0), ('Chen', 8200.0), ('Sciarra', 7700.0), ('Urman', 7800.0), ('Popp', 6900.0), ('Raphaely', 11000.0), ('Khoo', 3100.0), ('Baida', 2900.0), ('Tobias', 2800.0), ('Himuro', 2600.0), ('Colmenares', 2500.0), ('Weiss', 8000.0), ('Fripp', 8200.0), ('Kaufling', 7900.0), ('Vollman', 6500.0), ('Mourgos', 5800.0), ('Nayer', 3200.0), ('Mikkilineni', 2700.0), ('Landry', 2400.0), ('Markle', 2200.0), ('Bissot', 3300.0), ('Atkinson', 2800.0), ('Marlow', 2500.0), ('Olson', 2100.0), ('Mallin', 3300.0), ('Rogers', 2900.0), ('Gee', 2400.0), ('Philtanker', 2200.0), ('Ladwig', 3600.0), ('Stiles', 3200.0), ('Seo', 2700.0), ('Patel', 2500.0), ('Rajs', 3500.0), ('Davies', 3100.0), ('Matos', 2600.0), ('Vargas', 2500.0), ('Russell', 14000.0), ('Partners', 13500.0), ('Errazuriz', 12000.0), ('Cambrault', 11000.0), ('Zlotkey', 10500.0), ('Tucker', 10000.0), ('Bernstein', 9500.0), ('Hall', 9000.0), ('Olsen', 8000.0), ('Cambrault', 7500.0), ('Tuvault', 7000.0), ('King', 10000.0), ('Sully', 9500.0), ('McEwen', 9000.0), ('Smith', 8000.0), ('Doran', 7500.0), ('Sewall', 7000.0), ('Vishney', 10500.0), ('Greene', 9500.0), ('Marvins', 7200.0), ('Lee', 6800.0), ('Ande', 6400.0), ('Banda', 6200.0), ('Ozer', 11500.0), ('Bloom', 10000.0), ('Fox', 9600.0), ('Smith', 7400.0), ('Bates', 7300.0), ('Kumar', 6100.0), ('Abel', 11000.0), ('Hutton', 8800.0), ('Taylor', 8600.0), ('Livingston', 8400.0), ('Grant', 7000.0), ('Johnson', 6200.0), ('Taylor', 3200.0), ('Fleaur', 3100.0), ('Sullivan', 2500.0), ('Geoni', 2800.0), ('Sarchand', 4200.0), ('Bull', 4100.0), ('Dellinger', 3400.0), ('Cabrio', 3000.0), ('Chung', 3800.0), ('Dilly', 3600.0), ('Gates', 2900.0), ('Perkins', 2500.0), ('Bell', 4000.0), ('Everett', 3900.0), ('McCain', 3200.0), ('Jones', 2800.0), ('Walsh', 3100.0), ('Feeney', 3000.0), ('OConnell', 2600.0), ('Grant', 2600.0), ('Whalen', 4400.0), ('Hartstein', 13000.0), ('Fay', 6000.0), ('Mavris', 6500.0), ('Baer', 10000.0), ('Higgins', 12008.0), ('Gietz', 8300.0)]\n"
     ]
    }
   ],
   "source": [
    "# 아이피주소가 계속 바뀌는 환경에서 자동으로 ip를 잡아줘야 할떄 쓰는 socket라이브러리\n",
    "import socket\n",
    "s = socket.socket(socket.AF_INET, socket.SOCK_DGRAM)\n",
    "s.connect((\"8.8.8.8\", 80))\n",
    "host_ip = s.getsockname()[0]\n",
    "\n",
    "# 1. Connection\n",
    "db_id = 'hr'\n",
    "db_pw = 'hr'\n",
    "db_url = f'{host_ip}:1521/xe'\n",
    "conn = cx_Oracle.connect(db_id,db_pw,db_url)\n",
    "\n",
    "# 2. cursor ; sql문을 전달하는 역할\n",
    "curs = conn.cursor()\n",
    "\n",
    "# 3. Execute : 실행하다\n",
    "sql = 'select last_name, salary from employees'\n",
    "result = curs.execute(sql)\n",
    "# fetchall : 모든 값을 긁어오다\n",
    "print(result.fetchall())\n",
    "\n",
    "# 4. Close\n",
    "# 연결 통로를 닫을 때는, 열었던 역순으로 닫는다\n",
    "if curs != None:\n",
    "    curs.close()\n",
    "if conn != None:\n",
    "    conn.close()"
   ]
  },
  {
   "cell_type": "code",
   "execution_count": 18,
   "id": "568fa33b",
   "metadata": {},
   "outputs": [],
   "source": [
    "class DAO:\n",
    "    \n",
    "    import cx_Oracle\n",
    "    \n",
    "    def select(self):\n",
    "        db_id = 'hr'\n",
    "        db_pw = 'hr'\n",
    "        db_url = '127.0.0.1:1521/xe'\n",
    "        conn = cx_Oracle.connect(db_id, db_pw, db_url)\n",
    "        \n",
    "        curs = conn.cursor()\n",
    "        sql = 'select last_name, salary from employees'\n",
    "        curs.execute(sql)\n",
    "        result = curs.execute(sql)\n",
    "        r = result.fetchall()\n",
    "        if curs != None:\n",
    "            curs.close()\n",
    "        if conn != None:\n",
    "            conn.close()\n",
    "        \n",
    "        return r\n",
    "        "
   ]
  },
  {
   "cell_type": "code",
   "execution_count": 21,
   "id": "f913a622",
   "metadata": {},
   "outputs": [
    {
     "name": "stdout",
     "output_type": "stream",
     "text": [
      "name : King / salary : 24000.0\n",
      "name : Kochhar / salary : 17000.0\n",
      "name : De Haan / salary : 17000.0\n",
      "name : Hunold / salary : 9000.0\n",
      "name : Ernst / salary : 6000.0\n",
      "name : Austin / salary : 4800.0\n",
      "name : Pataballa / salary : 4800.0\n",
      "name : Lorentz / salary : 4200.0\n",
      "name : Greenberg / salary : 12008.0\n",
      "name : Faviet / salary : 9000.0\n",
      "name : Chen / salary : 8200.0\n",
      "name : Sciarra / salary : 7700.0\n",
      "name : Urman / salary : 7800.0\n",
      "name : Popp / salary : 6900.0\n",
      "name : Raphaely / salary : 11000.0\n",
      "name : Khoo / salary : 3100.0\n",
      "name : Baida / salary : 2900.0\n",
      "name : Tobias / salary : 2800.0\n",
      "name : Himuro / salary : 2600.0\n",
      "name : Colmenares / salary : 2500.0\n",
      "name : Weiss / salary : 8000.0\n",
      "name : Fripp / salary : 8200.0\n",
      "name : Kaufling / salary : 7900.0\n",
      "name : Vollman / salary : 6500.0\n",
      "name : Mourgos / salary : 5800.0\n",
      "name : Nayer / salary : 3200.0\n",
      "name : Mikkilineni / salary : 2700.0\n",
      "name : Landry / salary : 2400.0\n",
      "name : Markle / salary : 2200.0\n",
      "name : Bissot / salary : 3300.0\n",
      "name : Atkinson / salary : 2800.0\n",
      "name : Marlow / salary : 2500.0\n",
      "name : Olson / salary : 2100.0\n",
      "name : Mallin / salary : 3300.0\n",
      "name : Rogers / salary : 2900.0\n",
      "name : Gee / salary : 2400.0\n",
      "name : Philtanker / salary : 2200.0\n",
      "name : Ladwig / salary : 3600.0\n",
      "name : Stiles / salary : 3200.0\n",
      "name : Seo / salary : 2700.0\n",
      "name : Patel / salary : 2500.0\n",
      "name : Rajs / salary : 3500.0\n",
      "name : Davies / salary : 3100.0\n",
      "name : Matos / salary : 2600.0\n",
      "name : Vargas / salary : 2500.0\n",
      "name : Russell / salary : 14000.0\n",
      "name : Partners / salary : 13500.0\n",
      "name : Errazuriz / salary : 12000.0\n",
      "name : Cambrault / salary : 11000.0\n",
      "name : Zlotkey / salary : 10500.0\n",
      "name : Tucker / salary : 10000.0\n",
      "name : Bernstein / salary : 9500.0\n",
      "name : Hall / salary : 9000.0\n",
      "name : Olsen / salary : 8000.0\n",
      "name : Cambrault / salary : 7500.0\n",
      "name : Tuvault / salary : 7000.0\n",
      "name : King / salary : 10000.0\n",
      "name : Sully / salary : 9500.0\n",
      "name : McEwen / salary : 9000.0\n",
      "name : Smith / salary : 8000.0\n",
      "name : Doran / salary : 7500.0\n",
      "name : Sewall / salary : 7000.0\n",
      "name : Vishney / salary : 10500.0\n",
      "name : Greene / salary : 9500.0\n",
      "name : Marvins / salary : 7200.0\n",
      "name : Lee / salary : 6800.0\n",
      "name : Ande / salary : 6400.0\n",
      "name : Banda / salary : 6200.0\n",
      "name : Ozer / salary : 11500.0\n",
      "name : Bloom / salary : 10000.0\n",
      "name : Fox / salary : 9600.0\n",
      "name : Smith / salary : 7400.0\n",
      "name : Bates / salary : 7300.0\n",
      "name : Kumar / salary : 6100.0\n",
      "name : Abel / salary : 11000.0\n",
      "name : Hutton / salary : 8800.0\n",
      "name : Taylor / salary : 8600.0\n",
      "name : Livingston / salary : 8400.0\n",
      "name : Grant / salary : 7000.0\n",
      "name : Johnson / salary : 6200.0\n",
      "name : Taylor / salary : 3200.0\n",
      "name : Fleaur / salary : 3100.0\n",
      "name : Sullivan / salary : 2500.0\n",
      "name : Geoni / salary : 2800.0\n",
      "name : Sarchand / salary : 4200.0\n",
      "name : Bull / salary : 4100.0\n",
      "name : Dellinger / salary : 3400.0\n",
      "name : Cabrio / salary : 3000.0\n",
      "name : Chung / salary : 3800.0\n",
      "name : Dilly / salary : 3600.0\n",
      "name : Gates / salary : 2900.0\n",
      "name : Perkins / salary : 2500.0\n",
      "name : Bell / salary : 4000.0\n",
      "name : Everett / salary : 3900.0\n",
      "name : McCain / salary : 3200.0\n",
      "name : Jones / salary : 2800.0\n",
      "name : Walsh / salary : 3100.0\n",
      "name : Feeney / salary : 3000.0\n",
      "name : OConnell / salary : 2600.0\n",
      "name : Grant / salary : 2600.0\n",
      "name : Whalen / salary : 4400.0\n",
      "name : Hartstein / salary : 13000.0\n",
      "name : Fay / salary : 6000.0\n",
      "name : Mavris / salary : 6500.0\n",
      "name : Baer / salary : 10000.0\n",
      "name : Higgins / salary : 12008.0\n",
      "name : Gietz / salary : 8300.0\n"
     ]
    }
   ],
   "source": [
    "dao = DAO()\n",
    "r = dao.select()\n",
    "\n",
    "# for name, salary in r:\n",
    "#     print('name : {} / salary : {}'.format(name, salary))"
   ]
  },
  {
   "cell_type": "code",
   "execution_count": 11,
   "id": "1cb90110",
   "metadata": {},
   "outputs": [
    {
     "data": {
      "text/plain": [
       "str"
      ]
     },
     "execution_count": 11,
     "metadata": {},
     "output_type": "execute_result"
    }
   ],
   "source": [
    "# Python 점수를 저장하려고 함\n",
    "score = 100\n",
    "# score 타입은???\n",
    "type(score)\n",
    "\n",
    "# 이름을 저장하려고 함\n",
    "name = '나예호'\n",
    "type(name)\n",
    "\n",
    "# 나예호와 Python점수를 동시에 저장\n",
    "# class를 사용!!!"
   ]
  },
  {
   "cell_type": "code",
   "execution_count": null,
   "id": "2a9596e1",
   "metadata": {},
   "outputs": [],
   "source": [
    "# VO(Value Object)\n",
    "# 사용자 정의 데이터 타입\n",
    "\n",
    "# Design Pattern\n",
    "# 코드를 작성\n",
    "# Refactoring \n",
    "\n",
    "# 가장 보편적, 가장 많이 사용하는 약속된 Design\n",
    "# MVC : Model, View, Controller"
   ]
  },
  {
   "cell_type": "code",
   "execution_count": 14,
   "id": "971fd423",
   "metadata": {},
   "outputs": [],
   "source": [
    "class Scores:\n",
    "    \n",
    "    name = ''\n",
    "    score = 0\n",
    "    \n",
    "    def print_info(self):\n",
    "        print('이름은 : {} / 점수 : {}'.format(self.name, self.score))"
   ]
  },
  {
   "cell_type": "code",
   "execution_count": 15,
   "id": "53df6913",
   "metadata": {},
   "outputs": [
    {
     "name": "stdout",
     "output_type": "stream",
     "text": [
      "이름은 : 나예호 / 점수 : 100\n"
     ]
    }
   ],
   "source": [
    "s1 = Scores()\n",
    "s1.name = '나예호'\n",
    "s1.score = 100\n",
    "\n",
    "s1.print_info()"
   ]
  },
  {
   "cell_type": "code",
   "execution_count": 57,
   "id": "a4e34c99",
   "metadata": {},
   "outputs": [],
   "source": [
    "import cx_Oracle\n",
    "import pandas as pd\n",
    "class DAO:\n",
    "    def select(self):\n",
    "        db_id = 'hr'\n",
    "        db_pw = 'hr'\n",
    "        db_url = '127.0.0.1:1521/xe'\n",
    "        conn = cx_Oracle.connect(db_id, db_pw, db_url)\n",
    "        curs = conn.cursor()\n",
    "        sql = 'select last_name, salary from employees'\n",
    "        curs.execute(sql)\n",
    "        result = curs.execute(sql)\n",
    "        r = result.fetchall()\n",
    "        if curs != None:curs.close()\n",
    "        if conn != None:conn.close()\n",
    "        return r\n",
    "    \n",
    "    def select_df(self):\n",
    "        db_id = 'hr'\n",
    "        db_pw = 'hr'\n",
    "        db_url = '127.0.0.1:1521/xe'\n",
    "        conn = cx_Oracle.connect(db_id,db_pw,db_url)\n",
    "        sql = 'select last_name, salary from employees'\n",
    "        df = pd.read_sql(sql, conn)\n",
    "        conn.close()\n",
    "        return df\n",
    "    \n",
    "# sql문과 db_id, db_pw, db_url 값 바꿔주면 oracle값 불러올 수 있음"
   ]
  },
  {
   "cell_type": "code",
   "execution_count": 42,
   "id": "84912ebe",
   "metadata": {
    "collapsed": true
   },
   "outputs": [
    {
     "name": "stderr",
     "output_type": "stream",
     "text": [
      "C:\\Users\\AI\\Anaconda3\\lib\\site-packages\\pandas\\io\\sql.py:761: UserWarning: pandas only support SQLAlchemy connectable(engine/connection) ordatabase string URI or sqlite3 DBAPI2 connectionother DBAPI2 objects are not tested, please consider using SQLAlchemy\n",
      "  warnings.warn(\n"
     ]
    },
    {
     "data": {
      "text/html": [
       "<div>\n",
       "<style scoped>\n",
       "    .dataframe tbody tr th:only-of-type {\n",
       "        vertical-align: middle;\n",
       "    }\n",
       "\n",
       "    .dataframe tbody tr th {\n",
       "        vertical-align: top;\n",
       "    }\n",
       "\n",
       "    .dataframe thead th {\n",
       "        text-align: right;\n",
       "    }\n",
       "</style>\n",
       "<table border=\"1\" class=\"dataframe\">\n",
       "  <thead>\n",
       "    <tr style=\"text-align: right;\">\n",
       "      <th></th>\n",
       "      <th>LAST_NAME</th>\n",
       "      <th>SALARY</th>\n",
       "    </tr>\n",
       "  </thead>\n",
       "  <tbody>\n",
       "    <tr>\n",
       "      <th>0</th>\n",
       "      <td>King</td>\n",
       "      <td>24000.0</td>\n",
       "    </tr>\n",
       "    <tr>\n",
       "      <th>1</th>\n",
       "      <td>Kochhar</td>\n",
       "      <td>17000.0</td>\n",
       "    </tr>\n",
       "    <tr>\n",
       "      <th>2</th>\n",
       "      <td>De Haan</td>\n",
       "      <td>17000.0</td>\n",
       "    </tr>\n",
       "    <tr>\n",
       "      <th>3</th>\n",
       "      <td>Greenberg</td>\n",
       "      <td>12008.0</td>\n",
       "    </tr>\n",
       "    <tr>\n",
       "      <th>4</th>\n",
       "      <td>Raphaely</td>\n",
       "      <td>11000.0</td>\n",
       "    </tr>\n",
       "    <tr>\n",
       "      <th>5</th>\n",
       "      <td>Russell</td>\n",
       "      <td>14000.0</td>\n",
       "    </tr>\n",
       "    <tr>\n",
       "      <th>6</th>\n",
       "      <td>Partners</td>\n",
       "      <td>13500.0</td>\n",
       "    </tr>\n",
       "    <tr>\n",
       "      <th>7</th>\n",
       "      <td>Errazuriz</td>\n",
       "      <td>12000.0</td>\n",
       "    </tr>\n",
       "    <tr>\n",
       "      <th>8</th>\n",
       "      <td>Cambrault</td>\n",
       "      <td>11000.0</td>\n",
       "    </tr>\n",
       "    <tr>\n",
       "      <th>9</th>\n",
       "      <td>Zlotkey</td>\n",
       "      <td>10500.0</td>\n",
       "    </tr>\n",
       "    <tr>\n",
       "      <th>10</th>\n",
       "      <td>Tucker</td>\n",
       "      <td>10000.0</td>\n",
       "    </tr>\n",
       "    <tr>\n",
       "      <th>11</th>\n",
       "      <td>King</td>\n",
       "      <td>10000.0</td>\n",
       "    </tr>\n",
       "    <tr>\n",
       "      <th>12</th>\n",
       "      <td>Vishney</td>\n",
       "      <td>10500.0</td>\n",
       "    </tr>\n",
       "    <tr>\n",
       "      <th>13</th>\n",
       "      <td>Ozer</td>\n",
       "      <td>11500.0</td>\n",
       "    </tr>\n",
       "    <tr>\n",
       "      <th>14</th>\n",
       "      <td>Bloom</td>\n",
       "      <td>10000.0</td>\n",
       "    </tr>\n",
       "    <tr>\n",
       "      <th>15</th>\n",
       "      <td>Abel</td>\n",
       "      <td>11000.0</td>\n",
       "    </tr>\n",
       "    <tr>\n",
       "      <th>16</th>\n",
       "      <td>Hartstein</td>\n",
       "      <td>13000.0</td>\n",
       "    </tr>\n",
       "    <tr>\n",
       "      <th>17</th>\n",
       "      <td>Baer</td>\n",
       "      <td>10000.0</td>\n",
       "    </tr>\n",
       "    <tr>\n",
       "      <th>18</th>\n",
       "      <td>Higgins</td>\n",
       "      <td>12008.0</td>\n",
       "    </tr>\n",
       "  </tbody>\n",
       "</table>\n",
       "</div>"
      ],
      "text/plain": [
       "    LAST_NAME   SALARY\n",
       "0        King  24000.0\n",
       "1     Kochhar  17000.0\n",
       "2     De Haan  17000.0\n",
       "3   Greenberg  12008.0\n",
       "4    Raphaely  11000.0\n",
       "5     Russell  14000.0\n",
       "6    Partners  13500.0\n",
       "7   Errazuriz  12000.0\n",
       "8   Cambrault  11000.0\n",
       "9     Zlotkey  10500.0\n",
       "10     Tucker  10000.0\n",
       "11       King  10000.0\n",
       "12    Vishney  10500.0\n",
       "13       Ozer  11500.0\n",
       "14      Bloom  10000.0\n",
       "15       Abel  11000.0\n",
       "16  Hartstein  13000.0\n",
       "17       Baer  10000.0\n",
       "18    Higgins  12008.0"
      ]
     },
     "execution_count": 42,
     "metadata": {},
     "output_type": "execute_result"
    }
   ],
   "source": [
    "# sql문 접근 또는  DF를 불리언 인덱싱으로 접근해서 조회\n",
    "dao = DAO()\n",
    "dao.select_df()"
   ]
  },
  {
   "cell_type": "code",
   "execution_count": 58,
   "id": "1ff39233",
   "metadata": {},
   "outputs": [
    {
     "name": "stderr",
     "output_type": "stream",
     "text": [
      "C:\\Users\\AI\\Anaconda3\\lib\\site-packages\\pandas\\io\\sql.py:761: UserWarning: pandas only support SQLAlchemy connectable(engine/connection) ordatabase string URI or sqlite3 DBAPI2 connectionother DBAPI2 objects are not tested, please consider using SQLAlchemy\n",
      "  warnings.warn(\n"
     ]
    },
    {
     "data": {
      "text/html": [
       "<div>\n",
       "<style scoped>\n",
       "    .dataframe tbody tr th:only-of-type {\n",
       "        vertical-align: middle;\n",
       "    }\n",
       "\n",
       "    .dataframe tbody tr th {\n",
       "        vertical-align: top;\n",
       "    }\n",
       "\n",
       "    .dataframe thead th {\n",
       "        text-align: right;\n",
       "    }\n",
       "</style>\n",
       "<table border=\"1\" class=\"dataframe\">\n",
       "  <thead>\n",
       "    <tr style=\"text-align: right;\">\n",
       "      <th></th>\n",
       "      <th>LAST_NAME</th>\n",
       "      <th>SALARY</th>\n",
       "    </tr>\n",
       "  </thead>\n",
       "  <tbody>\n",
       "    <tr>\n",
       "      <th>0</th>\n",
       "      <td>King</td>\n",
       "      <td>24000.0</td>\n",
       "    </tr>\n",
       "    <tr>\n",
       "      <th>1</th>\n",
       "      <td>Kochhar</td>\n",
       "      <td>17000.0</td>\n",
       "    </tr>\n",
       "    <tr>\n",
       "      <th>2</th>\n",
       "      <td>De Haan</td>\n",
       "      <td>17000.0</td>\n",
       "    </tr>\n",
       "    <tr>\n",
       "      <th>8</th>\n",
       "      <td>Greenberg</td>\n",
       "      <td>12008.0</td>\n",
       "    </tr>\n",
       "    <tr>\n",
       "      <th>14</th>\n",
       "      <td>Raphaely</td>\n",
       "      <td>11000.0</td>\n",
       "    </tr>\n",
       "    <tr>\n",
       "      <th>45</th>\n",
       "      <td>Russell</td>\n",
       "      <td>14000.0</td>\n",
       "    </tr>\n",
       "    <tr>\n",
       "      <th>46</th>\n",
       "      <td>Partners</td>\n",
       "      <td>13500.0</td>\n",
       "    </tr>\n",
       "    <tr>\n",
       "      <th>47</th>\n",
       "      <td>Errazuriz</td>\n",
       "      <td>12000.0</td>\n",
       "    </tr>\n",
       "    <tr>\n",
       "      <th>48</th>\n",
       "      <td>Cambrault</td>\n",
       "      <td>11000.0</td>\n",
       "    </tr>\n",
       "    <tr>\n",
       "      <th>49</th>\n",
       "      <td>Zlotkey</td>\n",
       "      <td>10500.0</td>\n",
       "    </tr>\n",
       "    <tr>\n",
       "      <th>50</th>\n",
       "      <td>Tucker</td>\n",
       "      <td>10000.0</td>\n",
       "    </tr>\n",
       "    <tr>\n",
       "      <th>56</th>\n",
       "      <td>King</td>\n",
       "      <td>10000.0</td>\n",
       "    </tr>\n",
       "    <tr>\n",
       "      <th>62</th>\n",
       "      <td>Vishney</td>\n",
       "      <td>10500.0</td>\n",
       "    </tr>\n",
       "    <tr>\n",
       "      <th>68</th>\n",
       "      <td>Ozer</td>\n",
       "      <td>11500.0</td>\n",
       "    </tr>\n",
       "    <tr>\n",
       "      <th>69</th>\n",
       "      <td>Bloom</td>\n",
       "      <td>10000.0</td>\n",
       "    </tr>\n",
       "    <tr>\n",
       "      <th>74</th>\n",
       "      <td>Abel</td>\n",
       "      <td>11000.0</td>\n",
       "    </tr>\n",
       "    <tr>\n",
       "      <th>101</th>\n",
       "      <td>Hartstein</td>\n",
       "      <td>13000.0</td>\n",
       "    </tr>\n",
       "    <tr>\n",
       "      <th>104</th>\n",
       "      <td>Baer</td>\n",
       "      <td>10000.0</td>\n",
       "    </tr>\n",
       "    <tr>\n",
       "      <th>105</th>\n",
       "      <td>Higgins</td>\n",
       "      <td>12008.0</td>\n",
       "    </tr>\n",
       "  </tbody>\n",
       "</table>\n",
       "</div>"
      ],
      "text/plain": [
       "     LAST_NAME   SALARY\n",
       "0         King  24000.0\n",
       "1      Kochhar  17000.0\n",
       "2      De Haan  17000.0\n",
       "8    Greenberg  12008.0\n",
       "14    Raphaely  11000.0\n",
       "45     Russell  14000.0\n",
       "46    Partners  13500.0\n",
       "47   Errazuriz  12000.0\n",
       "48   Cambrault  11000.0\n",
       "49     Zlotkey  10500.0\n",
       "50      Tucker  10000.0\n",
       "56        King  10000.0\n",
       "62     Vishney  10500.0\n",
       "68        Ozer  11500.0\n",
       "69       Bloom  10000.0\n",
       "74        Abel  11000.0\n",
       "101  Hartstein  13000.0\n",
       "104       Baer  10000.0\n",
       "105    Higgins  12008.0"
      ]
     },
     "execution_count": 58,
     "metadata": {},
     "output_type": "execute_result"
    }
   ],
   "source": [
    "dao = DAO()\n",
    "data = dao.select_df()\n",
    "data[data['SALARY']>=10000]"
   ]
  },
  {
   "cell_type": "code",
   "execution_count": 36,
   "id": "1b399f03",
   "metadata": {},
   "outputs": [
    {
     "name": "stdout",
     "output_type": "stream",
     "text": [
      " * Serving Flask app \"__main__\" (lazy loading)\n",
      " * Environment: production\n",
      "\u001b[31m   WARNING: This is a development server. Do not use it in a production deployment.\u001b[0m\n",
      "\u001b[2m   Use a production WSGI server instead.\u001b[0m\n",
      " * Debug mode: off\n"
     ]
    },
    {
     "name": "stderr",
     "output_type": "stream",
     "text": [
      " * Running on http://192.168.70.172:5023/ (Press CTRL+C to quit)\n",
      "192.168.70.172 - - [22/Sep/2022 12:28:12] \"GET / HTTP/1.1\" 200 -\n",
      "192.168.70.172 - - [22/Sep/2022 12:28:19] \"GET /sel_emp HTTP/1.1\" 200 -\n"
     ]
    }
   ],
   "source": [
    "import socket\n",
    "s = socket.socket(socket.AF_INET, socket.SOCK_DGRAM)\n",
    "s.connect((\"8.8.8.8\", 80))\n",
    "host_ip = s.getsockname()[0]\n",
    "\n",
    "from flask import Flask, redirect\n",
    "\n",
    "app = Flask(__name__)\n",
    "\n",
    "@app.route('/')\n",
    "def index():\n",
    "    return '<h1>Hello World</h1>'\n",
    "\n",
    "@app.route('/sel_emp')\n",
    "def sel_emp():\n",
    "    dao = DAO()\n",
    "    r = dao.select()\n",
    "    \n",
    "    result = '</br>'.join(map(str,r))\n",
    "    \n",
    "    return result\n",
    "\n",
    "if __name__ == '__main__':\n",
    "    app.run(host=f'{host_ip}', port=5023)"
   ]
  },
  {
   "cell_type": "markdown",
   "id": "05792081",
   "metadata": {},
   "source": [
    "## 회원가입 코드 설계(9/23)"
   ]
  },
  {
   "cell_type": "code",
   "execution_count": null,
   "id": "2b7f521e",
   "metadata": {},
   "outputs": [],
   "source": [
    "# member 테이블 잘 불러와지는지 확인"
   ]
  },
  {
   "cell_type": "code",
   "execution_count": 23,
   "id": "746eac6f",
   "metadata": {},
   "outputs": [],
   "source": [
    "import cx_Oracle\n",
    "import pandas as pd\n",
    "class DAO:\n",
    "    def select(self):\n",
    "        db_id = 'hr'\n",
    "        db_pw = 'hr'\n",
    "        db_url = '127.0.0.1:1521/xe'\n",
    "        conn = cx_Oracle.connect(db_id, db_pw, db_url)\n",
    "        curs = conn.cursor()\n",
    "        sql = 'select last_name, salary from employees'\n",
    "        curs.execute(sql)\n",
    "        result = curs.execute(sql)\n",
    "        r = result.fetchall()\n",
    "        if curs != None:curs.close()\n",
    "        if conn != None:conn.close()\n",
    "        return r\n",
    "    \n",
    "    def select_df(self):\n",
    "        db_id = 'hr'\n",
    "        db_pw = 'hr'\n",
    "        db_url = '127.0.0.1:1521/xe'\n",
    "        conn = cx_Oracle.connect(db_id,db_pw,db_url)\n",
    "        sql = 'select * from member'\n",
    "        df = pd.read_sql(sql, conn)\n",
    "        conn.close()\n",
    "        return df\n",
    "    # class 안의 함수에서는 self 써줘야 함\n",
    "    # insert 함수 사용할 때 값 3개 정의해주어야 함\n",
    "    def insert(self, join_id, join_pw, join_name):\n",
    "        db_id = 'hr'\n",
    "        db_pw = 'hr'\n",
    "        db_url = '127.0.0.1:1521/xe'\n",
    "        conn = cx_Oracle.connect(db_id,db_pw,db_url)\n",
    "        \n",
    "        curs = conn.cursor()\n",
    "        # sql문 tab 사용 가능, 문자에 '' 사용해야 함\n",
    "        # :1, :2, :3 : 정해지지 않은 값(execute에서 sql변수 뒤에 정의해줘야 됨)\n",
    "        sql = '''insert into member(memid, id, pw, name)\n",
    "        values (mem_memid_seq.nextval, :1, :2, :3)'''\n",
    "        curs.execute(sql, (join_id, join_pw, join_name))\n",
    "        \n",
    "        conn.commit()\n",
    "        \n",
    "        if curs != None:\n",
    "            curs.close()\n",
    "        if conn != None:\n",
    "            conn.close()\n",
    "        \n",
    "        "
   ]
  },
  {
   "cell_type": "code",
   "execution_count": 24,
   "id": "ac5e0ae8",
   "metadata": {},
   "outputs": [
    {
     "name": "stdout",
     "output_type": "stream",
     "text": [
      "None\n"
     ]
    },
    {
     "name": "stderr",
     "output_type": "stream",
     "text": [
      "C:\\Users\\AI\\Anaconda3\\lib\\site-packages\\pandas\\io\\sql.py:761: UserWarning: pandas only support SQLAlchemy connectable(engine/connection) ordatabase string URI or sqlite3 DBAPI2 connectionother DBAPI2 objects are not tested, please consider using SQLAlchemy\n",
      "  warnings.warn(\n"
     ]
    },
    {
     "data": {
      "text/html": [
       "<div>\n",
       "<style scoped>\n",
       "    .dataframe tbody tr th:only-of-type {\n",
       "        vertical-align: middle;\n",
       "    }\n",
       "\n",
       "    .dataframe tbody tr th {\n",
       "        vertical-align: top;\n",
       "    }\n",
       "\n",
       "    .dataframe thead th {\n",
       "        text-align: right;\n",
       "    }\n",
       "</style>\n",
       "<table border=\"1\" class=\"dataframe\">\n",
       "  <thead>\n",
       "    <tr style=\"text-align: right;\">\n",
       "      <th></th>\n",
       "      <th>MEMID</th>\n",
       "      <th>ID</th>\n",
       "      <th>PW</th>\n",
       "      <th>NAME</th>\n",
       "      <th>MONEY</th>\n",
       "    </tr>\n",
       "  </thead>\n",
       "  <tbody>\n",
       "    <tr>\n",
       "      <th>0</th>\n",
       "      <td>140</td>\n",
       "      <td>ysw2</td>\n",
       "      <td>1234</td>\n",
       "      <td>sw2</td>\n",
       "      <td>10000</td>\n",
       "    </tr>\n",
       "    <tr>\n",
       "      <th>1</th>\n",
       "      <td>141</td>\n",
       "      <td>ysw3</td>\n",
       "      <td>1234</td>\n",
       "      <td>sw3</td>\n",
       "      <td>10000</td>\n",
       "    </tr>\n",
       "    <tr>\n",
       "      <th>2</th>\n",
       "      <td>142</td>\n",
       "      <td>ysw4</td>\n",
       "      <td>1234</td>\n",
       "      <td>sw4</td>\n",
       "      <td>10000</td>\n",
       "    </tr>\n",
       "    <tr>\n",
       "      <th>3</th>\n",
       "      <td>143</td>\n",
       "      <td>ysw5</td>\n",
       "      <td>1234</td>\n",
       "      <td>sw5</td>\n",
       "      <td>10000</td>\n",
       "    </tr>\n",
       "    <tr>\n",
       "      <th>4</th>\n",
       "      <td>144</td>\n",
       "      <td>ysw6</td>\n",
       "      <td>0923</td>\n",
       "      <td>sw6</td>\n",
       "      <td>10000</td>\n",
       "    </tr>\n",
       "    <tr>\n",
       "      <th>5</th>\n",
       "      <td>146</td>\n",
       "      <td>ysw8</td>\n",
       "      <td>0923</td>\n",
       "      <td>sw8</td>\n",
       "      <td>10000</td>\n",
       "    </tr>\n",
       "    <tr>\n",
       "      <th>6</th>\n",
       "      <td>101</td>\n",
       "      <td>ysw</td>\n",
       "      <td>1234</td>\n",
       "      <td>seungwook</td>\n",
       "      <td>10000</td>\n",
       "    </tr>\n",
       "    <tr>\n",
       "      <th>7</th>\n",
       "      <td>145</td>\n",
       "      <td>ysw7</td>\n",
       "      <td>0923</td>\n",
       "      <td>sw7</td>\n",
       "      <td>10000</td>\n",
       "    </tr>\n",
       "  </tbody>\n",
       "</table>\n",
       "</div>"
      ],
      "text/plain": [
       "   MEMID    ID    PW       NAME  MONEY\n",
       "0    140  ysw2  1234        sw2  10000\n",
       "1    141  ysw3  1234        sw3  10000\n",
       "2    142  ysw4  1234        sw4  10000\n",
       "3    143  ysw5  1234        sw5  10000\n",
       "4    144  ysw6  0923        sw6  10000\n",
       "5    146  ysw8  0923        sw8  10000\n",
       "6    101   ysw  1234  seungwook  10000\n",
       "7    145  ysw7  0923        sw7  10000"
      ]
     },
     "execution_count": 24,
     "metadata": {},
     "output_type": "execute_result"
    }
   ],
   "source": [
    "dao = DAO()\n",
    "dao.insert('ysw8','0923','sw8')\n",
    "dao.select_df()"
   ]
  },
  {
   "cell_type": "code",
   "execution_count": 19,
   "id": "4ac574cb",
   "metadata": {},
   "outputs": [
    {
     "name": "stderr",
     "output_type": "stream",
     "text": [
      "C:\\Users\\AI\\Anaconda3\\lib\\site-packages\\pandas\\io\\sql.py:761: UserWarning: pandas only support SQLAlchemy connectable(engine/connection) ordatabase string URI or sqlite3 DBAPI2 connectionother DBAPI2 objects are not tested, please consider using SQLAlchemy\n",
      "  warnings.warn(\n"
     ]
    },
    {
     "data": {
      "text/html": [
       "<div>\n",
       "<style scoped>\n",
       "    .dataframe tbody tr th:only-of-type {\n",
       "        vertical-align: middle;\n",
       "    }\n",
       "\n",
       "    .dataframe tbody tr th {\n",
       "        vertical-align: top;\n",
       "    }\n",
       "\n",
       "    .dataframe thead th {\n",
       "        text-align: right;\n",
       "    }\n",
       "</style>\n",
       "<table border=\"1\" class=\"dataframe\">\n",
       "  <thead>\n",
       "    <tr style=\"text-align: right;\">\n",
       "      <th></th>\n",
       "      <th>MEMID</th>\n",
       "      <th>ID</th>\n",
       "      <th>PW</th>\n",
       "      <th>NAME</th>\n",
       "      <th>MONEY</th>\n",
       "    </tr>\n",
       "  </thead>\n",
       "  <tbody>\n",
       "    <tr>\n",
       "      <th>0</th>\n",
       "      <td>140</td>\n",
       "      <td>ysw2</td>\n",
       "      <td>1234</td>\n",
       "      <td>sw2</td>\n",
       "      <td>10000</td>\n",
       "    </tr>\n",
       "    <tr>\n",
       "      <th>1</th>\n",
       "      <td>141</td>\n",
       "      <td>ysw3</td>\n",
       "      <td>1234</td>\n",
       "      <td>sw3</td>\n",
       "      <td>10000</td>\n",
       "    </tr>\n",
       "    <tr>\n",
       "      <th>2</th>\n",
       "      <td>142</td>\n",
       "      <td>ysw4</td>\n",
       "      <td>1234</td>\n",
       "      <td>sw4</td>\n",
       "      <td>10000</td>\n",
       "    </tr>\n",
       "    <tr>\n",
       "      <th>3</th>\n",
       "      <td>143</td>\n",
       "      <td>ysw5</td>\n",
       "      <td>1234</td>\n",
       "      <td>sw5</td>\n",
       "      <td>10000</td>\n",
       "    </tr>\n",
       "    <tr>\n",
       "      <th>4</th>\n",
       "      <td>101</td>\n",
       "      <td>ysw</td>\n",
       "      <td>1234</td>\n",
       "      <td>seungwook</td>\n",
       "      <td>10000</td>\n",
       "    </tr>\n",
       "  </tbody>\n",
       "</table>\n",
       "</div>"
      ],
      "text/plain": [
       "   MEMID    ID    PW       NAME  MONEY\n",
       "0    140  ysw2  1234        sw2  10000\n",
       "1    141  ysw3  1234        sw3  10000\n",
       "2    142  ysw4  1234        sw4  10000\n",
       "3    143  ysw5  1234        sw5  10000\n",
       "4    101   ysw  1234  seungwook  10000"
      ]
     },
     "execution_count": 19,
     "metadata": {},
     "output_type": "execute_result"
    }
   ],
   "source": [
    "dao = DAO()\n",
    "df = dao.select_df()\n",
    "df"
   ]
  },
  {
   "cell_type": "code",
   "execution_count": null,
   "id": "0258b1f7",
   "metadata": {},
   "outputs": [],
   "source": [
    "# 로그인"
   ]
  },
  {
   "cell_type": "code",
   "execution_count": 1,
   "id": "4aba9dde",
   "metadata": {},
   "outputs": [],
   "source": [
    "import cx_Oracle\n",
    "import pandas as pd\n",
    "class DAO:\n",
    "    \n",
    "    # db 함수 접속\n",
    "    def conn_db(self):\n",
    "        db_id = 'hr'\n",
    "        db_pw = 'hr'\n",
    "        db_url = '127.0.0.1:1521/xe'\n",
    "        conn = cx_Oracle.connect(db_id,db_pw,db_url)\n",
    "        \n",
    "        curs = conn.cursor()\n",
    "        return conn, curs\n",
    "    \n",
    "    def select(self):\n",
    "        conn, curs = self.conn_db()\n",
    "        sql = 'select last_name, salary from employees'\n",
    "        curs.execute(sql)\n",
    "        result = curs.execute(sql)\n",
    "        r = result.fetchall()\n",
    "        if curs != None:curs.close()\n",
    "        if conn != None:conn.close()\n",
    "        return r\n",
    "    \n",
    "    def select_df(self):\n",
    "        conn, curs = self.conn_db()\n",
    "        sql = 'select * from member'\n",
    "        df = pd.read_sql(sql, conn)\n",
    "        conn.close()\n",
    "        return df\n",
    "    \n",
    "    # class 안의 함수에서는 self 써줘야 함\n",
    "    # insert 함수 사용할 때 값 3개 정의해주어야 함\n",
    "    def insert(self, join_id, join_pw, join_name):\n",
    "        conn, curs = self.conn_db()\n",
    "        \n",
    "        # sql문 tab 사용 가능, 문자에 '' 사용해야 함\n",
    "        # :1, :2, :3 : 정해지지 않은 값(execute에서 sql변수 뒤에 정의해줘야 됨)\n",
    "        sql = '''insert into member(memid, id, pw, name)\n",
    "        values (mem_memid_seq.nextval, :1, :2, :3)'''\n",
    "        curs.execute(sql, (join_id, join_pw, join_name))\n",
    "        \n",
    "        conn.commit()\n",
    "        \n",
    "        if curs != None:\n",
    "            curs.close()\n",
    "        if conn != None:\n",
    "            conn.close()\n",
    "    \n",
    "    def login(self, login_id, login_pw):\n",
    "        conn, curs = self.conn_db()\n",
    "        \n",
    "        # select는 commit 하지 않음\n",
    "        #sql = '''select count(*) from member where id = 'ysw' and pw = '1234' '''\n",
    "        sql = '''select count(*) from member where id = :1 and pw = :2 '''\n",
    "        result = curs.execute(sql, (login_id, login_pw))\n",
    "        # fetchone 대신 fetchall 사용 시 리스트로 출력\n",
    "        cnt = result.fetchone()\n",
    "        \n",
    "        if curs != None:\n",
    "            curs.close()\n",
    "        if conn != None:\n",
    "            conn.close()\n",
    "        \n",
    "        return cnt[0]\n",
    "        "
   ]
  },
  {
   "cell_type": "code",
   "execution_count": 57,
   "id": "9aa6ea3c",
   "metadata": {},
   "outputs": [
    {
     "data": {
      "text/plain": [
       "1"
      ]
     },
     "execution_count": 57,
     "metadata": {},
     "output_type": "execute_result"
    }
   ],
   "source": [
    "dao = DAO()\n",
    "#dao.login('1','2')\n",
    "dao.login('ysw', '1234')\n",
    "\n",
    "# 출력되는 값이 1이면 로그인 성공, 0이면 로그인 실패"
   ]
  },
  {
   "cell_type": "code",
   "execution_count": 66,
   "id": "25f344c7",
   "metadata": {
    "scrolled": false
   },
   "outputs": [
    {
     "name": "stdout",
     "output_type": "stream",
     "text": [
      " * Serving Flask app \"__main__\" (lazy loading)\n",
      " * Environment: production\n",
      "\u001b[31m   WARNING: This is a development server. Do not use it in a production deployment.\u001b[0m\n",
      "\u001b[2m   Use a production WSGI server instead.\u001b[0m\n",
      " * Debug mode: off\n"
     ]
    },
    {
     "name": "stderr",
     "output_type": "stream",
     "text": [
      " * Running on http://192.168.70.172:5023/ (Press CTRL+C to quit)\n",
      "192.168.70.172 - - [23/Sep/2022 12:18:27] \"POST /login HTTP/1.1\" 302 -\n"
     ]
    },
    {
     "name": "stdout",
     "output_type": "stream",
     "text": [
      "1 1\n"
     ]
    },
    {
     "name": "stderr",
     "output_type": "stream",
     "text": [
      "192.168.70.172 - - [23/Sep/2022 12:18:35] \"POST /login HTTP/1.1\" 302 -\n"
     ]
    },
    {
     "name": "stdout",
     "output_type": "stream",
     "text": [
      "ysw 1234\n"
     ]
    },
    {
     "name": "stderr",
     "output_type": "stream",
     "text": [
      "192.168.70.175 - - [23/Sep/2022 12:21:42] \"POST /login HTTP/1.1\" 302 -\n"
     ]
    },
    {
     "name": "stdout",
     "output_type": "stream",
     "text": [
      "ysw1 1234\n"
     ]
    },
    {
     "name": "stderr",
     "output_type": "stream",
     "text": [
      "192.168.70.254 - - [23/Sep/2022 12:32:06] \"POST /login HTTP/1.1\" 302 -\n"
     ]
    },
    {
     "name": "stdout",
     "output_type": "stream",
     "text": [
      "ysw 1234\n"
     ]
    }
   ],
   "source": [
    "# redirect : 페이지 전체가 이동\n",
    "from flask import Flask, request, redirect\n",
    "\n",
    "app = Flask(__name__)\n",
    "@app.route('/')\n",
    "def index():\n",
    "    return '<h1>Hello World</h1>'\n",
    "\n",
    "@app.route('/login', methods=['GET', 'POST'])\n",
    "\n",
    "def login_db():\n",
    "    # get방식은 args, post 방식은 form\n",
    "    if request.method == 'POST':\n",
    "        # html문서의 input태그의 name 값\n",
    "        login_id = request.form['login_id']\n",
    "        login_pw = request.form['login_pw']\n",
    "        \n",
    "        print(login_id, login_pw)\n",
    "        \n",
    "        dao = DAO()\n",
    "        cnt = dao.login(login_id, login_pw)\n",
    "        \n",
    "        if cnt == 1:\n",
    "            url_success = 'http://nayeho.dothome.co.kr/success.html'\n",
    "            return redirect(url_success)\n",
    "        else:\n",
    "            url_fail = 'http://nayeho.dothome.co.kr/fail.html'\n",
    "            return redirect(url_fail)\n",
    "        \n",
    "if __name__ == '__main__':\n",
    "    app.run(host='192.168.70.172', port=5023)"
   ]
  },
  {
   "cell_type": "markdown",
   "id": "b2804bf3",
   "metadata": {},
   "source": [
    "- 1. flask 서버 실행\n",
    "- 2. vs code쪽 index.html을 Live Server로 올려주세요 (단축키 : Alt + L + O)\n",
    "- 3. 띄워진 웹 페이지에서 ID와 PW를 입력 후 '로그인' 버튼 클릭\n",
    "- 4. jupyter notebook 쪽 cell 창에서 넘어 온 ID와 PW를 확인!!"
   ]
  },
  {
   "cell_type": "code",
   "execution_count": 39,
   "id": "881a29d3",
   "metadata": {},
   "outputs": [
    {
     "name": "stderr",
     "output_type": "stream",
     "text": [
      "C:\\Users\\AI\\Anaconda3\\lib\\site-packages\\pandas\\io\\sql.py:761: UserWarning: pandas only support SQLAlchemy connectable(engine/connection) ordatabase string URI or sqlite3 DBAPI2 connectionother DBAPI2 objects are not tested, please consider using SQLAlchemy\n",
      "  warnings.warn(\n"
     ]
    },
    {
     "data": {
      "text/html": [
       "<div>\n",
       "<style scoped>\n",
       "    .dataframe tbody tr th:only-of-type {\n",
       "        vertical-align: middle;\n",
       "    }\n",
       "\n",
       "    .dataframe tbody tr th {\n",
       "        vertical-align: top;\n",
       "    }\n",
       "\n",
       "    .dataframe thead th {\n",
       "        text-align: right;\n",
       "    }\n",
       "</style>\n",
       "<table border=\"1\" class=\"dataframe\">\n",
       "  <thead>\n",
       "    <tr style=\"text-align: right;\">\n",
       "      <th></th>\n",
       "      <th>MEMID</th>\n",
       "      <th>ID</th>\n",
       "      <th>PW</th>\n",
       "      <th>NAME</th>\n",
       "      <th>MONEY</th>\n",
       "    </tr>\n",
       "  </thead>\n",
       "  <tbody>\n",
       "    <tr>\n",
       "      <th>0</th>\n",
       "      <td>140</td>\n",
       "      <td>ysw2</td>\n",
       "      <td>1234</td>\n",
       "      <td>sw2</td>\n",
       "      <td>10000</td>\n",
       "    </tr>\n",
       "    <tr>\n",
       "      <th>1</th>\n",
       "      <td>141</td>\n",
       "      <td>ysw3</td>\n",
       "      <td>1234</td>\n",
       "      <td>sw3</td>\n",
       "      <td>10000</td>\n",
       "    </tr>\n",
       "    <tr>\n",
       "      <th>2</th>\n",
       "      <td>142</td>\n",
       "      <td>ysw4</td>\n",
       "      <td>1234</td>\n",
       "      <td>sw4</td>\n",
       "      <td>10000</td>\n",
       "    </tr>\n",
       "    <tr>\n",
       "      <th>3</th>\n",
       "      <td>143</td>\n",
       "      <td>ysw5</td>\n",
       "      <td>1234</td>\n",
       "      <td>sw5</td>\n",
       "      <td>10000</td>\n",
       "    </tr>\n",
       "    <tr>\n",
       "      <th>4</th>\n",
       "      <td>144</td>\n",
       "      <td>ysw6</td>\n",
       "      <td>0923</td>\n",
       "      <td>sw6</td>\n",
       "      <td>10000</td>\n",
       "    </tr>\n",
       "    <tr>\n",
       "      <th>5</th>\n",
       "      <td>146</td>\n",
       "      <td>ysw8</td>\n",
       "      <td>0923</td>\n",
       "      <td>sw8</td>\n",
       "      <td>10000</td>\n",
       "    </tr>\n",
       "    <tr>\n",
       "      <th>6</th>\n",
       "      <td>101</td>\n",
       "      <td>ysw</td>\n",
       "      <td>1234</td>\n",
       "      <td>seungwook</td>\n",
       "      <td>10000</td>\n",
       "    </tr>\n",
       "    <tr>\n",
       "      <th>7</th>\n",
       "      <td>145</td>\n",
       "      <td>ysw7</td>\n",
       "      <td>0923</td>\n",
       "      <td>sw7</td>\n",
       "      <td>10000</td>\n",
       "    </tr>\n",
       "    <tr>\n",
       "      <th>8</th>\n",
       "      <td>147</td>\n",
       "      <td>ysw9</td>\n",
       "      <td>0923</td>\n",
       "      <td>sw9</td>\n",
       "      <td>10000</td>\n",
       "    </tr>\n",
       "  </tbody>\n",
       "</table>\n",
       "</div>"
      ],
      "text/plain": [
       "   MEMID    ID    PW       NAME  MONEY\n",
       "0    140  ysw2  1234        sw2  10000\n",
       "1    141  ysw3  1234        sw3  10000\n",
       "2    142  ysw4  1234        sw4  10000\n",
       "3    143  ysw5  1234        sw5  10000\n",
       "4    144  ysw6  0923        sw6  10000\n",
       "5    146  ysw8  0923        sw8  10000\n",
       "6    101   ysw  1234  seungwook  10000\n",
       "7    145  ysw7  0923        sw7  10000\n",
       "8    147  ysw9  0923        sw9  10000"
      ]
     },
     "execution_count": 39,
     "metadata": {},
     "output_type": "execute_result"
    }
   ],
   "source": [
    "dao = DAO()\n",
    "#dao.insert('ysw9','0923','sw9')\n",
    "dao.select_df()"
   ]
  },
  {
   "cell_type": "code",
   "execution_count": null,
   "id": "54138ae7",
   "metadata": {},
   "outputs": [],
   "source": []
  },
  {
   "cell_type": "markdown",
   "id": "579893dc",
   "metadata": {},
   "source": [
    "- 9/26(월)"
   ]
  },
  {
   "cell_type": "code",
   "execution_count": 17,
   "id": "1bfcf7eb",
   "metadata": {},
   "outputs": [],
   "source": [
    "# oracle DB\n",
    "import cx_Oracle\n",
    "import pandas as pd\n",
    "class DAO:\n",
    "    \n",
    "    # db 함수 접속\n",
    "    def conn_db(self):\n",
    "        db_id = 'hr'\n",
    "        db_pw = 'hr'\n",
    "        db_url = '127.0.0.1:1521/xe'\n",
    "        conn = cx_Oracle.connect(db_id,db_pw,db_url)\n",
    "        \n",
    "        curs = conn.cursor()\n",
    "        return conn, curs\n",
    "    \n",
    "    def select(self):\n",
    "        conn, curs = self.conn_db()\n",
    "        sql = 'select last_name, salary from employees'\n",
    "        curs.execute(sql)\n",
    "        result = curs.execute(sql)\n",
    "        r = result.fetchall()\n",
    "        if curs != None:curs.close()\n",
    "        if conn != None:conn.close()\n",
    "        return r\n",
    "    \n",
    "    def select_df(self):\n",
    "        conn, curs = self.conn_db()\n",
    "        sql = 'select * from member'\n",
    "        df = pd.read_sql(sql, conn)\n",
    "        conn.close()\n",
    "        return df\n",
    "    \n",
    "    # class 안의 함수에서는 self 써줘야 함\n",
    "    # insert 함수 사용할 때 값 3개 정의해주어야 함\n",
    "    def insert(self, join_id, join_pw, join_name):\n",
    "        conn, curs = self.conn_db()\n",
    "        \n",
    "        # sql문 tab 사용 가능, 문자에 '' 사용해야 함\n",
    "        # :1, :2, :3 : 정해지지 않은 값(execute에서 sql변수 뒤에 정의해줘야 됨)\n",
    "        sql = '''insert into member(memid, id, pw, name)\n",
    "        values (mem_memid_seq.nextval, :1, :2, :3)'''\n",
    "        curs.execute(sql, (join_id, join_pw, join_name))\n",
    "        \n",
    "        conn.commit()\n",
    "        \n",
    "        if curs != None:\n",
    "            curs.close()\n",
    "        if conn != None:\n",
    "            conn.close()\n",
    "    \n",
    "    def login(self, login_id, login_pw):\n",
    "        conn, curs = self.conn_db()\n",
    "        \n",
    "        # select는 commit 하지 않음\n",
    "        #sql = '''select count(*) from member where id = 'ysw' and pw = '1234' '''\n",
    "        sql = '''select count(*) from member where id = :1 and pw = :2 '''\n",
    "        result = curs.execute(sql, (login_id, login_pw))\n",
    "        # fetchone 대신 fetchall 사용 시 리스트로 출력\n",
    "        cnt = result.fetchone()\n",
    "        \n",
    "        if curs != None:\n",
    "            curs.close()\n",
    "        if conn != None:\n",
    "            conn.close()\n",
    "        \n",
    "        return cnt[0]\n",
    "    \n",
    "    # login_id 중복체크\n",
    "    def check(self, login_id):\n",
    "        conn, curs = self.conn_db()\n",
    "        \n",
    "        # select는 commit 하지 않음\n",
    "        #sql = '''select count(*) from member where id = 'ysw' and pw = '1234' '''\n",
    "        sql = '''select count(*) from member where id = :1 '''\n",
    "        result = curs.execute(sql, (login_id,))  # login_id 뒤에 , 필요(리스트로 저장 필요)\n",
    "        #result = curs.execute(sql, [login_id])\n",
    "        # fetchone 대신 fetchall 사용 시 리스트로 출력\n",
    "        cnt = result.fetchone()\n",
    "        \n",
    "        if curs != None:\n",
    "            curs.close()\n",
    "        if conn != None:\n",
    "            conn.close()\n",
    "        \n",
    "        return cnt[0]"
   ]
  },
  {
   "cell_type": "code",
   "execution_count": 20,
   "id": "c0bf96d2",
   "metadata": {},
   "outputs": [
    {
     "data": {
      "text/plain": [
       "1"
      ]
     },
     "execution_count": 20,
     "metadata": {},
     "output_type": "execute_result"
    }
   ],
   "source": [
    "dao = DAO()\n",
    "#dao.login('1','2')\n",
    "dao.check('ysw')"
   ]
  },
  {
   "cell_type": "code",
   "execution_count": 19,
   "id": "6b502e35",
   "metadata": {},
   "outputs": [
    {
     "name": "stdout",
     "output_type": "stream",
     "text": [
      " * Serving Flask app \"__main__\" (lazy loading)\n",
      " * Environment: production\n",
      "\u001b[31m   WARNING: This is a development server. Do not use it in a production deployment.\u001b[0m\n",
      "\u001b[2m   Use a production WSGI server instead.\u001b[0m\n",
      " * Debug mode: off\n"
     ]
    },
    {
     "name": "stderr",
     "output_type": "stream",
     "text": [
      " * Running on http://192.168.70.58:5023/ (Press CTRL+C to quit)\n",
      "192.168.70.58 - - [26/Sep/2022 11:17:57] \"GET / HTTP/1.1\" 200 -\n",
      "192.168.70.58 - - [26/Sep/2022 11:18:32] \"POST /check HTTP/1.1\" 400 -\n",
      "192.168.70.58 - - [26/Sep/2022 11:18:40] \"POST /check HTTP/1.1\" 400 -\n"
     ]
    }
   ],
   "source": [
    "# flask server\n",
    "# redirect : 페이지 전체가 이동\n",
    "\n",
    "import socket\n",
    "s = socket.socket(socket.AF_INET, socket.SOCK_DGRAM)\n",
    "s.connect((\"8.8.8.8\", 80))\n",
    "host_ip = s.getsockname()[0]\n",
    "\n",
    "from flask import Flask, request, redirect\n",
    "\n",
    "app = Flask(__name__)\n",
    "@app.route('/')\n",
    "def index():\n",
    "    return '<h1>Hello World</h1>'\n",
    "\n",
    "# 회원가입\n",
    "@app.route('/join', methods=['POST'])\n",
    "def join():\n",
    "    if request.method == 'POST':\n",
    "        # form ['joinid'] : html과 같은 이름으로 해야 함\n",
    "        join_id = request.form['join_id']\n",
    "        join_pw = request.form['join_pw']\n",
    "        join_name = request.form['join_name']\n",
    "        print(join_id, join_pw, join_name)\n",
    "        dao = DAO()\n",
    "        try:\n",
    "            dao.insert(join_id, join_pw, join_name)\n",
    "            return redirect('/success')\n",
    "        except:\n",
    "            return redirect(f'http://{host_ip}:5500/index.html')\n",
    "        \n",
    "@app.route('/success')\n",
    "def success():\n",
    "    return '<h1>회원가입 성공</h1>'\n",
    "\n",
    "@app.route('/check', methods=['POST'])\n",
    "def check_id():\n",
    "    if request.method == 'POST':\n",
    "        join_id = request.form['join_id']\n",
    "        \n",
    "        dao = DAO()\n",
    "        cnt = dao.check(join_id)\n",
    "        return cnt\n",
    "    \n",
    "\n",
    "@app.route('/login', methods=['GET', 'POST'])\n",
    "\n",
    "def login_db():\n",
    "    # get방식은 args, post 방식은 form\n",
    "    if request.method == 'POST':\n",
    "        # html문서의 input태그의 name 값\n",
    "        login_id = request.form['login_id']\n",
    "        login_pw = request.form['login_pw']\n",
    "        \n",
    "        print(login_id, login_pw)\n",
    "        \n",
    "        dao = DAO()\n",
    "        cnt = dao.login(login_id, login_pw)\n",
    "        \n",
    "        if cnt == 1:\n",
    "            url_success = 'http://seungwook.dothome.co.kr/success.html'\n",
    "            return redirect(url_success)\n",
    "        else:\n",
    "            url_fail = 'http://seungwook.dothome.co.kr/fail.html'\n",
    "            return redirect(url_fail)\n",
    "        \n",
    "if __name__ == '__main__':\n",
    "    app.run(host=f'{host_ip}', port=5023)"
   ]
  },
  {
   "cell_type": "code",
   "execution_count": null,
   "id": "052a16e6",
   "metadata": {},
   "outputs": [],
   "source": []
  },
  {
   "cell_type": "code",
   "execution_count": null,
   "id": "8feff36f",
   "metadata": {},
   "outputs": [],
   "source": []
  },
  {
   "cell_type": "markdown",
   "id": "b0421f68",
   "metadata": {},
   "source": [
    "10/7 웹뷰 -> Flask서버로 get방식"
   ]
  },
  {
   "cell_type": "code",
   "execution_count": 4,
   "id": "0948a749",
   "metadata": {},
   "outputs": [
    {
     "name": "stdout",
     "output_type": "stream",
     "text": [
      " * Serving Flask app \"__main__\" (lazy loading)\n",
      " * Environment: production\n",
      "\u001b[31m   WARNING: This is a development server. Do not use it in a production deployment.\u001b[0m\n",
      "\u001b[2m   Use a production WSGI server instead.\u001b[0m\n",
      " * Debug mode: off\n"
     ]
    },
    {
     "name": "stderr",
     "output_type": "stream",
     "text": [
      " * Running on http://192.168.70.58:5023/ (Press CTRL+C to quit)\n",
      "192.168.70.58 - - [07/Oct/2022 17:03:29] \"GET /login?login_id=ysw&login_pw=1234 HTTP/1.1\" 200 -\n"
     ]
    },
    {
     "name": "stdout",
     "output_type": "stream",
     "text": [
      "ysw 1234\n"
     ]
    }
   ],
   "source": [
    "# 웹뷰 - 중요\n",
    "from flask import Flask,request\n",
    "\n",
    "app = Flask(__name__)\n",
    "\n",
    "@app.route('/')\n",
    "def index():\n",
    "    return \"Hello World\"\n",
    "\n",
    "@app.route('/login', methods=['GET', 'POST'])\n",
    "def login2():\n",
    "    login_id = request.args['login_id']\n",
    "    login_pw = request.args['login_pw']\n",
    "    \n",
    "    print(login_id, login_pw)\n",
    "    \n",
    "    return '로그인 페이지'\n",
    "\n",
    "if __name__ == '__main__':\n",
    "    app.run(host='192.168.70.58', port=5023)"
   ]
  },
  {
   "cell_type": "code",
   "execution_count": null,
   "id": "66ba5e0d",
   "metadata": {},
   "outputs": [],
   "source": []
  }
 ],
 "metadata": {
  "kernelspec": {
   "display_name": "Python 3 (ipykernel)",
   "language": "python",
   "name": "python3"
  },
  "language_info": {
   "codemirror_mode": {
    "name": "ipython",
    "version": 3
   },
   "file_extension": ".py",
   "mimetype": "text/x-python",
   "name": "python",
   "nbconvert_exporter": "python",
   "pygments_lexer": "ipython3",
   "version": "3.9.12"
  },
  "toc": {
   "base_numbering": 1,
   "nav_menu": {},
   "number_sections": true,
   "sideBar": true,
   "skip_h1_title": false,
   "title_cell": "Table of Contents",
   "title_sidebar": "Contents",
   "toc_cell": false,
   "toc_position": {},
   "toc_section_display": true,
   "toc_window_display": false
  }
 },
 "nbformat": 4,
 "nbformat_minor": 5
}
