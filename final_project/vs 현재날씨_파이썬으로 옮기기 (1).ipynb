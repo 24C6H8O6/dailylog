{
 "cells": [
  {
   "cell_type": "code",
   "execution_count": 1,
   "id": "474da367",
   "metadata": {},
   "outputs": [],
   "source": [
    "import requests as req\n",
    "import json\n",
    "from bs4 import BeautifulSoup as bs\n",
    "\n",
    "35.14627776, 126.9230903"
   ]
  },
  {
   "cell_type": "code",
   "execution_count": 2,
   "id": "cf9fe877",
   "metadata": {},
   "outputs": [],
   "source": [
    "# 좌표 lon, lat 필요한 장소 위도경도 찾아서 바꿔주기\n",
    "\n",
    "# 지금은 광주 동구 좌표로 설정해둠.\n",
    "res = req.get(\"https://api.openweathermap.org/data/2.5/weather?lat=35.14627776&lon=126.9230903&appid=31a98734eb4d3ec93765a996e12a23f3\")"
   ]
  },
  {
   "cell_type": "code",
   "execution_count": 3,
   "id": "584c2195",
   "metadata": {},
   "outputs": [],
   "source": [
    "# 전국 위도경도 사이트\n",
    "# https://blog.naver.com/PostView.naver?blogId=kiakass&logNo=222449339999&from=search&redirect=Log&widgetTypeCall=true&directAccess=false"
   ]
  },
  {
   "cell_type": "code",
   "execution_count": 4,
   "id": "3ce1139a",
   "metadata": {},
   "outputs": [
    {
     "data": {
      "text/plain": [
       "'{\"coord\":{\"lon\":126.9231,\"lat\":35.1463},\"weather\":[{\"id\":802,\"main\":\"Clouds\",\"description\":\"scattered clouds\",\"icon\":\"03d\"}],\"base\":\"stations\",\"main\":{\"temp\":285.78,\"feels_like\":284.53,\"temp_min\":285.78,\"temp_max\":285.78,\"pressure\":1021,\"humidity\":55,\"sea_level\":1021,\"grnd_level\":1015},\"visibility\":10000,\"wind\":{\"speed\":5.71,\"deg\":338,\"gust\":8.93},\"clouds\":{\"all\":33},\"dt\":1666570622,\"sys\":{\"country\":\"KR\",\"sunrise\":1666561530,\"sunset\":1666601241},\"timezone\":32400,\"id\":1841811,\"name\":\"Gwangju\",\"cod\":200}'"
      ]
     },
     "execution_count": 4,
     "metadata": {},
     "output_type": "execute_result"
    }
   ],
   "source": [
    "res.text"
   ]
  },
  {
   "cell_type": "code",
   "execution_count": 5,
   "id": "46761ace",
   "metadata": {},
   "outputs": [
    {
     "data": {
      "text/plain": [
       "{'coord': {'lon': 126.9231, 'lat': 35.1463},\n",
       " 'weather': [{'id': 802,\n",
       "   'main': 'Clouds',\n",
       "   'description': 'scattered clouds',\n",
       "   'icon': '03d'}],\n",
       " 'base': 'stations',\n",
       " 'main': {'temp': 285.78,\n",
       "  'feels_like': 284.53,\n",
       "  'temp_min': 285.78,\n",
       "  'temp_max': 285.78,\n",
       "  'pressure': 1021,\n",
       "  'humidity': 55,\n",
       "  'sea_level': 1021,\n",
       "  'grnd_level': 1015},\n",
       " 'visibility': 10000,\n",
       " 'wind': {'speed': 5.71, 'deg': 338, 'gust': 8.93},\n",
       " 'clouds': {'all': 33},\n",
       " 'dt': 1666570622,\n",
       " 'sys': {'country': 'KR', 'sunrise': 1666561530, 'sunset': 1666601241},\n",
       " 'timezone': 32400,\n",
       " 'id': 1841811,\n",
       " 'name': 'Gwangju',\n",
       " 'cod': 200}"
      ]
     },
     "execution_count": 5,
     "metadata": {},
     "output_type": "execute_result"
    }
   ],
   "source": [
    "result = json.loads(res.text)\n",
    "result\n",
    "\n",
    "# 위도경도, 날씨, 현재온도, 체감온도, 최고기온, 최저기온, 습도, 풍향풍속, 구름, 장소\n",
    "# temp − 273.15 => 섭씨온도로 변환해서 사용해야함\n"
   ]
  },
  {
   "cell_type": "code",
   "execution_count": 6,
   "id": "3b9fa094",
   "metadata": {},
   "outputs": [
    {
     "data": {
      "text/plain": [
       "13"
      ]
     },
     "execution_count": 6,
     "metadata": {},
     "output_type": "execute_result"
    }
   ],
   "source": [
    "len(result)"
   ]
  },
  {
   "cell_type": "code",
   "execution_count": 7,
   "id": "6f5e1532",
   "metadata": {},
   "outputs": [
    {
     "data": {
      "text/plain": [
       "dict_keys(['coord', 'weather', 'base', 'main', 'visibility', 'wind', 'clouds', 'dt', 'sys', 'timezone', 'id', 'name', 'cod'])"
      ]
     },
     "execution_count": 7,
     "metadata": {},
     "output_type": "execute_result"
    }
   ],
   "source": [
    "result.keys()"
   ]
  },
  {
   "cell_type": "code",
   "execution_count": 8,
   "id": "b942748f",
   "metadata": {},
   "outputs": [
    {
     "data": {
      "text/plain": [
       "dict_values([{'lon': 126.9231, 'lat': 35.1463}, [{'id': 802, 'main': 'Clouds', 'description': 'scattered clouds', 'icon': '03d'}], 'stations', {'temp': 285.78, 'feels_like': 284.53, 'temp_min': 285.78, 'temp_max': 285.78, 'pressure': 1021, 'humidity': 55, 'sea_level': 1021, 'grnd_level': 1015}, 10000, {'speed': 5.71, 'deg': 338, 'gust': 8.93}, {'all': 33}, 1666570622, {'country': 'KR', 'sunrise': 1666561530, 'sunset': 1666601241}, 32400, 1841811, 'Gwangju', 200])"
      ]
     },
     "execution_count": 8,
     "metadata": {},
     "output_type": "execute_result"
    }
   ],
   "source": [
    "result.values()"
   ]
  },
  {
   "cell_type": "code",
   "execution_count": 9,
   "id": "cbd0c627",
   "metadata": {},
   "outputs": [
    {
     "name": "stdout",
     "output_type": "stream",
     "text": [
      "True\n"
     ]
    }
   ],
   "source": [
    "print(\"weather\" in result)"
   ]
  },
  {
   "cell_type": "code",
   "execution_count": 10,
   "id": "e7c8955f",
   "metadata": {},
   "outputs": [
    {
     "name": "stdout",
     "output_type": "stream",
     "text": [
      "Clouds\n"
     ]
    }
   ],
   "source": [
    "print(result[\"weather\"][0]['main'])"
   ]
  },
  {
   "cell_type": "code",
   "execution_count": null,
   "id": "d5239f2a",
   "metadata": {},
   "outputs": [],
   "source": []
  },
  {
   "cell_type": "code",
   "execution_count": null,
   "id": "edf54252",
   "metadata": {},
   "outputs": [],
   "source": []
  },
  {
   "cell_type": "code",
   "execution_count": null,
   "id": "febf28ac",
   "metadata": {},
   "outputs": [],
   "source": []
  },
  {
   "cell_type": "code",
   "execution_count": null,
   "id": "a10d342f",
   "metadata": {},
   "outputs": [],
   "source": []
  },
  {
   "cell_type": "code",
   "execution_count": null,
   "id": "24a7f0a2",
   "metadata": {},
   "outputs": [],
   "source": []
  },
  {
   "cell_type": "code",
   "execution_count": null,
   "id": "ccac93ac",
   "metadata": {},
   "outputs": [],
   "source": []
  },
  {
   "cell_type": "code",
   "execution_count": null,
   "id": "8339ce7f",
   "metadata": {},
   "outputs": [],
   "source": []
  },
  {
   "cell_type": "code",
   "execution_count": null,
   "id": "d495eba5",
   "metadata": {},
   "outputs": [],
   "source": []
  },
  {
   "cell_type": "code",
   "execution_count": null,
   "id": "586d3955",
   "metadata": {},
   "outputs": [],
   "source": []
  },
  {
   "cell_type": "code",
   "execution_count": null,
   "id": "6dafd930",
   "metadata": {},
   "outputs": [],
   "source": []
  },
  {
   "cell_type": "code",
   "execution_count": null,
   "id": "9793721c",
   "metadata": {},
   "outputs": [],
   "source": []
  }
 ],
 "metadata": {
  "kernelspec": {
   "display_name": "Python 3 (ipykernel)",
   "language": "python",
   "name": "python3"
  },
  "language_info": {
   "codemirror_mode": {
    "name": "ipython",
    "version": 3
   },
   "file_extension": ".py",
   "mimetype": "text/x-python",
   "name": "python",
   "nbconvert_exporter": "python",
   "pygments_lexer": "ipython3",
   "version": "3.9.12"
  },
  "toc": {
   "base_numbering": 1,
   "nav_menu": {},
   "number_sections": true,
   "sideBar": true,
   "skip_h1_title": false,
   "title_cell": "Table of Contents",
   "title_sidebar": "Contents",
   "toc_cell": false,
   "toc_position": {},
   "toc_section_display": true,
   "toc_window_display": false
  }
 },
 "nbformat": 4,
 "nbformat_minor": 5
}
